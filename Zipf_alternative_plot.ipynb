{
 "cells": [
  {
   "cell_type": "markdown",
   "metadata": {},
   "source": [
    "### Different method for highlighting Zipf's law  \n",
    "  \n",
    "Scatter plots on log-log scale are often used to demonstrate the degree to which a data set follows Zipf's law. This workbook demonstrates a method for building that type of plot, based on code taken from [here](https://stats.stackexchange.com/questions/331219/characterizing-fitting-word-count-data-into-zipf-power-law-lognormal)"
   ]
  },
  {
   "cell_type": "code",
   "execution_count": 1,
   "metadata": {},
   "outputs": [
    {
     "name": "stderr",
     "output_type": "stream",
     "text": [
      "[nltk_data] Downloading package stopwords to\n",
      "[nltk_data]     /Users/simonhodgkinson/nltk_data...\n",
      "[nltk_data]   Package stopwords is already up-to-date!\n"
     ]
    }
   ],
   "source": [
    "import custom_embedding_functions as embed\n",
    "import re\n",
    "import numpy as np\n",
    "import matplotlib.pyplot as plt\n",
    "\n",
    "from scipy import optimize\n",
    "from collections import Counter"
   ]
  },
  {
   "cell_type": "code",
   "execution_count": 2,
   "metadata": {},
   "outputs": [
    {
     "name": "stdout",
     "output_type": "stream",
     "text": [
      "\n",
      "Female_Authors: \n",
      "Document contains  44607 distinct words\n",
      "Total word count =  3826139\n"
     ]
    }
   ],
   "source": [
    "# Import full datasets without adjustments for now, ie include both punctuation and stop words\n",
    "\n",
    "text_data = ['Female_Authors']\n",
    "full_text = [0]*len(text_data)\n",
    "vocab_size = [0]*len(text_data)\n",
    "\n",
    "for n in range(len(text_data)):\n",
    "    clean = ''\n",
    "    with open('./Data/'+text_data[n]+'.txt', 'r') as file:\n",
    "        clean += file.read().lower()\n",
    "        clean = re.sub(\"[^a-z]\",\" \",clean) # take out punctuation and numbers\n",
    "        print('\\n'+text_data[n]+': ')\n",
    "        # Use our custom tokenization function to process the text and return basic information\n",
    "        full_text[n], vocab_size[n] = embed.tokenize(clean, exclude_stopwords=False)"
   ]
  },
  {
   "cell_type": "code",
   "execution_count": 3,
   "metadata": {},
   "outputs": [
    {
     "name": "stdout",
     "output_type": "stream",
     "text": [
      "      fun: 153058.08776107652\n",
      " hess_inv: array([[7.27508061e-06]])\n",
      "      jac: array([0.])\n",
      "  message: 'Optimization terminated successfully.'\n",
      "     nfev: 21\n",
      "      nit: 5\n",
      "     njev: 7\n",
      "   status: 0\n",
      "  success: True\n",
      "        x: array([1.35713498])\n"
     ]
    },
    {
     "data": {
      "text/plain": [
       "<matplotlib.legend.Legend at 0x1c2f465c88>"
      ]
     },
     "execution_count": 3,
     "metadata": {},
     "output_type": "execute_result"
    },
    {
     "data": {
      "image/png": "[encoded data removed]",
      "text/plain": [
       "<Figure size 432x288 with 1 Axes>"
      ]
     },
     "metadata": {
      "needs_background": "light"
     },
     "output_type": "display_data"
    }
   ],
   "source": [
    "counter_of_words = Counter(full_text[0])\n",
    "counter_of_counts = Counter(counter_of_words.values())\n",
    "\n",
    "# Sort data\n",
    "counter_of_counts = sorted(counter_of_counts.items(), key=lambda pair: pair[1], reverse=True)\n",
    "word_counts = np.asarray(counter_of_counts)[:,0]\n",
    "freq_of_word_counts = np.asarray(counter_of_counts)[:,1]\n",
    "\n",
    "\n",
    "f,ax = plt.subplots()\n",
    "ax.scatter(word_counts, freq_of_word_counts, label = \"data\")\n",
    "ax.set_xlabel('Word frequency')\n",
    "ax.set_ylabel('Number of such words')\n",
    "ax.set_xscale(\"log\")\n",
    "ax.set_yscale(\"log\")\n",
    "\n",
    "\n",
    "\n",
    "def loglik(b):  \n",
    "    # Power law function\n",
    "    Probabilities = word_counts**(-b)\n",
    "\n",
    "    # Normalized\n",
    "    Probabilities = Probabilities/Probabilities.sum()\n",
    "\n",
    "    # Log Likelihoood\n",
    "    Lvector = np.log(Probabilities)\n",
    "\n",
    "    # Multiply the vector by frequencies\n",
    "    Lvector = np.log(Probabilities) * freq_of_word_counts\n",
    "\n",
    "    # LL is the sum\n",
    "    L = Lvector.sum()\n",
    "\n",
    "    # We want to maximize LogLikelihood or minimize (-1)*LogLikelihood\n",
    "    return(-L)\n",
    "\n",
    "s_best = optimize.minimize(loglik, [1])\n",
    "print(s_best)\n",
    "ax.plot(word_counts[0:2*10**2], 4*10**4*word_counts[0:2*10**2]**-s_best.x, '--', color=\"orange\", lw=3, label = \"fitted MLE\")\n",
    "ax.legend()"
   ]
  }
 ],
 "metadata": {
  "kernelspec": {
   "display_name": "Python 3",
   "language": "python",
   "name": "python3"
  },
  "language_info": {
   "codemirror_mode": {
    "name": "ipython",
    "version": 3
   },
   "file_extension": ".py",
   "mimetype": "text/x-python",
   "name": "python",
   "nbconvert_exporter": "python",
   "pygments_lexer": "ipython3",
   "version": "3.6.8"
  }
 },
 "nbformat": 4,
 "nbformat_minor": 2
}

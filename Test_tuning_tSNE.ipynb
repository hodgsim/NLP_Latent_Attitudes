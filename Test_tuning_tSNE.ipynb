{
 "cells": [
  {
   "cell_type": "markdown",
   "metadata": {},
   "source": [
    "# Test workbook  \n",
    "### Various iterations to examine the visual impact of changing parameters in sklearn.manifold.TSNE\n",
    "### Additional check to ensure that the embeddings generated using the TensorFlow code show similar relationships to those generated using the full w2v implementation in gensim"
   ]
  },
  {
   "cell_type": "code",
   "execution_count": 1,
   "metadata": {},
   "outputs": [
    {
     "name": "stderr",
     "output_type": "stream",
     "text": [
      "[nltk_data] Downloading package stopwords to\n",
      "[nltk_data]     /Users/simonhodgkinson/nltk_data...\n",
      "[nltk_data]   Package stopwords is already up-to-date!\n"
     ]
    },
    {
     "data": {
      "text/html": [
       "\n",
       "    <div class=\"bk-root\">\n",
       "        <a href=\"https://bokeh.pydata.org\" target=\"_blank\" class=\"bk-logo bk-logo-small bk-logo-notebook\"></a>\n",
       "        <span id=\"1001\">Loading BokehJS ...</span>\n",
       "    </div>"
      ]
     },
     "metadata": {},
     "output_type": "display_data"
    },
    {
     "data": {
      "application/javascript": [
       "\n",
       "(function(root) {\n",
       "  function now() {\n",
       "    return new Date();\n",
       "  }\n",
       "\n",
       "  var force = true;\n",
       "\n",
       "  if (typeof root._bokeh_onload_callbacks === \"undefined\" || force === true) {\n",
       "    root._bokeh_onload_callbacks = [];\n",
       "    root._bokeh_is_loading = undefined;\n",
       "  }\n",
       "\n",
       "  var JS_MIME_TYPE = 'application/javascript';\n",
       "  var HTML_MIME_TYPE = 'text/html';\n",
       "  var EXEC_MIME_TYPE = 'application/vnd.bokehjs_exec.v0+json';\n",
       "  var CLASS_NAME = 'output_bokeh rendered_html';\n",
       "\n",
       "  /**\n",
       "   * Render data to the DOM node\n",
       "   */\n",
       "  function render(props, node) {\n",
       "    var script = document.createElement(\"script\");\n",
       "    node.appendChild(script);\n",
       "  }\n",
       "\n",
       "  /**\n",
       "   * Handle when an output is cleared or removed\n",
       "   */\n",
       "  function handleClearOutput(event, handle) {\n",
       "    var cell = handle.cell;\n",
       "\n",
       "    var id = cell.output_area._bokeh_element_id;\n",
       "    var server_id = cell.output_area._bokeh_server_id;\n",
       "    // Clean up Bokeh references\n",
       "    if (id != null && id in Bokeh.index) {\n",
       "      Bokeh.index[id].model.document.clear();\n",
       "      delete Bokeh.index[id];\n",
       "    }\n",
       "\n",
       "    if (server_id !== undefined) {\n",
       "      // Clean up Bokeh references\n",
       "      var cmd = \"from bokeh.io.state import curstate; print(curstate().uuid_to_server['\" + server_id + \"'].get_sessions()[0].document.roots[0]._id)\";\n",
       "      cell.notebook.kernel.execute(cmd, {\n",
       "        iopub: {\n",
       "          output: function(msg) {\n",
       "            var id = msg.content.text.trim();\n",
       "            if (id in Bokeh.index) {\n",
       "              Bokeh.index[id].model.document.clear();\n",
       "              delete Bokeh.index[id];\n",
       "            }\n",
       "          }\n",
       "        }\n",
       "      });\n",
       "      // Destroy server and session\n",
       "      var cmd = \"import bokeh.io.notebook as ion; ion.destroy_server('\" + server_id + \"')\";\n",
       "      cell.notebook.kernel.execute(cmd);\n",
       "    }\n",
       "  }\n",
       "\n",
       "  /**\n",
       "   * Handle when a new output is added\n",
       "   */\n",
       "  function handleAddOutput(event, handle) {\n",
       "    var output_area = handle.output_area;\n",
       "    var output = handle.output;\n",
       "\n",
       "    // limit handleAddOutput to display_data with EXEC_MIME_TYPE content only\n",
       "    if ((output.output_type != \"display_data\") || (!output.data.hasOwnProperty(EXEC_MIME_TYPE))) {\n",
       "      return\n",
       "    }\n",
       "\n",
       "    var toinsert = output_area.element.find(\".\" + CLASS_NAME.split(' ')[0]);\n",
       "\n",
       "    if (output.metadata[EXEC_MIME_TYPE][\"id\"] !== undefined) {\n",
       "      toinsert[toinsert.length - 1].firstChild.textContent = output.data[JS_MIME_TYPE];\n",
       "      // store reference to embed id on output_area\n",
       "      output_area._bokeh_element_id = output.metadata[EXEC_MIME_TYPE][\"id\"];\n",
       "    }\n",
       "    if (output.metadata[EXEC_MIME_TYPE][\"server_id\"] !== undefined) {\n",
       "      var bk_div = document.createElement(\"div\");\n",
       "      bk_div.innerHTML = output.data[HTML_MIME_TYPE];\n",
       "      var script_attrs = bk_div.children[0].attributes;\n",
       "      for (var i = 0; i < script_attrs.length; i++) {\n",
       "        toinsert[toinsert.length - 1].firstChild.setAttribute(script_attrs[i].name, script_attrs[i].value);\n",
       "      }\n",
       "      // store reference to server id on output_area\n",
       "      output_area._bokeh_server_id = output.metadata[EXEC_MIME_TYPE][\"server_id\"];\n",
       "    }\n",
       "  }\n",
       "\n",
       "  function register_renderer(events, OutputArea) {\n",
       "\n",
       "    function append_mime(data, metadata, element) {\n",
       "      // create a DOM node to render to\n",
       "      var toinsert = this.create_output_subarea(\n",
       "        metadata,\n",
       "        CLASS_NAME,\n",
       "        EXEC_MIME_TYPE\n",
       "      );\n",
       "      this.keyboard_manager.register_events(toinsert);\n",
       "      // Render to node\n",
       "      var props = {data: data, metadata: metadata[EXEC_MIME_TYPE]};\n",
       "      render(props, toinsert[toinsert.length - 1]);\n",
       "      element.append(toinsert);\n",
       "      return toinsert\n",
       "    }\n",
       "\n",
       "    /* Handle when an output is cleared or removed */\n",
       "    events.on('clear_output.CodeCell', handleClearOutput);\n",
       "    events.on('delete.Cell', handleClearOutput);\n",
       "\n",
       "    /* Handle when a new output is added */\n",
       "    events.on('output_added.OutputArea', handleAddOutput);\n",
       "\n",
       "    /**\n",
       "     * Register the mime type and append_mime function with output_area\n",
       "     */\n",
       "    OutputArea.prototype.register_mime_type(EXEC_MIME_TYPE, append_mime, {\n",
       "      /* Is output safe? */\n",
       "      safe: true,\n",
       "      /* Index of renderer in `output_area.display_order` */\n",
       "      index: 0\n",
       "    });\n",
       "  }\n",
       "\n",
       "  // register the mime type if in Jupyter Notebook environment and previously unregistered\n",
       "  if (root.Jupyter !== undefined) {\n",
       "    var events = require('base/js/events');\n",
       "    var OutputArea = require('notebook/js/outputarea').OutputArea;\n",
       "\n",
       "    if (OutputArea.prototype.mime_types().indexOf(EXEC_MIME_TYPE) == -1) {\n",
       "      register_renderer(events, OutputArea);\n",
       "    }\n",
       "  }\n",
       "\n",
       "  \n",
       "  if (typeof (root._bokeh_timeout) === \"undefined\" || force === true) {\n",
       "    root._bokeh_timeout = Date.now() + 5000;\n",
       "    root._bokeh_failed_load = false;\n",
       "  }\n",
       "\n",
       "  var NB_LOAD_WARNING = {'data': {'text/html':\n",
       "     \"<div style='background-color: #fdd'>\\n\"+\n",
       "     \"<p>\\n\"+\n",
       "     \"BokehJS does not appear to have successfully loaded. If loading BokehJS from CDN, this \\n\"+\n",
       "     \"may be due to a slow or bad network connection. Possible fixes:\\n\"+\n",
       "     \"</p>\\n\"+\n",
       "     \"<ul>\\n\"+\n",
       "     \"<li>re-rerun `output_notebook()` to attempt to load from CDN again, or</li>\\n\"+\n",
       "     \"<li>use INLINE resources instead, as so:</li>\\n\"+\n",
       "     \"</ul>\\n\"+\n",
       "     \"<code>\\n\"+\n",
       "     \"from bokeh.resources import INLINE\\n\"+\n",
       "     \"output_notebook(resources=INLINE)\\n\"+\n",
       "     \"</code>\\n\"+\n",
       "     \"</div>\"}};\n",
       "\n",
       "  function display_loaded() {\n",
       "    var el = document.getElementById(\"1001\");\n",
       "    if (el != null) {\n",
       "      el.textContent = \"BokehJS is loading...\";\n",
       "    }\n",
       "    if (root.Bokeh !== undefined) {\n",
       "      if (el != null) {\n",
       "        el.textContent = \"BokehJS \" + root.Bokeh.version + \" successfully loaded.\";\n",
       "      }\n",
       "    } else if (Date.now() < root._bokeh_timeout) {\n",
       "      setTimeout(display_loaded, 100)\n",
       "    }\n",
       "  }\n",
       "\n",
       "\n",
       "  function run_callbacks() {\n",
       "    try {\n",
       "      root._bokeh_onload_callbacks.forEach(function(callback) {\n",
       "        if (callback != null)\n",
       "          callback();\n",
       "      });\n",
       "    } finally {\n",
       "      delete root._bokeh_onload_callbacks\n",
       "    }\n",
       "    console.debug(\"Bokeh: all callbacks have finished\");\n",
       "  }\n",
       "\n",
       "  function load_libs(css_urls, js_urls, callback) {\n",
       "    if (css_urls == null) css_urls = [];\n",
       "    if (js_urls == null) js_urls = [];\n",
       "\n",
       "    root._bokeh_onload_callbacks.push(callback);\n",
       "    if (root._bokeh_is_loading > 0) {\n",
       "      console.debug(\"Bokeh: BokehJS is being loaded, scheduling callback at\", now());\n",
       "      return null;\n",
       "    }\n",
       "    if (js_urls == null || js_urls.length === 0) {\n",
       "      run_callbacks();\n",
       "      return null;\n",
       "    }\n",
       "    console.debug(\"Bokeh: BokehJS not loaded, scheduling load and callback at\", now());\n",
       "    root._bokeh_is_loading = css_urls.length + js_urls.length;\n",
       "\n",
       "    function on_load() {\n",
       "      root._bokeh_is_loading--;\n",
       "      if (root._bokeh_is_loading === 0) {\n",
       "        console.debug(\"Bokeh: all BokehJS libraries/stylesheets loaded\");\n",
       "        run_callbacks()\n",
       "      }\n",
       "    }\n",
       "\n",
       "    function on_error() {\n",
       "      console.error(\"failed to load \" + url);\n",
       "    }\n",
       "\n",
       "    for (var i = 0; i < css_urls.length; i++) {\n",
       "      var url = css_urls[i];\n",
       "      const element = document.createElement(\"link\");\n",
       "      element.onload = on_load;\n",
       "      element.onerror = on_error;\n",
       "      element.rel = \"stylesheet\";\n",
       "      element.type = \"text/css\";\n",
       "      element.href = url;\n",
       "      console.debug(\"Bokeh: injecting link tag for BokehJS stylesheet: \", url);\n",
       "      document.body.appendChild(element);\n",
       "    }\n",
       "\n",
       "    for (var i = 0; i < js_urls.length; i++) {\n",
       "      var url = js_urls[i];\n",
       "      var element = document.createElement('script');\n",
       "      element.onload = on_load;\n",
       "      element.onerror = on_error;\n",
       "      element.async = false;\n",
       "      element.src = url;\n",
       "      console.debug(\"Bokeh: injecting script tag for BokehJS library: \", url);\n",
       "      document.head.appendChild(element);\n",
       "    }\n",
       "  };var element = document.getElementById(\"1001\");\n",
       "  if (element == null) {\n",
       "    console.error(\"Bokeh: ERROR: autoload.js configured with elementid '1001' but no matching script tag was found. \")\n",
       "    return false;\n",
       "  }\n",
       "\n",
       "  function inject_raw_css(css) {\n",
       "    const element = document.createElement(\"style\");\n",
       "    element.appendChild(document.createTextNode(css));\n",
       "    document.body.appendChild(element);\n",
       "  }\n",
       "\n",
       "  var js_urls = [\"https://cdn.pydata.org/bokeh/release/bokeh-1.1.0.min.js\", \"https://cdn.pydata.org/bokeh/release/bokeh-widgets-1.1.0.min.js\", \"https://cdn.pydata.org/bokeh/release/bokeh-tables-1.1.0.min.js\", \"https://cdn.pydata.org/bokeh/release/bokeh-gl-1.1.0.min.js\"];\n",
       "  var css_urls = [\"https://cdn.pydata.org/bokeh/release/bokeh-1.1.0.min.css\", \"https://cdn.pydata.org/bokeh/release/bokeh-widgets-1.1.0.min.css\", \"https://cdn.pydata.org/bokeh/release/bokeh-tables-1.1.0.min.css\"];\n",
       "\n",
       "  var inline_js = [\n",
       "    function(Bokeh) {\n",
       "      Bokeh.set_log_level(\"info\");\n",
       "    },\n",
       "    \n",
       "    function(Bokeh) {\n",
       "      \n",
       "    },\n",
       "    function(Bokeh) {} // ensure no trailing comma for IE\n",
       "  ];\n",
       "\n",
       "  function run_inline_js() {\n",
       "    \n",
       "    if ((root.Bokeh !== undefined) || (force === true)) {\n",
       "      for (var i = 0; i < inline_js.length; i++) {\n",
       "        inline_js[i].call(root, root.Bokeh);\n",
       "      }if (force === true) {\n",
       "        display_loaded();\n",
       "      }} else if (Date.now() < root._bokeh_timeout) {\n",
       "      setTimeout(run_inline_js, 100);\n",
       "    } else if (!root._bokeh_failed_load) {\n",
       "      console.log(\"Bokeh: BokehJS failed to load within specified timeout.\");\n",
       "      root._bokeh_failed_load = true;\n",
       "    } else if (force !== true) {\n",
       "      var cell = $(document.getElementById(\"1001\")).parents('.cell').data().cell;\n",
       "      cell.output_area.append_execute_result(NB_LOAD_WARNING)\n",
       "    }\n",
       "\n",
       "  }\n",
       "\n",
       "  if (root._bokeh_is_loading === 0) {\n",
       "    console.debug(\"Bokeh: BokehJS loaded, going straight to plotting\");\n",
       "    run_inline_js();\n",
       "  } else {\n",
       "    load_libs(css_urls, js_urls, function() {\n",
       "      console.debug(\"Bokeh: BokehJS plotting callback run at\", now());\n",
       "      run_inline_js();\n",
       "    });\n",
       "  }\n",
       "}(window));"
      ],
      "application/vnd.bokehjs_load.v0+json": "\n(function(root) {\n  function now() {\n    return new Date();\n  }\n\n  var force = true;\n\n  if (typeof root._bokeh_onload_callbacks === \"undefined\" || force === true) {\n    root._bokeh_onload_callbacks = [];\n    root._bokeh_is_loading = undefined;\n  }\n\n  \n\n  \n  if (typeof (root._bokeh_timeout) === \"undefined\" || force === true) {\n    root._bokeh_timeout = Date.now() + 5000;\n    root._bokeh_failed_load = false;\n  }\n\n  var NB_LOAD_WARNING = {'data': {'text/html':\n     \"<div style='background-color: #fdd'>\\n\"+\n     \"<p>\\n\"+\n     \"BokehJS does not appear to have successfully loaded. If loading BokehJS from CDN, this \\n\"+\n     \"may be due to a slow or bad network connection. Possible fixes:\\n\"+\n     \"</p>\\n\"+\n     \"<ul>\\n\"+\n     \"<li>re-rerun `output_notebook()` to attempt to load from CDN again, or</li>\\n\"+\n     \"<li>use INLINE resources instead, as so:</li>\\n\"+\n     \"</ul>\\n\"+\n     \"<code>\\n\"+\n     \"from bokeh.resources import INLINE\\n\"+\n     \"output_notebook(resources=INLINE)\\n\"+\n     \"</code>\\n\"+\n     \"</div>\"}};\n\n  function display_loaded() {\n    var el = document.getElementById(\"1001\");\n    if (el != null) {\n      el.textContent = \"BokehJS is loading...\";\n    }\n    if (root.Bokeh !== undefined) {\n      if (el != null) {\n        el.textContent = \"BokehJS \" + root.Bokeh.version + \" successfully loaded.\";\n      }\n    } else if (Date.now() < root._bokeh_timeout) {\n      setTimeout(display_loaded, 100)\n    }\n  }\n\n\n  function run_callbacks() {\n    try {\n      root._bokeh_onload_callbacks.forEach(function(callback) {\n        if (callback != null)\n          callback();\n      });\n    } finally {\n      delete root._bokeh_onload_callbacks\n    }\n    console.debug(\"Bokeh: all callbacks have finished\");\n  }\n\n  function load_libs(css_urls, js_urls, callback) {\n    if (css_urls == null) css_urls = [];\n    if (js_urls == null) js_urls = [];\n\n    root._bokeh_onload_callbacks.push(callback);\n    if (root._bokeh_is_loading > 0) {\n      console.debug(\"Bokeh: BokehJS is being loaded, scheduling callback at\", now());\n      return null;\n    }\n    if (js_urls == null || js_urls.length === 0) {\n      run_callbacks();\n      return null;\n    }\n    console.debug(\"Bokeh: BokehJS not loaded, scheduling load and callback at\", now());\n    root._bokeh_is_loading = css_urls.length + js_urls.length;\n\n    function on_load() {\n      root._bokeh_is_loading--;\n      if (root._bokeh_is_loading === 0) {\n        console.debug(\"Bokeh: all BokehJS libraries/stylesheets loaded\");\n        run_callbacks()\n      }\n    }\n\n    function on_error() {\n      console.error(\"failed to load \" + url);\n    }\n\n    for (var i = 0; i < css_urls.length; i++) {\n      var url = css_urls[i];\n      const element = document.createElement(\"link\");\n      element.onload = on_load;\n      element.onerror = on_error;\n      element.rel = \"stylesheet\";\n      element.type = \"text/css\";\n      element.href = url;\n      console.debug(\"Bokeh: injecting link tag for BokehJS stylesheet: \", url);\n      document.body.appendChild(element);\n    }\n\n    for (var i = 0; i < js_urls.length; i++) {\n      var url = js_urls[i];\n      var element = document.createElement('script');\n      element.onload = on_load;\n      element.onerror = on_error;\n      element.async = false;\n      element.src = url;\n      console.debug(\"Bokeh: injecting script tag for BokehJS library: \", url);\n      document.head.appendChild(element);\n    }\n  };var element = document.getElementById(\"1001\");\n  if (element == null) {\n    console.error(\"Bokeh: ERROR: autoload.js configured with elementid '1001' but no matching script tag was found. \")\n    return false;\n  }\n\n  function inject_raw_css(css) {\n    const element = document.createElement(\"style\");\n    element.appendChild(document.createTextNode(css));\n    document.body.appendChild(element);\n  }\n\n  var js_urls = [\"https://cdn.pydata.org/bokeh/release/bokeh-1.1.0.min.js\", \"https://cdn.pydata.org/bokeh/release/bokeh-widgets-1.1.0.min.js\", \"https://cdn.pydata.org/bokeh/release/bokeh-tables-1.1.0.min.js\", \"https://cdn.pydata.org/bokeh/release/bokeh-gl-1.1.0.min.js\"];\n  var css_urls = [\"https://cdn.pydata.org/bokeh/release/bokeh-1.1.0.min.css\", \"https://cdn.pydata.org/bokeh/release/bokeh-widgets-1.1.0.min.css\", \"https://cdn.pydata.org/bokeh/release/bokeh-tables-1.1.0.min.css\"];\n\n  var inline_js = [\n    function(Bokeh) {\n      Bokeh.set_log_level(\"info\");\n    },\n    \n    function(Bokeh) {\n      \n    },\n    function(Bokeh) {} // ensure no trailing comma for IE\n  ];\n\n  function run_inline_js() {\n    \n    if ((root.Bokeh !== undefined) || (force === true)) {\n      for (var i = 0; i < inline_js.length; i++) {\n        inline_js[i].call(root, root.Bokeh);\n      }if (force === true) {\n        display_loaded();\n      }} else if (Date.now() < root._bokeh_timeout) {\n      setTimeout(run_inline_js, 100);\n    } else if (!root._bokeh_failed_load) {\n      console.log(\"Bokeh: BokehJS failed to load within specified timeout.\");\n      root._bokeh_failed_load = true;\n    } else if (force !== true) {\n      var cell = $(document.getElementById(\"1001\")).parents('.cell').data().cell;\n      cell.output_area.append_execute_result(NB_LOAD_WARNING)\n    }\n\n  }\n\n  if (root._bokeh_is_loading === 0) {\n    console.debug(\"Bokeh: BokehJS loaded, going straight to plotting\");\n    run_inline_js();\n  } else {\n    load_libs(css_urls, js_urls, function() {\n      console.debug(\"Bokeh: BokehJS plotting callback run at\", now());\n      run_inline_js();\n    });\n  }\n}(window));"
     },
     "metadata": {},
     "output_type": "display_data"
    }
   ],
   "source": [
    "import custom_embedding_functions as embed\n",
    "\n",
    "import numpy as np\n",
    "import pandas as pd\n",
    "import re\n",
    "import os\n",
    "import bokeh.plotting as bp\n",
    "from bokeh.models import HoverTool, LabelSet\n",
    "from bokeh.io import output_notebook\n",
    "from nltk.corpus import stopwords\n",
    "from scipy import stats, optimize\n",
    "from sklearn.manifold import TSNE\n",
    "from six.moves import xrange\n",
    "from tempfile import gettempdir\n",
    "from sklearn.metrics.pairwise import cosine_similarity\n",
    "from gensim.models import KeyedVectors\n",
    "from collections import OrderedDict\n",
    "bp.output_notebook()"
   ]
  },
  {
   "cell_type": "code",
   "execution_count": 2,
   "metadata": {},
   "outputs": [
    {
     "name": "stdout",
     "output_type": "stream",
     "text": [
      "Document contains  74946 distinct words\n",
      "Total word count =  5350737\n",
      "Initialized\n",
      "Average loss at step  0 :  82.4874496459961\n",
      "Average loss at step  20000 :  8.894759816868604\n",
      "Average loss at step  40000 :  3.814242089881748\n",
      "Average loss at step  60000 :  3.7127262602224946\n",
      "Average loss at step  80000 :  3.7116149370133877\n",
      "Average loss at step  100000 :  3.6538093282818793\n",
      "Embedding matrix shape:  (10000, 100)\n"
     ]
    }
   ],
   "source": [
    "# Load and process data\n",
    "clean = ''\n",
    "with open('../Data/Movie_Scripts.txt', 'r') as file:\n",
    "    clean += file.read().lower()\n",
    "    clean = re.sub(\"[^a-z]\",\" \",clean)\n",
    "    full_text, _ = embed.tokenize(clean, exclude_stopwords=True)\n",
    "        \n",
    "data, count, dictionary, reversed_dictionary = embed.build_dataset(full_text, 10000)\n",
    "\n",
    "# Train embedding layer of NN to get weights (ie vector representations of the words)\n",
    "final_embeddings = embed.build_graph_and_train(data, batch_size=100, \n",
    "                                         embedding_size=100, \n",
    "                                         skip_window=1, \n",
    "                                         num_skips=2, \n",
    "                                         num_sampled=20)\n",
    "\n",
    "# Check that the output is as expected, ie an v*n matrix where v = vocab and n=embedding dimensions\n",
    "print(\"Embedding matrix shape: \", final_embeddings.shape)\n"
   ]
  },
  {
   "cell_type": "markdown",
   "metadata": {},
   "source": [
    "#### a) Perplexity = 30, learning_rate=200, iterations = 5000"
   ]
  },
  {
   "cell_type": "code",
   "execution_count": 3,
   "metadata": {
    "scrolled": true
   },
   "outputs": [
    {
     "data": {
      "text/html": [
       "\n",
       "\n",
       "\n",
       "\n",
       "\n",
       "\n",
       "  <div class=\"bk-root\" id=\"fa4d12ca-72c5-4847-8269-a71c3f66ddd1\" data-root-id=\"1002\"></div>\n"
      ]
     },
     "metadata": {},
     "output_type": "display_data"
    },
    {
     "data": {
      "application/javascript": [
       "(function(root) {\n",
       "  function embed_document(root) {\n",
       "    \n",
       "  var docs_json = {\"8c9fc5cb-9c5c-4e66-aa59-ac5837ddab25\":{\"roots\":{\"references\":[{\"attributes\":{\"below\":[{\"id\":\"1013\",\"type\":\"LinearAxis\"}],\"center\":[{\"id\":\"1017\",\"type\":\"Grid\"},{\"id\":\"1022\",\"type\":\"Grid\"},{\"id\":\"1038\",\"type\":\"LabelSet\"}],\"left\":[{\"id\":\"1018\",\"type\":\"LinearAxis\"}],\"plot_height\":750,\"plot_width\":750,\"renderers\":[{\"id\":\"1035\",\"type\":\"GlyphRenderer\"}],\"title\":{\"id\":\"1003\",\"type\":\"Title\"},\"toolbar\":{\"id\":\"1027\",\"type\":\"Toolbar\"},\"x_range\":{\"id\":\"1005\",\"type\":\"DataRange1d\"},\"x_scale\":{\"id\":\"1009\",\"type\":\"LinearScale\"},\"y_range\":{\"id\":\"1007\",\"type\":\"DataRange1d\"},\"y_scale\":{\"id\":\"1011\",\"type\":\"LinearScale\"}},\"id\":\"1002\",\"subtype\":\"Figure\",\"type\":\"Plot\"},{\"attributes\":{},\"id\":\"1023\",\"type\":\"ZoomInTool\"},{\"attributes\":{\"formatter\":{\"id\":\"1041\",\"type\":\"BasicTickFormatter\"},\"ticker\":{\"id\":\"1014\",\"type\":\"BasicTicker\"}},\"id\":\"1013\",\"type\":\"LinearAxis\"},{\"attributes\":{\"fill_alpha\":{\"value\":0.1},\"fill_color\":{\"value\":\"#1f77b4\"},\"line_alpha\":{\"value\":0.1},\"line_color\":{\"value\":\"#1f77b4\"},\"radius\":{\"units\":\"data\",\"value\":1},\"x\":{\"field\":\"x\"},\"y\":{\"field\":\"y\"}},\"id\":\"1034\",\"type\":\"Circle\"},{\"attributes\":{},\"id\":\"1024\",\"type\":\"ZoomOutTool\"},{\"attributes\":{},\"id\":\"1014\",\"type\":\"BasicTicker\"},{\"attributes\":{\"fill_alpha\":{\"value\":0.8},\"fill_color\":{\"field\":\"fill_color\"},\"line_color\":{\"value\":null},\"radius\":{\"units\":\"data\",\"value\":1},\"x\":{\"field\":\"x\"},\"y\":{\"field\":\"y\"}},\"id\":\"1033\",\"type\":\"Circle\"},{\"attributes\":{\"ticker\":{\"id\":\"1014\",\"type\":\"BasicTicker\"}},\"id\":\"1017\",\"type\":\"Grid\"},{\"attributes\":{\"formatter\":{\"id\":\"1043\",\"type\":\"BasicTickFormatter\"},\"ticker\":{\"id\":\"1019\",\"type\":\"BasicTicker\"}},\"id\":\"1018\",\"type\":\"LinearAxis\"},{\"attributes\":{\"text\":\"t-SNE projection of embeddings based on the text of movie scripts\"},\"id\":\"1003\",\"type\":\"Title\"},{\"attributes\":{},\"id\":\"1025\",\"type\":\"PanTool\"},{\"attributes\":{},\"id\":\"1043\",\"type\":\"BasicTickFormatter\"},{\"attributes\":{},\"id\":\"1026\",\"type\":\"SaveTool\"},{\"attributes\":{},\"id\":\"1019\",\"type\":\"BasicTicker\"},{\"attributes\":{},\"id\":\"1041\",\"type\":\"BasicTickFormatter\"},{\"attributes\":{},\"id\":\"1045\",\"type\":\"Selection\"},{\"attributes\":{\"callback\":null},\"id\":\"1005\",\"type\":\"DataRange1d\"},{\"attributes\":{\"active_drag\":\"auto\",\"active_inspect\":\"auto\",\"active_multi\":null,\"active_scroll\":\"auto\",\"active_tap\":\"auto\",\"tools\":[{\"id\":\"1023\",\"type\":\"ZoomInTool\"},{\"id\":\"1024\",\"type\":\"ZoomOutTool\"},{\"id\":\"1025\",\"type\":\"PanTool\"},{\"id\":\"1026\",\"type\":\"SaveTool\"}]},\"id\":\"1027\",\"type\":\"Toolbar\"},{\"attributes\":{\"callback\":null},\"id\":\"1007\",\"type\":\"DataRange1d\"},{\"attributes\":{\"source\":{\"id\":\"1032\",\"type\":\"ColumnDataSource\"}},\"id\":\"1036\",\"type\":\"CDSView\"},{\"attributes\":{},\"id\":\"1046\",\"type\":\"UnionRenderers\"},{\"attributes\":{},\"id\":\"1047\",\"type\":\"Selection\"},{\"attributes\":{\"dimension\":1,\"ticker\":{\"id\":\"1019\",\"type\":\"BasicTicker\"}},\"id\":\"1022\",\"type\":\"Grid\"},{\"attributes\":{},\"id\":\"1048\",\"type\":\"UnionRenderers\"},{\"attributes\":{\"data_source\":{\"id\":\"1032\",\"type\":\"ColumnDataSource\"},\"glyph\":{\"id\":\"1033\",\"type\":\"Circle\"},\"hover_glyph\":null,\"muted_glyph\":null,\"nonselection_glyph\":{\"id\":\"1034\",\"type\":\"Circle\"},\"selection_glyph\":null,\"view\":{\"id\":\"1036\",\"type\":\"CDSView\"}},\"id\":\"1035\",\"type\":\"GlyphRenderer\"},{\"attributes\":{},\"id\":\"1009\",\"type\":\"LinearScale\"},{\"attributes\":{\"callback\":null,\"data\":{\"lab\":[\"UNK\",\"back\",\"one\",\"looks\",\"like\",\"know\",\"get\",\"door\",\"see\",\"got\",\"right\",\"around\",\"go\",\"look\",\"man\",\"turns\",\"room\",\"away\",\"two\",\"want\",\"hand\",\"going\",\"face\",\"head\",\"eyes\",\"time\",\"think\",\"well\",\"come\",\"way\",\"something\",\"good\",\"takes\",\"little\",\"car\",\"still\",\"behind\",\"looking\",\"oh\",\"take\",\"us\",\"let\",\"hands\",\"tell\",\"open\",\"say\",\"beat\",\"toward\",\"starts\",\"another\",\"yes\",\"comes\",\"walks\",\"front\",\"goes\",\"pulls\",\"make\",\"would\",\"people\",\"could\",\"sits\",\"old\",\"na\",\"long\",\"across\",\"mr\",\"yeah\",\"never\",\"stands\",\"side\",\"phone\",\"table\",\"window\",\"first\",\"gets\",\"moves\",\"sees\",\"suddenly\",\"moment\",\"gon\",\"house\",\"floor\",\"next\",\"opens\",\"even\",\"really\",\"okay\",\"three\",\"nothing\",\"thing\",\"men\",\"last\",\"sure\",\"hear\",\"big\",\"smiles\",\"stops\",\"light\",\"much\",\"steps\",\"bed\",\"night\",\"mean\",\"need\",\"inside\",\"give\",\"new\",\"said\",\"wall\",\"gun\",\"find\",\"life\",\"street\",\"stares\",\"place\",\"water\",\"maybe\",\"day\",\"work\",\"feet\",\"anything\",\"dead\",\"puts\",\"trying\",\"stop\",\"love\",\"left\",\"move\",\"hey\",\"white\",\"small\",\"guy\",\"help\",\"reaches\",\"watches\",\"girl\",\"call\",\"slowly\",\"coming\",\"nods\",\"talk\",\"ever\",\"black\",\"grabs\",\"put\",\"sorry\",\"woman\",\"holds\",\"past\",\"money\",\"boy\",\"thought\",\"god\",\"along\",\"standing\",\"please\",\"things\",\"watch\",\"close\",\"arm\",\"enters\",\"better\",\"keep\",\"onto\",\"voice\",\"begins\",\"makes\",\"name\",\"runs\",\"shit\",\"end\",\"great\",\"body\",\"home\",\"getting\",\"seen\",\"watching\",\"half\",\"turn\",\"sir\",\"every\",\"jack\",\"hard\",\"must\",\"sound\",\"almost\",\"leave\",\"walk\",\"outside\",\"years\",\"air\",\"top\",\"picks\",\"hell\",\"everything\",\"talking\",\"lot\",\"sitting\",\"desk\",\"glass\",\"start\",\"towards\",\"holding\",\"says\",\"father\",\"told\",\"forward\",\"young\",\"red\",\"run\",\"shot\",\"tries\",\"believe\",\"always\",\"mouth\",\"five\",\"mother\",\"without\",\"smile\",\"gives\",\"blood\",\"made\",\"second\",\"stand\",\"fuck\",\"line\",\"wait\",\"dark\",\"cont\",\"fire\",\"hair\",\"four\",\"pause\",\"arms\",\"heard\",\"enough\",\"chair\",\"continues\",\"sit\",\"bad\",\"quickly\",\"feel\",\"together\",\"high\",\"lights\",\"john\",\"office\",\"finally\",\"ground\",\"kind\",\"hold\",\"moving\",\"someone\",\"world\",\"real\",\"corner\",\"full\",\"f\",\"guys\",\"thank\",\"alone\",\"shoulder\",\"large\",\"mind\",\"show\",\"running\",\"seat\",\"gone\",\"taking\",\"waiting\",\"mrs\",\"might\",\"shakes\",\"others\",\"kill\",\"else\",\"staring\",\"glances\",\"remember\",\"empty\",\"ta\",\"listen\",\"silence\",\"heads\",\"everyone\",\"seems\",\"course\",\"done\",\"falls\",\"far\",\"camera\",\"bag\",\"crowd\",\"try\",\"leans\",\"already\",\"wrong\",\"em\",\"frank\",\"stay\",\"whole\",\"walking\",\"understand\",\"fucking\",\"saw\",\"eye\",\"nice\",\"ahead\",\"set\",\"huh\",\"drops\",\"baby\",\"uh\",\"screen\",\"box\",\"building\",\"near\",\"morning\",\"ray\",\"stairs\",\"friend\",\"bar\",\"ready\",\"paper\",\"wearing\",\"police\",\"making\",\"book\",\"tom\",\"fine\",\"appears\",\"miss\",\"kid\",\"wife\",\"throws\",\"happened\",\"cut\",\"many\",\"guess\",\"road\",\"drink\",\"wanted\",\"beside\",\"came\",\"six\",\"hello\",\"doors\",\"play\",\"couple\",\"son\",\"shut\",\"ed\",\"may\",\"scene\",\"boys\",\"ask\",\"point\",\"answer\",\"care\",\"ten\",\"kids\",\"mary\",\"children\",\"knows\",\"best\",\"kitchen\",\"hall\",\"year\",\"business\",\"sign\",\"pretty\",\"ya\",\"leaves\",\"hits\",\"thanks\",\"hit\",\"several\",\"hundred\",\"yet\",\"points\",\"coffee\",\"follows\",\"music\",\"george\",\"job\",\"closes\",\"passes\",\"pushes\",\"pocket\",\"case\",\"truck\",\"max\",\"closer\",\"pull\",\"twenty\",\"rest\",\"part\",\"laughs\",\"number\",\"found\"],\"x\":{\"__ndarray__\":\"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\",\"dtype\":\"float32\",\"shape\":[400]},\"y\":{\"__ndarray__\":\"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\",\"dtype\":\"float32\",\"shape\":[400]}},\"selected\":{\"id\":\"1047\",\"type\":\"Selection\"},\"selection_policy\":{\"id\":\"1048\",\"type\":\"UnionRenderers\"}},\"id\":\"1037\",\"type\":\"ColumnDataSource\"},{\"attributes\":{\"callback\":null,\"data\":{\"fill_color\":[\"#c4b4a0\",\"#cc8ea0\",\"#91bca0\",\"#ad9da0\",\"#b2c3a0\",\"#bec0a0\",\"#abb2a0\",\"#be96a0\",\"#b3a8a0\",\"#acb4a0\",\"#9cb6a0\",\"#b0c3a0\",\"#ababa0\",\"#ad9fa0\",\"#ccd7a0\",\"#a69ca0\",\"#bc8fa0\",\"#ca91a0\",\"#93bfa0\",\"#b7d5a0\",\"#9b8ca0\",\"#b6d3a0\",\"#a387a0\",\"#a188a0\",\"#a48ba0\",\"#9bcca0\",\"#bdc2a0\",\"#c8bea0\",\"#aaaaa0\",\"#a2cba0\",\"#adcaa0\",\"#acbca0\",\"#939ca0\",\"#a9c2a0\",\"#bd83a0\",\"#bfa0a0\",\"#c689a0\",\"#ad9ba0\",\"#d0b9a0\",\"#a5b4a0\",\"#aed3a0\",\"#b9d5a0\",\"#9a8ca0\",\"#bab7a0\",\"#dfc7a0\",\"#bcb8a0\",\"#c8aba0\",\"#ca97a0\",\"#abe0a0\",\"#8dbaa0\",\"#d2bea0\",\"#a6a5a0\",\"#a1a1a0\",\"#c688a0\",\"#a5a4a0\",\"#979aa0\",\"#a3bba0\",\"#b8cfa0\",\"#a5d6a0\",\"#b9d1a0\",\"#af92a0\",\"#c5dfa0\",\"#b4d5a0\",\"#89bca0\",\"#cc97a0\",\"#d9bba0\",\"#cabca0\",\"#c1cca0\",\"#ad91a0\",\"#97aca0\",\"#cab4a0\",\"#b78ba0\",\"#95a7a0\",\"#8cb8a0\",\"#acb1a0\",\"#a0a3a0\",\"#b29ea0\",\"#bda6a0\",\"#c8a9a0\",\"#d3afa0\",\"#be91a0\",\"#a883a0\",\"#87b7a0\",\"#e1c6a0\",\"#bccca0\",\"#bdc3a0\",\"#cabaa0\",\"#94c0a0\",\"#aec8a0\",\"#9ecea0\",\"#a3d8a0\",\"#8ab9a0\",\"#c7bca0\",\"#bcaca0\",\"#a8c0a0\",\"#a596a0\",\"#bba4a0\",\"#bceaa0\",\"#bacca0\",\"#a09fa0\",\"#b38aa0\",\"#98cda0\",\"#bbc0a0\",\"#b6d7a0\",\"#c98ca0\",\"#a8b4a0\",\"#c2dfa0\",\"#c3c6a0\",\"#95a9a0\",\"#9b88a0\",\"#b4b5a0\",\"#b3e2a0\",\"#b895a0\",\"#af9ca0\",\"#a0cda0\",\"#b9eba0\",\"#bbc7a0\",\"#9acda0\",\"#b3b0a0\",\"#8dcaa0\",\"#afcba0\",\"#b4bca0\",\"#929aa0\",\"#b3d8a0\",\"#b2b4a0\",\"#c0c2a0\",\"#9bb6a0\",\"#a2ada0\",\"#ceb7a0\",\"#c6e7a0\",\"#8eafa0\",\"#cad5a0\",\"#b8b4a0\",\"#9496a0\",\"#b19aa0\",\"#ccd4a0\",\"#b1cea0\",\"#c59ca0\",\"#a8a9a0\",\"#a595a0\",\"#b5b2a0\",\"#c2cea0\",\"#c4e7a0\",\"#909da0\",\"#a8b6a0\",\"#d0bea0\",\"#ccd8a0\",\"#929ea0\",\"#c993a0\",\"#b6c0a0\",\"#cdd3a0\",\"#c0c5a0\",\"#d2c1a0\",\"#cc94a0\",\"#ac92a0\",\"#cec4a0\",\"#a6d5a0\",\"#b4a6a0\",\"#dbcca0\",\"#9c8ea0\",\"#9ca2a0\",\"#bdd0a0\",\"#b1b6a0\",\"#ce99a0\",\"#beaaa0\",\"#abe1a0\",\"#a2bca0\",\"#d3b4a0\",\"#a3a2a0\",\"#b8bfa0\",\"#97aea0\",\"#b5c3a0\",\"#a685a0\",\"#cd8fa0\",\"#adb2a0\",\"#b7aba0\",\"#b196a0\",\"#d9a6a0\",\"#a69ba0\",\"#d4bea0\",\"#8ab7a0\",\"#ccada0\",\"#a3c8a0\",\"#b9daa0\",\"#bca9a0\",\"#a9c6a0\",\"#b1a7a0\",\"#a1aaa0\",\"#c48da0\",\"#8ecca0\",\"#9d84a0\",\"#ab82a0\",\"#8f9ba0\",\"#b4c8a0\",\"#a6d2a0\",\"#9ba5a0\",\"#b5e1a0\",\"#b093a0\",\"#b588a0\",\"#8e8fa0\",\"#acdea0\",\"#ca96a0\",\"#91a0a0\",\"#beb8a0\",\"#cccca0\",\"#c2c4a0\",\"#ca9aa0\",\"#c6dfa0\",\"#c1eaa0\",\"#a3aba0\",\"#9ac8a0\",\"#b3daa0\",\"#bbbca0\",\"#c2c9a0\",\"#a38ca0\",\"#dab0a0\",\"#cdcda0\",\"#a0c2a0\",\"#a592a0\",\"#95a0a0\",\"#b4eba0\",\"#a4bba0\",\"#8eb7a0\",\"#ad8fa0\",\"#d8c8a0\",\"#b797a0\",\"#99dca0\",\"#bfe7a0\",\"#cfb3a0\",\"#b67fa0\",\"#a480a0\",\"#92c0a0\",\"#c7aca0\",\"#9b8fa0\",\"#bbaba0\",\"#9ec9a0\",\"#b289a0\",\"#a9e2a0\",\"#b090a0\",\"#abbda0\",\"#c49da0\",\"#aea1a0\",\"#d496a0\",\"#8ba6a0\",\"#beeba0\",\"#c5b4a0\",\"#bd8da0\",\"#c39fa0\",\"#a784a0\",\"#acc1a0\",\"#a8ada0\",\"#a1a5a0\",\"#abcea0\",\"#b4e2a0\",\"#afbea0\",\"#9e91a0\",\"#89afa0\",\"#dda7a0\",\"#aad3a0\",\"#d3bca0\",\"#b58ca0\",\"#b99ea0\",\"#8fafa0\",\"#b4cca0\",\"#96d5a0\",\"#9daaa0\",\"#af8aa0\",\"#b2afa0\",\"#a4b3a0\",\"#aaa5a0\",\"#d8b9a0\",\"#b5d1a0\",\"#8d96a0\",\"#a1d6a0\",\"#b8b7a0\",\"#c0b7a0\",\"#ad99a0\",\"#ab9da0\",\"#c0bea0\",\"#8aada0\",\"#d48da0\",\"#bcb1a0\",\"#c9a7a0\",\"#a7a2a0\",\"#a9cda0\",\"#abc7a0\",\"#c8c1a0\",\"#b8baa0\",\"#a384a0\",\"#9db3a0\",\"#c0a4a0\",\"#948fa0\",\"#c593a0\",\"#afdaa0\",\"#9f9ca0\",\"#c9c7a0\",\"#bfbaa0\",\"#aed4a0\",\"#cdaba0\",\"#b2b8a0\",\"#8ab4a0\",\"#9faaa0\",\"#bdbea0\",\"#b9c8a0\",\"#b6aca0\",\"#badda0\",\"#c5baa0\",\"#d18ea0\",\"#b480a0\",\"#ccbca0\",\"#8d9fa0\",\"#c3bda0\",\"#cbbfa0\",\"#94b3a0\",\"#9293a0\",\"#c18fa0\",\"#c388a0\",\"#99cfa0\",\"#c9a2a0\",\"#cf94a0\",\"#d1d5a0\",\"#b88ba0\",\"#bbd7a0\",\"#8f88a0\",\"#c7e7a0\",\"#c4b0a0\",\"#a2b9a0\",\"#c8b1a0\",\"#cea4a0\",\"#c9b9a0\",\"#b4a1a0\",\"#dabca0\",\"#ccd0a0\",\"#cfcda0\",\"#9199a0\",\"#bac3a0\",\"#afb7a0\",\"#dfb0a0\",\"#c5c7a0\",\"#b894a0\",\"#8e8da0\",\"#bbd3a0\",\"#c685a0\",\"#bfd6a0\",\"#93c3a0\",\"#ccb5a0\",\"#be97a0\",\"#a1afa0\",\"#95bda0\",\"#bec8a0\",\"#dbc8a0\",\"#cfa8a0\",\"#b7cda0\",\"#a7cda0\",\"#a2dba0\",\"#bcb4a0\",\"#b2eaa0\",\"#bfb3a0\",\"#a1c4a0\",\"#8fc1a0\",\"#a5daa0\",\"#baa0a0\",\"#a1d8a0\",\"#c3c1a0\",\"#b6c5a0\",\"#c08ba0\",\"#c697a0\",\"#8fcda0\",\"#d3c7a0\",\"#96b1a0\",\"#c7d5a0\",\"#d6c8a0\",\"#9ba0a0\",\"#8ba0a0\",\"#d2b8a0\",\"#b3aba0\",\"#d5a1a0\",\"#dcafa0\",\"#c7cca0\",\"#9898a0\",\"#8e8aa0\",\"#a39ea0\",\"#c0aea0\",\"#c3a9a0\",\"#aad7a0\",\"#e2c5a0\",\"#9b99a0\",\"#999da0\",\"#978ea0\",\"#c2d2a0\",\"#bd82a0\",\"#c5a4a0\",\"#bf80a0\",\"#a8b1a0\",\"#92c4a0\",\"#ada8a0\",\"#b4bfa0\",\"#cdafa0\",\"#9ac0a0\",\"#c6c4a0\"],\"x\":{\"__ndarray__\":\"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\",\"dtype\":\"float32\",\"shape\":[400]},\"y\":{\"__ndarray__\":\"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\",\"dtype\":\"float32\",\"shape\":[400]}},\"selected\":{\"id\":\"1045\",\"type\":\"Selection\"},\"selection_policy\":{\"id\":\"1046\",\"type\":\"UnionRenderers\"}},\"id\":\"1032\",\"type\":\"ColumnDataSource\"},{\"attributes\":{\"level\":\"glyph\",\"source\":{\"id\":\"1037\",\"type\":\"ColumnDataSource\"},\"text\":{\"field\":\"lab\"},\"text_font_size\":{\"value\":\"7pt\"},\"x\":{\"field\":\"x\"},\"x_offset\":{\"value\":3},\"y\":{\"field\":\"y\"},\"y_offset\":{\"value\":3}},\"id\":\"1038\",\"type\":\"LabelSet\"},{\"attributes\":{},\"id\":\"1011\",\"type\":\"LinearScale\"}],\"root_ids\":[\"1002\"]},\"title\":\"Bokeh Application\",\"version\":\"1.1.0\"}};\n",
       "  var render_items = [{\"docid\":\"8c9fc5cb-9c5c-4e66-aa59-ac5837ddab25\",\"roots\":{\"1002\":\"fa4d12ca-72c5-4847-8269-a71c3f66ddd1\"}}];\n",
       "  root.Bokeh.embed.embed_items_notebook(docs_json, render_items);\n",
       "\n",
       "  }\n",
       "  if (root.Bokeh !== undefined) {\n",
       "    embed_document(root);\n",
       "  } else {\n",
       "    var attempts = 0;\n",
       "    var timer = setInterval(function(root) {\n",
       "      if (root.Bokeh !== undefined) {\n",
       "        embed_document(root);\n",
       "        clearInterval(timer);\n",
       "      }\n",
       "      attempts++;\n",
       "      if (attempts > 100) {\n",
       "        console.log(\"Bokeh: ERROR: Unable to run BokehJS code because BokehJS library is missing\");\n",
       "        clearInterval(timer);\n",
       "      }\n",
       "    }, 10, root)\n",
       "  }\n",
       "})(window);"
      ],
      "application/vnd.bokehjs_exec.v0+json": ""
     },
     "metadata": {
      "application/vnd.bokehjs_exec.v0+json": {
       "id": "1002"
      }
     },
     "output_type": "display_data"
    }
   ],
   "source": [
    "# Limit the data that will be displayed using the variable 'plot_only'\n",
    "plot_only = 400\n",
    "\n",
    "def plot_data(final_embeddings, plot_only=400, perplexity=30, n_components=2, learning_rate=200, n_iter=5000):\n",
    "    # Set the parameters for the t-SNE algorithm\n",
    "    tsne = TSNE(perplexity=perplexity, n_components=n_components, init='pca', n_iter=n_iter, method='exact')\n",
    "    # Use t-SNE to transform a slice of the embedding matrix, grab corresponding labels and plot the result\n",
    "    low_dim_embs = tsne.fit_transform(final_embeddings[:plot_only, :])\n",
    "    # Plot the data\n",
    "    x = low_dim_embs[:,0]\n",
    "    y = low_dim_embs[:,1]\n",
    "    lab = [reversed_dictionary[i] for i in xrange(plot_only)]\n",
    "    colors = [\"#%02x%02x%02x\" % (r,g,160) for r,g in zip(x.astype(int)+180, y.astype(int)+180)]\n",
    "    tools = 'zoom_in, zoom_out, pan, save'\n",
    "    p = bp.figure(title='t-SNE projection of embeddings based on the text of movie scripts', tools=tools)\n",
    "    p.circle(x, y, radius=1, fill_color=colors, fill_alpha=0.8, line_color=None)\n",
    "    # add labels\n",
    "    source = bp.ColumnDataSource(data=dict(x = x, y = y, lab = lab))\n",
    "    labels = LabelSet(x='x', y='y', text='lab', level='glyph', x_offset=3, y_offset=3,\n",
    "                      source=source, render_mode='canvas', text_font_size=\"7pt\")\n",
    "    p.add_layout(labels)\n",
    "    p.plot_height=750\n",
    "    p.plot_width=750\n",
    "    bp.show(p)\n",
    "    \n",
    "plot_data(final_embeddings, plot_only=400, perplexity=30, n_components=2, learning_rate=200, n_iter=5000)"
   ]
  },
  {
   "cell_type": "markdown",
   "metadata": {},
   "source": [
    "![](img/bokeh_plot_1.png)"
   ]
  },
  {
   "cell_type": "markdown",
   "metadata": {},
   "source": [
    "#### b) Perplexity = 30, learning_rate = 100, iterations = 5000"
   ]
  },
  {
   "cell_type": "markdown",
   "metadata": {},
   "source": [
    "t-SNE uses a non-convex objective function, which is minimized using gradient descent with random initialization (incidentally, this is why multiple iterations with the same parameters can yield slightly different plots). Learning rate therefore has the same meaning as elsewhere in ML, ie it controls the size of the adjustment to our weights in each iteration. A number too small can cause results to be compressed into a dense cloud with no visible clustering (ie may not have converged on a local minima with the given interations), while a number too large can also cause a failure to converge, which will look like a ball of equidistant results"
   ]
  },
  {
   "cell_type": "code",
   "execution_count": 4,
   "metadata": {
    "scrolled": false
   },
   "outputs": [
    {
     "data": {
      "text/html": [
       "\n",
       "\n",
       "\n",
       "\n",
       "\n",
       "\n",
       "  <div class=\"bk-root\" id=\"bd62f9a7-c8e0-4d03-a3e3-e2eef28f6395\" data-root-id=\"1103\"></div>\n"
      ]
     },
     "metadata": {},
     "output_type": "display_data"
    },
    {
     "data": {
      "application/javascript": [
       "(function(root) {\n",
       "  function embed_document(root) {\n",
       "    \n",
       "  var docs_json = {\"24488445-225e-4d04-8f51-f64987e71ebd\":{\"roots\":{\"references\":[{\"attributes\":{\"below\":[{\"id\":\"1114\",\"type\":\"LinearAxis\"}],\"center\":[{\"id\":\"1118\",\"type\":\"Grid\"},{\"id\":\"1123\",\"type\":\"Grid\"},{\"id\":\"1139\",\"type\":\"LabelSet\"}],\"left\":[{\"id\":\"1119\",\"type\":\"LinearAxis\"}],\"plot_height\":750,\"plot_width\":750,\"renderers\":[{\"id\":\"1136\",\"type\":\"GlyphRenderer\"}],\"title\":{\"id\":\"1104\",\"type\":\"Title\"},\"toolbar\":{\"id\":\"1128\",\"type\":\"Toolbar\"},\"x_range\":{\"id\":\"1106\",\"type\":\"DataRange1d\"},\"x_scale\":{\"id\":\"1110\",\"type\":\"LinearScale\"},\"y_range\":{\"id\":\"1108\",\"type\":\"DataRange1d\"},\"y_scale\":{\"id\":\"1112\",\"type\":\"LinearScale\"}},\"id\":\"1103\",\"subtype\":\"Figure\",\"type\":\"Plot\"},{\"attributes\":{\"text\":\"t-SNE projection of embeddings based on the text of movie scripts\"},\"id\":\"1104\",\"type\":\"Title\"},{\"attributes\":{\"fill_alpha\":{\"value\":0.1},\"fill_color\":{\"value\":\"#1f77b4\"},\"line_alpha\":{\"value\":0.1},\"line_color\":{\"value\":\"#1f77b4\"},\"radius\":{\"units\":\"data\",\"value\":1},\"x\":{\"field\":\"x\"},\"y\":{\"field\":\"y\"}},\"id\":\"1135\",\"type\":\"Circle\"},{\"attributes\":{},\"id\":\"1157\",\"type\":\"Selection\"},{\"attributes\":{\"callback\":null},\"id\":\"1106\",\"type\":\"DataRange1d\"},{\"attributes\":{\"callback\":null,\"data\":{\"fill_color\":[\"#cbbaa0\",\"#a6d4a0\",\"#8bc3a0\",\"#aca6a0\",\"#c791a0\",\"#c5b9a0\",\"#bea3a0\",\"#94b8a0\",\"#baaba0\",\"#bfa6a0\",\"#c79ba0\",\"#c68fa0\",\"#b79fa0\",\"#aba7a0\",\"#d5d5a0\",\"#aa9ea0\",\"#a4caa0\",\"#a3d7a0\",\"#84c5a0\",\"#becda0\",\"#98a6a0\",\"#c0cea0\",\"#9eada0\",\"#9caca0\",\"#9ab5a0\",\"#aecca0\",\"#c4bba0\",\"#ccc1a0\",\"#b69ea0\",\"#acc8a0\",\"#d4b1a0\",\"#b1bfa0\",\"#a09da0\",\"#aeb9a0\",\"#d092a0\",\"#b3c4a0\",\"#9ac8a0\",\"#aea5a0\",\"#d4bfa0\",\"#b8a5a0\",\"#b8d4a0\",\"#bdcda0\",\"#99a6a0\",\"#c3afa0\",\"#85a7a0\",\"#c5b1a0\",\"#dbb5a0\",\"#9cd5a0\",\"#db99a0\",\"#8ec4a0\",\"#d7c4a0\",\"#b29ca0\",\"#ae97a0\",\"#98c8a0\",\"#b19ca0\",\"#a298a0\",\"#b1b1a0\",\"#c2caa0\",\"#b8daa0\",\"#c1cba0\",\"#9d8ea0\",\"#a9b9a0\",\"#bcd0a0\",\"#92c2a0\",\"#9ad5a0\",\"#dec3a0\",\"#cfc2a0\",\"#bdc0a0\",\"#9d8ba0\",\"#8eb5a0\",\"#bec5a0\",\"#9297a0\",\"#94b6a0\",\"#8fc6a0\",\"#bfa1a0\",\"#b095a0\",\"#b1a8a0\",\"#d6a7a0\",\"#dcb4a0\",\"#bfb4a0\",\"#a6cca0\",\"#9bb1a0\",\"#95c7a0\",\"#84a5a0\",\"#c5c6a0\",\"#c4bda0\",\"#d0c3a0\",\"#85c6a0\",\"#d3b0a0\",\"#accca0\",\"#b5dba0\",\"#91c5a0\",\"#c9c1a0\",\"#d1a6a0\",\"#adbca0\",\"#ac8ca0\",\"#d8a6a0\",\"#a3c1a0\",\"#c3c7a0\",\"#b198a0\",\"#9493a0\",\"#be89a0\",\"#c7b9a0\",\"#d0b5a0\",\"#9ec8a0\",\"#bba6a0\",\"#a9bca0\",\"#beb9a0\",\"#92b4a0\",\"#e5a7a0\",\"#c0aaa0\",\"#cbdda0\",\"#8bbaa0\",\"#aea8a0\",\"#aacaa0\",\"#a6c2a0\",\"#c2c1a0\",\"#bd89a0\",\"#c19ca0\",\"#afe6a0\",\"#d4b2a0\",\"#ceb2a0\",\"#a19ca0\",\"#bfd2a0\",\"#cca0a0\",\"#c2b8a0\",\"#c89aa0\",\"#b996a0\",\"#d6bea0\",\"#a1b9a0\",\"#9bbfa0\",\"#d4d2a0\",\"#c5aba0\",\"#9c9ba0\",\"#aeaaa0\",\"#d6d2a0\",\"#c3a6a0\",\"#d299a0\",\"#b59ca0\",\"#ab8da0\",\"#c5a9a0\",\"#bcc1a0\",\"#a3baa0\",\"#a0a0a0\",\"#bba4a0\",\"#d5c3a0\",\"#d5d6a0\",\"#a29fa0\",\"#a2d8a0\",\"#cecba0\",\"#d8d3a0\",\"#c1bba0\",\"#d6c7a0\",\"#a0d6a0\",\"#9b8ba0\",\"#c9cda0\",\"#b9d9a0\",\"#bcaaa0\",\"#85aea0\",\"#96a7a0\",\"#ab95a0\",\"#c7c9a0\",\"#c9a1a0\",\"#97d4a0\",\"#d5a3a0\",\"#db9aa0\",\"#b2b0a0\",\"#cdb7a0\",\"#af99a0\",\"#cec9a0\",\"#8db4a0\",\"#b6c1a0\",\"#9eb0a0\",\"#a7d3a0\",\"#c1a2a0\",\"#b8b1a0\",\"#a190a0\",\"#89cba0\",\"#ab9fa0\",\"#d9c5a0\",\"#91c7a0\",\"#deb9a0\",\"#adc5a0\",\"#c4d4a0\",\"#d3a3a0\",\"#d7aca0\",\"#b8aaa0\",\"#b694a0\",\"#9dcca0\",\"#b1e6a0\",\"#a9c2a0\",\"#97b1a0\",\"#9e9fa0\",\"#c6bfa0\",\"#bcdaa0\",\"#b6b5a0\",\"#c8dca0\",\"#9e8fa0\",\"#9094a0\",\"#91a0a0\",\"#db97a0\",\"#9cd4a0\",\"#a3a0a0\",\"#c7b0a0\",\"#ddcca0\",\"#c0b7a0\",\"#9cd8a0\",\"#a9b8a0\",\"#a0bfa0\",\"#b797a0\",\"#aecfa0\",\"#c0d3a0\",\"#c9b6a0\",\"#c0bea0\",\"#9ab6a0\",\"#80c8a0\",\"#dccea0\",\"#b4cda0\",\"#c4e3a0\",\"#a79ea0\",\"#a3b0a0\",\"#b2b3a0\",\"#8dc7a0\",\"#9e8aa0\",\"#bac6a0\",\"#8abba0\",\"#c8a7a0\",\"#a3bea0\",\"#cdbea0\",\"#c296a0\",\"#9fb4a0\",\"#83c7a0\",\"#dab5a0\",\"#97a9a0\",\"#d1a5a0\",\"#b0caa0\",\"#9392a0\",\"#db9da0\",\"#9b8fa0\",\"#b2bea0\",\"#d19aa0\",\"#aaaaa0\",\"#afd4a0\",\"#b687a0\",\"#a2c1a0\",\"#cdbaa0\",\"#a2c9a0\",\"#d09da0\",\"#9cb0a0\",\"#b0b9a0\",\"#a6a4a0\",\"#b193a0\",\"#e6c0a0\",\"#c9dda0\",\"#b5bca0\",\"#94a9a0\",\"#91cea0\",\"#81b9a0\",\"#b4d4a0\",\"#d8c2a0\",\"#9496a0\",\"#dea4a0\",\"#9cbea0\",\"#c6d0a0\",\"#bfafa0\",\"#b591a0\",\"#968ea0\",\"#bf9ca0\",\"#b7a5a0\",\"#b3a0a0\",\"#dec5a0\",\"#c2cfa0\",\"#a88da0\",\"#abb2a0\",\"#c2aea0\",\"#c9b1a0\",\"#b0a5a0\",\"#aca4a0\",\"#c9bda0\",\"#91d0a0\",\"#abd8a0\",\"#ccaba0\",\"#ddb2a0\",\"#b09fa0\",\"#e6bfa0\",\"#d6aea0\",\"#cac5a0\",\"#c2b2a0\",\"#a0aba0\",\"#90aea0\",\"#8ea8a0\",\"#979fa0\",\"#a1dca0\",\"#bdd5a0\",\"#b397a0\",\"#bdbca0\",\"#c9afa0\",\"#b7d4a0\",\"#e1b8a0\",\"#c6a1a0\",\"#90caa0\",\"#b592a0\",\"#c7bba0\",\"#c5c2a0\",\"#b9b2a0\",\"#c5d6a0\",\"#b9bda0\",\"#a7d7a0\",\"#c199a0\",\"#d0c0a0\",\"#a0a2a0\",\"#d4cca0\",\"#cdc3a0\",\"#dcaaa0\",\"#989ca0\",\"#a0cca0\",\"#98cba0\",\"#bb88a0\",\"#dfb0a0\",\"#a1d4a0\",\"#d1d0a0\",\"#9198a0\",\"#b9cda0\",\"#8b9ca0\",\"#a0b9a0\",\"#a7e2a0\",\"#b0b3a0\",\"#899ca0\",\"#e4b3a0\",\"#d0c5a0\",\"#b4aaa0\",\"#dec1a0\",\"#dbd0a0\",\"#dacda0\",\"#a39ba0\",\"#c5b7a0\",\"#c9a3a0\",\"#81c2a0\",\"#bcb8a0\",\"#8cb9a0\",\"#8f9fa0\",\"#becaa0\",\"#98c6a0\",\"#b8b9a0\",\"#85c9a0\",\"#d9bea0\",\"#94b9a0\",\"#bb95a0\",\"#83c3a0\",\"#d2b9a0\",\"#85aaa0\",\"#e3b6a0\",\"#c4cca0\",\"#e6bda0\",\"#b3daa0\",\"#ccd1a0\",\"#a6b0a0\",\"#cdd3a0\",\"#b4d0a0\",\"#7fc7a0\",\"#b5d8a0\",\"#dca4a0\",\"#b5dda0\",\"#c2b5a0\",\"#b8c1a0\",\"#9acfa0\",\"#9ed1a0\",\"#b3e6a0\",\"#b7c8a0\",\"#8bb3a0\",\"#b4b9a0\",\"#b9c8a0\",\"#aa94a0\",\"#a0a5a0\",\"#d3bea0\",\"#baaea0\",\"#87c5a0\",\"#80caa0\",\"#c6b4a0\",\"#a097a0\",\"#8e9ca0\",\"#ab99a0\",\"#d3a9a0\",\"#d6b6a0\",\"#bfdba0\",\"#84a4a0\",\"#a396a0\",\"#a698a0\",\"#97a2a0\",\"#c1c4a0\",\"#cf93a0\",\"#cfaba0\",\"#d096a0\",\"#bba0a0\",\"#83cba0\",\"#aedda0\",\"#ccb4a0\",\"#ddbaa0\",\"#a6b4a0\",\"#bbb4a0\"],\"x\":{\"__ndarray__\":\"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\",\"dtype\":\"float32\",\"shape\":[400]},\"y\":{\"__ndarray__\":\"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\",\"dtype\":\"float32\",\"shape\":[400]}},\"selected\":{\"id\":\"1155\",\"type\":\"Selection\"},\"selection_policy\":{\"id\":\"1156\",\"type\":\"UnionRenderers\"}},\"id\":\"1133\",\"type\":\"ColumnDataSource\"},{\"attributes\":{\"data_source\":{\"id\":\"1133\",\"type\":\"ColumnDataSource\"},\"glyph\":{\"id\":\"1134\",\"type\":\"Circle\"},\"hover_glyph\":null,\"muted_glyph\":null,\"nonselection_glyph\":{\"id\":\"1135\",\"type\":\"Circle\"},\"selection_glyph\":null,\"view\":{\"id\":\"1137\",\"type\":\"CDSView\"}},\"id\":\"1136\",\"type\":\"GlyphRenderer\"},{\"attributes\":{},\"id\":\"1120\",\"type\":\"BasicTicker\"},{\"attributes\":{},\"id\":\"1158\",\"type\":\"UnionRenderers\"},{\"attributes\":{\"source\":{\"id\":\"1133\",\"type\":\"ColumnDataSource\"}},\"id\":\"1137\",\"type\":\"CDSView\"},{\"attributes\":{\"dimension\":1,\"ticker\":{\"id\":\"1120\",\"type\":\"BasicTicker\"}},\"id\":\"1123\",\"type\":\"Grid\"},{\"attributes\":{\"callback\":null},\"id\":\"1108\",\"type\":\"DataRange1d\"},{\"attributes\":{},\"id\":\"1110\",\"type\":\"LinearScale\"},{\"attributes\":{\"callback\":null,\"data\":{\"lab\":[\"UNK\",\"back\",\"one\",\"looks\",\"like\",\"know\",\"get\",\"door\",\"see\",\"got\",\"right\",\"around\",\"go\",\"look\",\"man\",\"turns\",\"room\",\"away\",\"two\",\"want\",\"hand\",\"going\",\"face\",\"head\",\"eyes\",\"time\",\"think\",\"well\",\"come\",\"way\",\"something\",\"good\",\"takes\",\"little\",\"car\",\"still\",\"behind\",\"looking\",\"oh\",\"take\",\"us\",\"let\",\"hands\",\"tell\",\"open\",\"say\",\"beat\",\"toward\",\"starts\",\"another\",\"yes\",\"comes\",\"walks\",\"front\",\"goes\",\"pulls\",\"make\",\"would\",\"people\",\"could\",\"sits\",\"old\",\"na\",\"long\",\"across\",\"mr\",\"yeah\",\"never\",\"stands\",\"side\",\"phone\",\"table\",\"window\",\"first\",\"gets\",\"moves\",\"sees\",\"suddenly\",\"moment\",\"gon\",\"house\",\"floor\",\"next\",\"opens\",\"even\",\"really\",\"okay\",\"three\",\"nothing\",\"thing\",\"men\",\"last\",\"sure\",\"hear\",\"big\",\"smiles\",\"stops\",\"light\",\"much\",\"steps\",\"bed\",\"night\",\"mean\",\"need\",\"inside\",\"give\",\"new\",\"said\",\"wall\",\"gun\",\"find\",\"life\",\"street\",\"stares\",\"place\",\"water\",\"maybe\",\"day\",\"work\",\"feet\",\"anything\",\"dead\",\"puts\",\"trying\",\"stop\",\"love\",\"left\",\"move\",\"hey\",\"white\",\"small\",\"guy\",\"help\",\"reaches\",\"watches\",\"girl\",\"call\",\"slowly\",\"coming\",\"nods\",\"talk\",\"ever\",\"black\",\"grabs\",\"put\",\"sorry\",\"woman\",\"holds\",\"past\",\"money\",\"boy\",\"thought\",\"god\",\"along\",\"standing\",\"please\",\"things\",\"watch\",\"close\",\"arm\",\"enters\",\"better\",\"keep\",\"onto\",\"voice\",\"begins\",\"makes\",\"name\",\"runs\",\"shit\",\"end\",\"great\",\"body\",\"home\",\"getting\",\"seen\",\"watching\",\"half\",\"turn\",\"sir\",\"every\",\"jack\",\"hard\",\"must\",\"sound\",\"almost\",\"leave\",\"walk\",\"outside\",\"years\",\"air\",\"top\",\"picks\",\"hell\",\"everything\",\"talking\",\"lot\",\"sitting\",\"desk\",\"glass\",\"start\",\"towards\",\"holding\",\"says\",\"father\",\"told\",\"forward\",\"young\",\"red\",\"run\",\"shot\",\"tries\",\"believe\",\"always\",\"mouth\",\"five\",\"mother\",\"without\",\"smile\",\"gives\",\"blood\",\"made\",\"second\",\"stand\",\"fuck\",\"line\",\"wait\",\"dark\",\"cont\",\"fire\",\"hair\",\"four\",\"pause\",\"arms\",\"heard\",\"enough\",\"chair\",\"continues\",\"sit\",\"bad\",\"quickly\",\"feel\",\"together\",\"high\",\"lights\",\"john\",\"office\",\"finally\",\"ground\",\"kind\",\"hold\",\"moving\",\"someone\",\"world\",\"real\",\"corner\",\"full\",\"f\",\"guys\",\"thank\",\"alone\",\"shoulder\",\"large\",\"mind\",\"show\",\"running\",\"seat\",\"gone\",\"taking\",\"waiting\",\"mrs\",\"might\",\"shakes\",\"others\",\"kill\",\"else\",\"staring\",\"glances\",\"remember\",\"empty\",\"ta\",\"listen\",\"silence\",\"heads\",\"everyone\",\"seems\",\"course\",\"done\",\"falls\",\"far\",\"camera\",\"bag\",\"crowd\",\"try\",\"leans\",\"already\",\"wrong\",\"em\",\"frank\",\"stay\",\"whole\",\"walking\",\"understand\",\"fucking\",\"saw\",\"eye\",\"nice\",\"ahead\",\"set\",\"huh\",\"drops\",\"baby\",\"uh\",\"screen\",\"box\",\"building\",\"near\",\"morning\",\"ray\",\"stairs\",\"friend\",\"bar\",\"ready\",\"paper\",\"wearing\",\"police\",\"making\",\"book\",\"tom\",\"fine\",\"appears\",\"miss\",\"kid\",\"wife\",\"throws\",\"happened\",\"cut\",\"many\",\"guess\",\"road\",\"drink\",\"wanted\",\"beside\",\"came\",\"six\",\"hello\",\"doors\",\"play\",\"couple\",\"son\",\"shut\",\"ed\",\"may\",\"scene\",\"boys\",\"ask\",\"point\",\"answer\",\"care\",\"ten\",\"kids\",\"mary\",\"children\",\"knows\",\"best\",\"kitchen\",\"hall\",\"year\",\"business\",\"sign\",\"pretty\",\"ya\",\"leaves\",\"hits\",\"thanks\",\"hit\",\"several\",\"hundred\",\"yet\",\"points\",\"coffee\",\"follows\",\"music\",\"george\",\"job\",\"closes\",\"passes\",\"pushes\",\"pocket\",\"case\",\"truck\",\"max\",\"closer\",\"pull\",\"twenty\",\"rest\",\"part\",\"laughs\",\"number\",\"found\"],\"x\":{\"__ndarray__\":\"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\",\"dtype\":\"float32\",\"shape\":[400]},\"y\":{\"__ndarray__\":\"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\",\"dtype\":\"float32\",\"shape\":[400]}},\"selected\":{\"id\":\"1157\",\"type\":\"Selection\"},\"selection_policy\":{\"id\":\"1158\",\"type\":\"UnionRenderers\"}},\"id\":\"1138\",\"type\":\"ColumnDataSource\"},{\"attributes\":{\"level\":\"glyph\",\"source\":{\"id\":\"1138\",\"type\":\"ColumnDataSource\"},\"text\":{\"field\":\"lab\"},\"text_font_size\":{\"value\":\"7pt\"},\"x\":{\"field\":\"x\"},\"x_offset\":{\"value\":3},\"y\":{\"field\":\"y\"},\"y_offset\":{\"value\":3}},\"id\":\"1139\",\"type\":\"LabelSet\"},{\"attributes\":{\"fill_alpha\":{\"value\":0.8},\"fill_color\":{\"field\":\"fill_color\"},\"line_color\":{\"value\":null},\"radius\":{\"units\":\"data\",\"value\":1},\"x\":{\"field\":\"x\"},\"y\":{\"field\":\"y\"}},\"id\":\"1134\",\"type\":\"Circle\"},{\"attributes\":{},\"id\":\"1112\",\"type\":\"LinearScale\"},{\"attributes\":{},\"id\":\"1124\",\"type\":\"ZoomInTool\"},{\"attributes\":{\"formatter\":{\"id\":\"1151\",\"type\":\"BasicTickFormatter\"},\"ticker\":{\"id\":\"1115\",\"type\":\"BasicTicker\"}},\"id\":\"1114\",\"type\":\"LinearAxis\"},{\"attributes\":{},\"id\":\"1151\",\"type\":\"BasicTickFormatter\"},{\"attributes\":{},\"id\":\"1125\",\"type\":\"ZoomOutTool\"},{\"attributes\":{},\"id\":\"1115\",\"type\":\"BasicTicker\"},{\"attributes\":{},\"id\":\"1126\",\"type\":\"PanTool\"},{\"attributes\":{},\"id\":\"1153\",\"type\":\"BasicTickFormatter\"},{\"attributes\":{},\"id\":\"1127\",\"type\":\"SaveTool\"},{\"attributes\":{},\"id\":\"1155\",\"type\":\"Selection\"},{\"attributes\":{\"active_drag\":\"auto\",\"active_inspect\":\"auto\",\"active_multi\":null,\"active_scroll\":\"auto\",\"active_tap\":\"auto\",\"tools\":[{\"id\":\"1124\",\"type\":\"ZoomInTool\"},{\"id\":\"1125\",\"type\":\"ZoomOutTool\"},{\"id\":\"1126\",\"type\":\"PanTool\"},{\"id\":\"1127\",\"type\":\"SaveTool\"}]},\"id\":\"1128\",\"type\":\"Toolbar\"},{\"attributes\":{\"ticker\":{\"id\":\"1115\",\"type\":\"BasicTicker\"}},\"id\":\"1118\",\"type\":\"Grid\"},{\"attributes\":{},\"id\":\"1156\",\"type\":\"UnionRenderers\"},{\"attributes\":{\"formatter\":{\"id\":\"1153\",\"type\":\"BasicTickFormatter\"},\"ticker\":{\"id\":\"1120\",\"type\":\"BasicTicker\"}},\"id\":\"1119\",\"type\":\"LinearAxis\"}],\"root_ids\":[\"1103\"]},\"title\":\"Bokeh Application\",\"version\":\"1.1.0\"}};\n",
       "  var render_items = [{\"docid\":\"24488445-225e-4d04-8f51-f64987e71ebd\",\"roots\":{\"1103\":\"bd62f9a7-c8e0-4d03-a3e3-e2eef28f6395\"}}];\n",
       "  root.Bokeh.embed.embed_items_notebook(docs_json, render_items);\n",
       "\n",
       "  }\n",
       "  if (root.Bokeh !== undefined) {\n",
       "    embed_document(root);\n",
       "  } else {\n",
       "    var attempts = 0;\n",
       "    var timer = setInterval(function(root) {\n",
       "      if (root.Bokeh !== undefined) {\n",
       "        embed_document(root);\n",
       "        clearInterval(timer);\n",
       "      }\n",
       "      attempts++;\n",
       "      if (attempts > 100) {\n",
       "        console.log(\"Bokeh: ERROR: Unable to run BokehJS code because BokehJS library is missing\");\n",
       "        clearInterval(timer);\n",
       "      }\n",
       "    }, 10, root)\n",
       "  }\n",
       "})(window);"
      ],
      "application/vnd.bokehjs_exec.v0+json": ""
     },
     "metadata": {
      "application/vnd.bokehjs_exec.v0+json": {
       "id": "1103"
      }
     },
     "output_type": "display_data"
    }
   ],
   "source": [
    "plot_data(final_embeddings, plot_only=400, perplexity=30, n_components=2, learning_rate=100, n_iter=5000)"
   ]
  },
  {
   "cell_type": "markdown",
   "metadata": {},
   "source": [
    "![](img/bokeh_plot_2.png)"
   ]
  },
  {
   "cell_type": "markdown",
   "metadata": {},
   "source": [
    "#### c) Perplexity = 30, learning_rate = 200, iterations = 7500"
   ]
  },
  {
   "cell_type": "code",
   "execution_count": 5,
   "metadata": {},
   "outputs": [
    {
     "data": {
      "text/html": [
       "\n",
       "\n",
       "\n",
       "\n",
       "\n",
       "\n",
       "  <div class=\"bk-root\" id=\"c5a6d37d-df0e-4d09-8969-223d991d2ffb\" data-root-id=\"1213\"></div>\n"
      ]
     },
     "metadata": {},
     "output_type": "display_data"
    },
    {
     "data": {
      "application/javascript": [
       "(function(root) {\n",
       "  function embed_document(root) {\n",
       "    \n",
       "  var docs_json = {\"83321ea5-7c10-4c4b-b27b-31768c4e31be\":{\"roots\":{\"references\":[{\"attributes\":{\"below\":[{\"id\":\"1224\",\"type\":\"LinearAxis\"}],\"center\":[{\"id\":\"1228\",\"type\":\"Grid\"},{\"id\":\"1233\",\"type\":\"Grid\"},{\"id\":\"1249\",\"type\":\"LabelSet\"}],\"left\":[{\"id\":\"1229\",\"type\":\"LinearAxis\"}],\"plot_height\":750,\"plot_width\":750,\"renderers\":[{\"id\":\"1246\",\"type\":\"GlyphRenderer\"}],\"title\":{\"id\":\"1214\",\"type\":\"Title\"},\"toolbar\":{\"id\":\"1238\",\"type\":\"Toolbar\"},\"x_range\":{\"id\":\"1216\",\"type\":\"DataRange1d\"},\"x_scale\":{\"id\":\"1220\",\"type\":\"LinearScale\"},\"y_range\":{\"id\":\"1218\",\"type\":\"DataRange1d\"},\"y_scale\":{\"id\":\"1222\",\"type\":\"LinearScale\"}},\"id\":\"1213\",\"subtype\":\"Figure\",\"type\":\"Plot\"},{\"attributes\":{\"text\":\"t-SNE projection of embeddings based on the text of movie scripts\"},\"id\":\"1214\",\"type\":\"Title\"},{\"attributes\":{\"callback\":null,\"data\":{\"lab\":[\"UNK\",\"back\",\"one\",\"looks\",\"like\",\"know\",\"get\",\"door\",\"see\",\"got\",\"right\",\"around\",\"go\",\"look\",\"man\",\"turns\",\"room\",\"away\",\"two\",\"want\",\"hand\",\"going\",\"face\",\"head\",\"eyes\",\"time\",\"think\",\"well\",\"come\",\"way\",\"something\",\"good\",\"takes\",\"little\",\"car\",\"still\",\"behind\",\"looking\",\"oh\",\"take\",\"us\",\"let\",\"hands\",\"tell\",\"open\",\"say\",\"beat\",\"toward\",\"starts\",\"another\",\"yes\",\"comes\",\"walks\",\"front\",\"goes\",\"pulls\",\"make\",\"would\",\"people\",\"could\",\"sits\",\"old\",\"na\",\"long\",\"across\",\"mr\",\"yeah\",\"never\",\"stands\",\"side\",\"phone\",\"table\",\"window\",\"first\",\"gets\",\"moves\",\"sees\",\"suddenly\",\"moment\",\"gon\",\"house\",\"floor\",\"next\",\"opens\",\"even\",\"really\",\"okay\",\"three\",\"nothing\",\"thing\",\"men\",\"last\",\"sure\",\"hear\",\"big\",\"smiles\",\"stops\",\"light\",\"much\",\"steps\",\"bed\",\"night\",\"mean\",\"need\",\"inside\",\"give\",\"new\",\"said\",\"wall\",\"gun\",\"find\",\"life\",\"street\",\"stares\",\"place\",\"water\",\"maybe\",\"day\",\"work\",\"feet\",\"anything\",\"dead\",\"puts\",\"trying\",\"stop\",\"love\",\"left\",\"move\",\"hey\",\"white\",\"small\",\"guy\",\"help\",\"reaches\",\"watches\",\"girl\",\"call\",\"slowly\",\"coming\",\"nods\",\"talk\",\"ever\",\"black\",\"grabs\",\"put\",\"sorry\",\"woman\",\"holds\",\"past\",\"money\",\"boy\",\"thought\",\"god\",\"along\",\"standing\",\"please\",\"things\",\"watch\",\"close\",\"arm\",\"enters\",\"better\",\"keep\",\"onto\",\"voice\",\"begins\",\"makes\",\"name\",\"runs\",\"shit\",\"end\",\"great\",\"body\",\"home\",\"getting\",\"seen\",\"watching\",\"half\",\"turn\",\"sir\",\"every\",\"jack\",\"hard\",\"must\",\"sound\",\"almost\",\"leave\",\"walk\",\"outside\",\"years\",\"air\",\"top\",\"picks\",\"hell\",\"everything\",\"talking\",\"lot\",\"sitting\",\"desk\",\"glass\",\"start\",\"towards\",\"holding\",\"says\",\"father\",\"told\",\"forward\",\"young\",\"red\",\"run\",\"shot\",\"tries\",\"believe\",\"always\",\"mouth\",\"five\",\"mother\",\"without\",\"smile\",\"gives\",\"blood\",\"made\",\"second\",\"stand\",\"fuck\",\"line\",\"wait\",\"dark\",\"cont\",\"fire\",\"hair\",\"four\",\"pause\",\"arms\",\"heard\",\"enough\",\"chair\",\"continues\",\"sit\",\"bad\",\"quickly\",\"feel\",\"together\",\"high\",\"lights\",\"john\",\"office\",\"finally\",\"ground\",\"kind\",\"hold\",\"moving\",\"someone\",\"world\",\"real\",\"corner\",\"full\",\"f\",\"guys\",\"thank\",\"alone\",\"shoulder\",\"large\",\"mind\",\"show\",\"running\",\"seat\",\"gone\",\"taking\",\"waiting\",\"mrs\",\"might\",\"shakes\",\"others\",\"kill\",\"else\",\"staring\",\"glances\",\"remember\",\"empty\",\"ta\",\"listen\",\"silence\",\"heads\",\"everyone\",\"seems\",\"course\",\"done\",\"falls\",\"far\",\"camera\",\"bag\",\"crowd\",\"try\",\"leans\",\"already\",\"wrong\",\"em\",\"frank\",\"stay\",\"whole\",\"walking\",\"understand\",\"fucking\",\"saw\",\"eye\",\"nice\",\"ahead\",\"set\",\"huh\",\"drops\",\"baby\",\"uh\",\"screen\",\"box\",\"building\",\"near\",\"morning\",\"ray\",\"stairs\",\"friend\",\"bar\",\"ready\",\"paper\",\"wearing\",\"police\",\"making\",\"book\",\"tom\",\"fine\",\"appears\",\"miss\",\"kid\",\"wife\",\"throws\",\"happened\",\"cut\",\"many\",\"guess\",\"road\",\"drink\",\"wanted\",\"beside\",\"came\",\"six\",\"hello\",\"doors\",\"play\",\"couple\",\"son\",\"shut\",\"ed\",\"may\",\"scene\",\"boys\",\"ask\",\"point\",\"answer\",\"care\",\"ten\",\"kids\",\"mary\",\"children\",\"knows\",\"best\",\"kitchen\",\"hall\",\"year\",\"business\",\"sign\",\"pretty\",\"ya\",\"leaves\",\"hits\",\"thanks\",\"hit\",\"several\",\"hundred\",\"yet\",\"points\",\"coffee\",\"follows\",\"music\",\"george\",\"job\",\"closes\",\"passes\",\"pushes\",\"pocket\",\"case\",\"truck\",\"max\",\"closer\",\"pull\",\"twenty\",\"rest\",\"part\",\"laughs\",\"number\",\"found\"],\"x\":{\"__ndarray__\":\"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\",\"dtype\":\"float32\",\"shape\":[400]},\"y\":{\"__ndarray__\":\"/KyQQXwvDMK7G4pAbLwJwlo5xkE+MYlB427tP3YDF8IY7IzACJUaQMMOe0G1bsdB7qwkwchbA8Li4elBygbnwR5fwMHXRh/CNS3MQN0SAkLHoY5BYDQAQsOwxMHi5cjBFQHqweICC0IJLY9B+iwtQc46P8FH4/lBivAhQqq1J0HYcoHBbAcHQvTDPsIb6WpBPqzJwRqGDMKCxQNAYNySwCJTn0H+2wdCvG2JQeZU8kDL0DjBBHccQS62O0JTDRTCcWMnQjlGKEDw8sK+bSGMwdKEvcH7Wr/B/AKYwbfKmcEj0ms/kyECQqCIpkGm0wVCa2YswlyT2MCc5BdC+qeUQHqbDcJtrsjAlk8IQbEj10GbwDPChhfuweEHnkFWapPB+3YOwkLibUDOdj9AjB7LwT44B8J8xhfBpwJDQiKxAUFuw9fB7QziwfTwrcHh0lTBORYCQjMolkHQzbxAISXHQFtoKEIu9ftBp3mVQcbJYkD4+z9B5pY0wa/U28BjowTCslwCwXQ1mMESHPxBt5KxwV1zd8EOkhhCSOR4Qcjr+EFy0v3B28W3v6riz8C6k7hBFN8Gwg2riEHnWNA8kz7aQeDEAMIHTBTCjaLwQeBWn8Frh9RBnG0RQm6XAkE0CZtB5pgdQteTM0Jceo7BolQXQgtUv8DSxJtBimGIQXfZ9sGC5gk/5QhzwVSTGcGBx9VBSL+JQNfyeMFQ5x3C9HDqQWawi0CTqjrC6nRdwYTIBML8clRA09DfQY1dW8G+I2vBoEUcwFBDD0DEM+5BrzxewVC2IsJ7qZhBekf3QbChp0GWkqk+zZUdwmO5OMIxPfg/k3KvQbDV68DFS0LBXKmfQZOUq8Fzzg9Cv1qjvV8kBcJHm/HAs8wrQpVaCEDzjqdBT/uswaXcjEE/11JCmyOUQQ1A3sE+NgzCfJuPQE3LR0KLvCTCg4rwv/2K3sEyNwHAFuzDP3ZAnECo2whC5yYMQsFZG8FI2BpCQUFwwNlh3cFpH+PBcZipQVB73EG6tezBAu+GwUwIrkGpZchBmm6ewSB+zUEwvCvCZ02YwZwLQcGDbx5CljkWwq+LPsFKujhBnCEbQkWMsUFcKiTCUqfUwAHMdcEJgObBE0wDQp/yH0Ll0jtBwZDHQZqW88GImTxBOTsTQnhRVkCZ4g/C5FfRwbKkmMEBkec+VnLMQBEMLsJ2FZBBaNYBwn5e9j5VXpbBJNMLQWmuHUHMlfXB60IIQd60OELl6qhBXG40webdDkKmbYXByioyQmDdJMLcnx9BN+87wsI288FzMj1B30IPwY8okcElqo1BrlbEwTF2JkJpSd/Bhn8DQqgz8sDODN7BUpUkQjro0kEtHLdByHm1QWLqtcD6Dy1BCiR1QUjxnL8LcXrB2keoQUqeL8H1q9NBL8H4QGrv5cHnjj7CmtUXQVxTssD1OYrBfsjKwPgw7kH9/+zBGDOEQe2sB0Iw1UlBMGMUwjvLCcJ3lURB71EDwdnMI8JD56pAM/FLQhh6qMEu4SpCCO8dQvr7QkFtK7NBa4W/wa1LW0ErL0nCTJQtQWLyMsILkRVCdGDHwXoKx0GQ/WJBOViUQQHeNEKXfiNAygGSv1ni4MHm0nBBAHToQZ+PQEIjq/9B+jVEQZVnHcLoeBhBXP4TQarNU8Gbkb1BHNcBQU/+RULRzn7BOjXYwd/S0MF6thZCUpQiwhCTJcI3199B3iCOweUl/kG0j/vA7V9+wRQGcEGf7Ke/VIC+wFspm0GvpbNAqOutQCew7sBrTwtCkUQPQrQSn8HMY5ZBMuhav0Fv+z/gIChC/BP7wfwoJMHjVuVBhRmwwVVu2kGmVhNB6cfDv4qbG8J+hQTC9ryGQJmvR0FV0CfBb9csQGl2EkJSsTRCk8RsQXXfsL88J4XBnxIowHfptkDA3y1Bj0GNQaAmp0E2BJtB7NyAQXoxpEGx1u7BwhQUwsgMtUEehnpB15NMQsy5w0FfoJNBgb2pwQ21WsHlKIFA365ZwKm5k0D+D05B6D2CQZleqsGzuyDBan/AwXeOaMGj0A5BgH/IQeH3aMEJspnBramrwU09XUGrjbRB1qhCwh08HUCEfj/CNCyxvjDnOkG820fBPbvnQfdvjkD1TeJA+ek1Qg==\",\"dtype\":\"float32\",\"shape\":[400]}},\"selected\":{\"id\":\"1276\",\"type\":\"Selection\"},\"selection_policy\":{\"id\":\"1277\",\"type\":\"UnionRenderers\"}},\"id\":\"1248\",\"type\":\"ColumnDataSource\"},{\"attributes\":{\"callback\":null},\"id\":\"1218\",\"type\":\"DataRange1d\"},{\"attributes\":{\"level\":\"glyph\",\"source\":{\"id\":\"1248\",\"type\":\"ColumnDataSource\"},\"text\":{\"field\":\"lab\"},\"text_font_size\":{\"value\":\"7pt\"},\"x\":{\"field\":\"x\"},\"x_offset\":{\"value\":3},\"y\":{\"field\":\"y\"},\"y_offset\":{\"value\":3}},\"id\":\"1249\",\"type\":\"LabelSet\"},{\"attributes\":{},\"id\":\"1234\",\"type\":\"ZoomInTool\"},{\"attributes\":{},\"id\":\"1235\",\"type\":\"ZoomOutTool\"},{\"attributes\":{\"callback\":null},\"id\":\"1216\",\"type\":\"DataRange1d\"},{\"attributes\":{\"callback\":null,\"data\":{\"fill_color\":[\"#c1c6a0\",\"#a991a0\",\"#8cb8a0\",\"#d492a0\",\"#cecca0\",\"#b7c5a0\",\"#ceb5a0\",\"#9d8fa0\",\"#c3b0a0\",\"#cab6a0\",\"#cec3a0\",\"#cfcca0\",\"#c7aaa0\",\"#d494a0\",\"#a3d1a0\",\"#d898a0\",\"#a69ca0\",\"#ab8da0\",\"#85baa0\",\"#c4d4a0\",\"#e1c5a0\",\"#c1d4a0\",\"#979ca0\",\"#959ba0\",\"#9097a0\",\"#94d6a0\",\"#b5c5a0\",\"#aebea0\",\"#c7a9a0\",\"#9ad3a0\",\"#b1dca0\",\"#a2bea0\",\"#dba4a0\",\"#add5a0\",\"#b985a0\",\"#afc2a0\",\"#af9ba0\",\"#d291a0\",\"#b1b6a0\",\"#d1b0a0\",\"#9dc7a0\",\"#c5d5a0\",\"#dfc5a0\",\"#bebba0\",\"#d0a9a0\",\"#bebda0\",\"#a9e2a0\",\"#b28fa0\",\"#d0dda0\",\"#8fb6a0\",\"#adb4a0\",\"#c8a3a0\",\"#cb9da0\",\"#b09da0\",\"#c8a1a0\",\"#d7a1a0\",\"#e2b4a0\",\"#bdd4a0\",\"#97c8a0\",\"#bed5a0\",\"#ca89a0\",\"#83aea0\",\"#c4d9a0\",\"#95b8a0\",\"#b091a0\",\"#aeaea0\",\"#abbca0\",\"#bacea0\",\"#c888a0\",\"#b597a0\",\"#c8c7a0\",\"#a6a2a0\",\"#9d91a0\",\"#91b7a0\",\"#cfb6a0\",\"#cc9ba0\",\"#cf93a0\",\"#bbaba0\",\"#a8e4a0\",\"#b8bca0\",\"#a79aa0\",\"#9c98a0\",\"#af9fa0\",\"#d1a7a0\",\"#b8d4a0\",\"#b4c6a0\",\"#aab9a0\",\"#84baa0\",\"#b1dea0\",\"#95d3a0\",\"#95c6a0\",\"#93b7a0\",\"#abbfa0\",\"#b8a9a0\",\"#8daea0\",\"#de93a0\",\"#bdaca0\",\"#8ea1a0\",\"#bad3a0\",\"#ce9ea0\",\"#aba5a0\",\"#94daa0\",\"#b5c3a0\",\"#c5d3a0\",\"#aa95a0\",\"#ccb3a0\",\"#87aea0\",\"#b8cba0\",\"#9f93a0\",\"#e4c5a0\",\"#c8b4a0\",\"#92cfa0\",\"#ba94a0\",\"#d58fa0\",\"#98d2a0\",\"#90a1a0\",\"#b4cea0\",\"#93d8a0\",\"#c9bca0\",\"#85c7a0\",\"#b2dba0\",\"#b6e0a0\",\"#dba3a0\",\"#c8d9a0\",\"#c9afa0\",\"#bcc7a0\",\"#cec5a0\",\"#c896a0\",\"#b3b4a0\",\"#85a5a0\",\"#8eaba0\",\"#a4cea0\",\"#bfb8a0\",\"#d7a5a0\",\"#d48da0\",\"#a6d1a0\",\"#c6b8a0\",\"#b286a0\",\"#c8a7a0\",\"#df93a0\",\"#c2b7a0\",\"#b9cfa0\",\"#87a7a0\",\"#dea6a0\",\"#ceb2a0\",\"#adb6a0\",\"#a2d1a0\",\"#dba7a0\",\"#ac8ca0\",\"#a3c7a0\",\"#a6d2a0\",\"#b6c8a0\",\"#a9b4a0\",\"#af8da0\",\"#c986a0\",\"#b8b5a0\",\"#98c9a0\",\"#c1ada0\",\"#bfa8a0\",\"#e1c7a0\",\"#bf9fa0\",\"#b9d7a0\",\"#d6b4a0\",\"#b393a0\",\"#b6ada0\",\"#d0dea0\",\"#e3b6a0\",\"#c1c8a0\",\"#cc9fa0\",\"#a4c5a0\",\"#b3e8a0\",\"#b0c6a0\",\"#9999a0\",\"#a891a0\",\"#ceb8a0\",\"#c0e5a0\",\"#cf8ba0\",\"#98b3a0\",\"#d799a0\",\"#acb2a0\",\"#92b5a0\",\"#b4b8a0\",\"#9dd6a0\",\"#c1d7a0\",\"#b5aba0\",\"#abdaa0\",\"#c1b1a0\",\"#c599a0\",\"#ad98a0\",\"#86c9a0\",\"#d9cfa0\",\"#9f97a0\",\"#dea4a0\",\"#acc9a0\",\"#9bcda0\",\"#bca1a0\",\"#8ecda0\",\"#cb8aa0\",\"#a9a1a0\",\"#9ca8a0\",\"#cfdba0\",\"#b18fa0\",\"#dba9a0\",\"#c0bfa0\",\"#a5daa0\",\"#bbcaa0\",\"#b48ba0\",\"#82aea0\",\"#8ba5a0\",\"#c798a0\",\"#91d4a0\",\"#c9dba0\",\"#babfa0\",\"#b6cca0\",\"#8f96a0\",\"#86bfa0\",\"#a6d8a0\",\"#9eb7a0\",\"#e091a0\",\"#db9aa0\",\"#95a1a0\",\"#e0b4a0\",\"#91baa0\",\"#c689a0\",\"#abc6a0\",\"#bc94a0\",\"#c2b4a0\",\"#89a2a0\",\"#b1bca0\",\"#cebda0\",\"#9596a0\",\"#85bca0\",\"#aae2a0\",\"#dfc9a0\",\"#b6a9a0\",\"#98d7a0\",\"#aca4a0\",\"#d2e0a0\",\"#c88ba0\",\"#a1bda0\",\"#b386a0\",\"#d396a0\",\"#99bfa0\",\"#e3aca0\",\"#8da2a0\",\"#c3c5a0\",\"#a49ca0\",\"#b7dda0\",\"#9a99a0\",\"#afd4a0\",\"#d7ada0\",\"#cb99a0\",\"#9edda0\",\"#90cea0\",\"#bfcaa0\",\"#e3caa0\",\"#94afa0\",\"#d6bea0\",\"#9cc3a0\",\"#afb3a0\",\"#a7a5a0\",\"#dac9a0\",\"#8eaaa0\",\"#bdcea0\",\"#c2bba0\",\"#c198a0\",\"#c385a0\",\"#c8bda0\",\"#d2afa0\",\"#c4a3a0\",\"#b0aea0\",\"#bfd1a0\",\"#e097a0\",\"#92c4a0\",\"#b4d5a0\",\"#c2c0a0\",\"#d18fa0\",\"#d792a0\",\"#b7c0a0\",\"#94aca0\",\"#a48ca0\",\"#bbb9a0\",\"#a8e6a0\",\"#c59fa0\",\"#9edea0\",\"#addba0\",\"#b0c0a0\",\"#b4caa0\",\"#9a9da0\",\"#d2c1a0\",\"#ab82a0\",\"#e1bea0\",\"#ac88a0\",\"#ccd9a0\",\"#d09ca0\",\"#afcca0\",\"#bfc2a0\",\"#9cc6a0\",\"#a4e1a0\",\"#d5b6a0\",\"#92b3a0\",\"#c398a0\",\"#b8c3a0\",\"#b4d1a0\",\"#c0e4a0\",\"#cfd3a0\",\"#a6c0a0\",\"#a78da0\",\"#ccbda0\",\"#a9bda0\",\"#e0a7a0\",\"#a8cba0\",\"#aebca0\",\"#b7e5a0\",\"#9ea5a0\",\"#aa99a0\",\"#b29aa0\",\"#91d9a0\",\"#b88ca0\",\"#b08ba0\",\"#aacfa0\",\"#a5a3a0\",\"#c9d3a0\",\"#a2ada0\",\"#84a5a0\",\"#c7c3a0\",\"#e3b3a0\",\"#a4afa0\",\"#d3c7a0\",\"#a8b9a0\",\"#dbb9a0\",\"#acada0\",\"#a7d6a0\",\"#a3d7a0\",\"#dda1a0\",\"#b9c6a0\",\"#d8b4a0\",\"#87b5a0\",\"#bddea0\",\"#b895a0\",\"#9daaa0\",\"#c2d0a0\",\"#b29ea0\",\"#c8cfa0\",\"#83bda0\",\"#b4b3a0\",\"#9c8ea0\",\"#c793a0\",\"#87b8a0\",\"#b4c0a0\",\"#cdaaa0\",\"#a4b6a0\",\"#bed8a0\",\"#9ee1a0\",\"#96c2a0\",\"#bbb3a0\",\"#96a4a0\",\"#b8b2a0\",\"#9db9a0\",\"#88bea0\",\"#98c5a0\",\"#d8c8a0\",\"#93c7a0\",\"#bbc4a0\",\"#b1c8a0\",\"#b097a0\",\"#b48fa0\",\"#86caa0\",\"#a9c3a0\",\"#b4e7a0\",\"#a4cca0\",\"#a9c6a0\",\"#c19fa0\",\"#e3a7a0\",\"#b0b8a0\",\"#c6b1a0\",\"#82b8a0\",\"#85c0a0\",\"#b3c4a0\",\"#d59fa0\",\"#a1aaa0\",\"#c89ca0\",\"#b9a6a0\",\"#b4bca0\",\"#9ecda0\",\"#d1a6a0\",\"#d3a1a0\",\"#d89fa0\",\"#e1c1a0\",\"#c6caa0\",\"#b984a0\",\"#bdb6a0\",\"#b685a0\",\"#d1b4a0\",\"#82bfa0\",\"#c4a8a0\",\"#b0d0a0\",\"#b5b8a0\",\"#7dbba0\",\"#bfe1a0\"],\"x\":{\"__ndarray__\":\"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\",\"dtype\":\"float32\",\"shape\":[400]},\"y\":{\"__ndarray__\":\"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\",\"dtype\":\"float32\",\"shape\":[400]}},\"selected\":{\"id\":\"1274\",\"type\":\"Selection\"},\"selection_policy\":{\"id\":\"1275\",\"type\":\"UnionRenderers\"}},\"id\":\"1243\",\"type\":\"ColumnDataSource\"},{\"attributes\":{},\"id\":\"1222\",\"type\":\"LinearScale\"},{\"attributes\":{},\"id\":\"1270\",\"type\":\"BasicTickFormatter\"},{\"attributes\":{},\"id\":\"1236\",\"type\":\"PanTool\"},{\"attributes\":{},\"id\":\"1230\",\"type\":\"BasicTicker\"},{\"attributes\":{},\"id\":\"1237\",\"type\":\"SaveTool\"},{\"attributes\":{},\"id\":\"1276\",\"type\":\"Selection\"},{\"attributes\":{},\"id\":\"1220\",\"type\":\"LinearScale\"},{\"attributes\":{},\"id\":\"1277\",\"type\":\"UnionRenderers\"},{\"attributes\":{\"formatter\":{\"id\":\"1272\",\"type\":\"BasicTickFormatter\"},\"ticker\":{\"id\":\"1230\",\"type\":\"BasicTicker\"}},\"id\":\"1229\",\"type\":\"LinearAxis\"},{\"attributes\":{\"active_drag\":\"auto\",\"active_inspect\":\"auto\",\"active_multi\":null,\"active_scroll\":\"auto\",\"active_tap\":\"auto\",\"tools\":[{\"id\":\"1234\",\"type\":\"ZoomInTool\"},{\"id\":\"1235\",\"type\":\"ZoomOutTool\"},{\"id\":\"1236\",\"type\":\"PanTool\"},{\"id\":\"1237\",\"type\":\"SaveTool\"}]},\"id\":\"1238\",\"type\":\"Toolbar\"},{\"attributes\":{},\"id\":\"1272\",\"type\":\"BasicTickFormatter\"},{\"attributes\":{\"fill_alpha\":{\"value\":0.8},\"fill_color\":{\"field\":\"fill_color\"},\"line_color\":{\"value\":null},\"radius\":{\"units\":\"data\",\"value\":1},\"x\":{\"field\":\"x\"},\"y\":{\"field\":\"y\"}},\"id\":\"1244\",\"type\":\"Circle\"},{\"attributes\":{\"fill_alpha\":{\"value\":0.1},\"fill_color\":{\"value\":\"#1f77b4\"},\"line_alpha\":{\"value\":0.1},\"line_color\":{\"value\":\"#1f77b4\"},\"radius\":{\"units\":\"data\",\"value\":1},\"x\":{\"field\":\"x\"},\"y\":{\"field\":\"y\"}},\"id\":\"1245\",\"type\":\"Circle\"},{\"attributes\":{\"data_source\":{\"id\":\"1243\",\"type\":\"ColumnDataSource\"},\"glyph\":{\"id\":\"1244\",\"type\":\"Circle\"},\"hover_glyph\":null,\"muted_glyph\":null,\"nonselection_glyph\":{\"id\":\"1245\",\"type\":\"Circle\"},\"selection_glyph\":null,\"view\":{\"id\":\"1247\",\"type\":\"CDSView\"}},\"id\":\"1246\",\"type\":\"GlyphRenderer\"},{\"attributes\":{\"formatter\":{\"id\":\"1270\",\"type\":\"BasicTickFormatter\"},\"ticker\":{\"id\":\"1225\",\"type\":\"BasicTicker\"}},\"id\":\"1224\",\"type\":\"LinearAxis\"},{\"attributes\":{\"ticker\":{\"id\":\"1225\",\"type\":\"BasicTicker\"}},\"id\":\"1228\",\"type\":\"Grid\"},{\"attributes\":{\"dimension\":1,\"ticker\":{\"id\":\"1230\",\"type\":\"BasicTicker\"}},\"id\":\"1233\",\"type\":\"Grid\"},{\"attributes\":{},\"id\":\"1225\",\"type\":\"BasicTicker\"},{\"attributes\":{},\"id\":\"1274\",\"type\":\"Selection\"},{\"attributes\":{\"source\":{\"id\":\"1243\",\"type\":\"ColumnDataSource\"}},\"id\":\"1247\",\"type\":\"CDSView\"},{\"attributes\":{},\"id\":\"1275\",\"type\":\"UnionRenderers\"}],\"root_ids\":[\"1213\"]},\"title\":\"Bokeh Application\",\"version\":\"1.1.0\"}};\n",
       "  var render_items = [{\"docid\":\"83321ea5-7c10-4c4b-b27b-31768c4e31be\",\"roots\":{\"1213\":\"c5a6d37d-df0e-4d09-8969-223d991d2ffb\"}}];\n",
       "  root.Bokeh.embed.embed_items_notebook(docs_json, render_items);\n",
       "\n",
       "  }\n",
       "  if (root.Bokeh !== undefined) {\n",
       "    embed_document(root);\n",
       "  } else {\n",
       "    var attempts = 0;\n",
       "    var timer = setInterval(function(root) {\n",
       "      if (root.Bokeh !== undefined) {\n",
       "        embed_document(root);\n",
       "        clearInterval(timer);\n",
       "      }\n",
       "      attempts++;\n",
       "      if (attempts > 100) {\n",
       "        console.log(\"Bokeh: ERROR: Unable to run BokehJS code because BokehJS library is missing\");\n",
       "        clearInterval(timer);\n",
       "      }\n",
       "    }, 10, root)\n",
       "  }\n",
       "})(window);"
      ],
      "application/vnd.bokehjs_exec.v0+json": ""
     },
     "metadata": {
      "application/vnd.bokehjs_exec.v0+json": {
       "id": "1213"
      }
     },
     "output_type": "display_data"
    }
   ],
   "source": [
    "plot_data(final_embeddings, plot_only=400, perplexity=30, n_components=2, learning_rate=200, n_iter=7500)"
   ]
  },
  {
   "cell_type": "markdown",
   "metadata": {},
   "source": [
    "![](img/bokeh_plot_3.png)"
   ]
  },
  {
   "cell_type": "markdown",
   "metadata": {},
   "source": [
    "#### d) Perplexity = 10, learning rate = 200, iterations = 5000"
   ]
  },
  {
   "cell_type": "markdown",
   "metadata": {},
   "source": [
    "Perplexity has the same meaning as elsewhere in NLP, ie it is a measure of the uncertainty of the distribution, and is defined as 2^k, where k is the Shannon entropy. A lower perplexity implies that we are selecting from a lower number of possible values for an unknown word. For the purposes of t-SNE though, it can be thought of as a dial that sets the number of nearest neighbors in the manifold learning process (ie the number of possible neighboring words whose distance should be the focus of the algorithm). Typically larger datasets will require a larger perplexity input in the t-SNE formula to yield meaningful clusters."
   ]
  },
  {
   "cell_type": "code",
   "execution_count": 6,
   "metadata": {},
   "outputs": [
    {
     "data": {
      "text/html": [
       "\n",
       "\n",
       "\n",
       "\n",
       "\n",
       "\n",
       "  <div class=\"bk-root\" id=\"b2c69b3c-6b93-437d-a86b-546c1a4062a3\" data-root-id=\"1332\"></div>\n"
      ]
     },
     "metadata": {},
     "output_type": "display_data"
    },
    {
     "data": {
      "application/javascript": [
       "(function(root) {\n",
       "  function embed_document(root) {\n",
       "    \n",
       "  var docs_json = {\"0ab7de67-ecc5-4398-93a4-6e6088c81d7c\":{\"roots\":{\"references\":[{\"attributes\":{\"below\":[{\"id\":\"1343\",\"type\":\"LinearAxis\"}],\"center\":[{\"id\":\"1347\",\"type\":\"Grid\"},{\"id\":\"1352\",\"type\":\"Grid\"},{\"id\":\"1368\",\"type\":\"LabelSet\"}],\"left\":[{\"id\":\"1348\",\"type\":\"LinearAxis\"}],\"plot_height\":750,\"plot_width\":750,\"renderers\":[{\"id\":\"1365\",\"type\":\"GlyphRenderer\"}],\"title\":{\"id\":\"1333\",\"type\":\"Title\"},\"toolbar\":{\"id\":\"1357\",\"type\":\"Toolbar\"},\"x_range\":{\"id\":\"1335\",\"type\":\"DataRange1d\"},\"x_scale\":{\"id\":\"1339\",\"type\":\"LinearScale\"},\"y_range\":{\"id\":\"1337\",\"type\":\"DataRange1d\"},\"y_scale\":{\"id\":\"1341\",\"type\":\"LinearScale\"}},\"id\":\"1332\",\"subtype\":\"Figure\",\"type\":\"Plot\"},{\"attributes\":{\"ticker\":{\"id\":\"1344\",\"type\":\"BasicTicker\"}},\"id\":\"1347\",\"type\":\"Grid\"},{\"attributes\":{},\"id\":\"1404\",\"type\":\"Selection\"},{\"attributes\":{},\"id\":\"1339\",\"type\":\"LinearScale\"},{\"attributes\":{\"formatter\":{\"id\":\"1400\",\"type\":\"BasicTickFormatter\"},\"ticker\":{\"id\":\"1349\",\"type\":\"BasicTicker\"}},\"id\":\"1348\",\"type\":\"LinearAxis\"},{\"attributes\":{\"formatter\":{\"id\":\"1398\",\"type\":\"BasicTickFormatter\"},\"ticker\":{\"id\":\"1344\",\"type\":\"BasicTicker\"}},\"id\":\"1343\",\"type\":\"LinearAxis\"},{\"attributes\":{},\"id\":\"1405\",\"type\":\"UnionRenderers\"},{\"attributes\":{},\"id\":\"1341\",\"type\":\"LinearScale\"},{\"attributes\":{},\"id\":\"1356\",\"type\":\"SaveTool\"},{\"attributes\":{},\"id\":\"1398\",\"type\":\"BasicTickFormatter\"},{\"attributes\":{},\"id\":\"1400\",\"type\":\"BasicTickFormatter\"},{\"attributes\":{},\"id\":\"1344\",\"type\":\"BasicTicker\"},{\"attributes\":{\"active_drag\":\"auto\",\"active_inspect\":\"auto\",\"active_multi\":null,\"active_scroll\":\"auto\",\"active_tap\":\"auto\",\"tools\":[{\"id\":\"1353\",\"type\":\"ZoomInTool\"},{\"id\":\"1354\",\"type\":\"ZoomOutTool\"},{\"id\":\"1355\",\"type\":\"PanTool\"},{\"id\":\"1356\",\"type\":\"SaveTool\"}]},\"id\":\"1357\",\"type\":\"Toolbar\"},{\"attributes\":{\"fill_alpha\":{\"value\":0.1},\"fill_color\":{\"value\":\"#1f77b4\"},\"line_alpha\":{\"value\":0.1},\"line_color\":{\"value\":\"#1f77b4\"},\"radius\":{\"units\":\"data\",\"value\":1},\"x\":{\"field\":\"x\"},\"y\":{\"field\":\"y\"}},\"id\":\"1364\",\"type\":\"Circle\"},{\"attributes\":{},\"id\":\"1349\",\"type\":\"BasicTicker\"},{\"attributes\":{\"callback\":null,\"data\":{\"fill_color\":[\"#bac8a0\",\"#84dba0\",\"#60a9a0\",\"#b57fa0\",\"#b4f0a0\",\"#d2cea0\",\"#f093a0\",\"#56e0a0\",\"#f0b6a0\",\"#ec94a0\",\"#b0aba0\",\"#b2f2a0\",\"#e07aa0\",\"#b47da0\",\"#eeeea0\",\"#b670a0\",\"#82cea0\",\"#80e2a0\",\"#5ca6a0\",\"#aadca0\",\"#8086a0\",\"#addaa0\",\"#9688a0\",\"#948aa0\",\"#9c8da0\",\"#87ffa0\",\"#d4cfa0\",\"#c9c2a0\",\"#e178a0\",\"#8df5a0\",\"#d2105a0\",\"#a2ada0\",\"#b260a0\",\"#98b4a0\",\"#119a0a0\",\"#d1c4a0\",\"#6ac8a0\",\"#b582a0\",\"#cfb8a0\",\"#e38ca0\",\"#99f0a0\",\"#a8dea0\",\"#8285a0\",\"#e4bca0\",\"#c0faa0\",\"#e3c0a0\",\"#cd9ea0\",\"#75dea0\",\"#8960a0\",\"#5dbfa0\",\"#c8b3a0\",\"#d772a0\",\"#cd65a0\",\"#6ac5a0\",\"#d571a0\",\"#b85da0\",\"#10179a0\",\"#b5dca0\",\"#a0f9a0\",\"#b5dfa0\",\"#c788a0\",\"#99bea0\",\"#aad7a0\",\"#5bc6a0\",\"#74e1a0\",\"#beafa0\",\"#c4bfa0\",\"#c5dfa0\",\"#cb86a0\",\"#65e7a0\",\"#d8b2a0\",\"#7aaca0\",\"#58e2a0\",\"#59c0a0\",\"#f392a0\",\"#cf63a0\",\"#b386a0\",\"#dca3a0\",\"#cd9ba0\",\"#d2caa0\",\"#85d0a0\",\"#927fa0\",\"#67c3a0\",\"#bffca0\",\"#bbdaa0\",\"#d6cda0\",\"#c1bca0\",\"#5ca4a0\",\"#d2107a0\",\"#89fba0\",\"#a4f7a0\",\"#5bc3a0\",\"#c6c5a0\",\"#103c1a0\",\"#95b1a0\",\"#a675a0\",\"#d9a4a0\",\"#9ba0a0\",\"#b9d8a0\",\"#ca62a0\",\"#7ab4a0\",\"#82fea0\",\"#e0d7a0\",\"#acdea0\",\"#81d8a0\",\"#e88fa0\",\"#9cc1a0\",\"#d4d8a0\",\"#5ce3a0\",\"#7b85a0\",\"#e99ca0\",\"#ae111a0\",\"#69efa0\",\"#b97fa0\",\"#8bf8a0\",\"#9fa3a0\",\"#d5e2a0\",\"#85100a0\",\"#f7a8a0\",\"#83bda0\",\"#d0103a0\",\"#ebd6a0\",\"#b25ea0\",\"#a5d2a0\",\"#10496a0\",\"#d9d2a0\",\"#afa9a0\",\"#da5ba0\",\"#d2b6a0\",\"#8e9ba0\",\"#91ada0\",\"#eaeda0\",\"#e7a9a0\",\"#ae56a0\",\"#bc80a0\",\"#ebf2a0\",\"#f19da0\",\"#10ea6a0\",\"#e075a0\",\"#a876a0\",\"#efa9a0\",\"#c4dfa0\",\"#909da0\",\"#ac60a0\",\"#ea8ea0\",\"#ccb1a0\",\"#f0eea0\",\"#ae63a0\",\"#7ee3a0\",\"#e1dea0\",\"#ecf4a0\",\"#d3d3a0\",\"#c4b5a0\",\"#79e4a0\",\"#ca84a0\",\"#a6e2a0\",\"#9ffaa0\",\"#eeb4a0\",\"#c5eda0\",\"#8089a0\",\"#cb6fa0\",\"#bae0a0\",\"#10292a0\",\"#6fe1a0\",\"#106bba0\",\"#895ea0\",\"#10078a0\",\"#bdcba0\",\"#cf67a0\",\"#e1dba0\",\"#64e4a0\",\"#afc3a0\",\"#9084a0\",\"#86daa0\",\"#f395a0\",\"#fac4a0\",\"#c087a0\",\"#5fb2a0\",\"#b970a0\",\"#c7b1a0\",\"#5abea0\",\"#c6a2a0\",\"#8df0a0\",\"#9fdca0\",\"#103bca0\",\"#da101a0\",\"#f3b4a0\",\"#db61a0\",\"#77d2a0\",\"#86bea0\",\"#a1a6a0\",\"#947aa0\",\"#ae5da0\",\"#cad0a0\",\"#9cfea0\",\"#c872a0\",\"#aa10ea0\",\"#c587a0\",\"#75b0a0\",\"#759ca0\",\"#8863a0\",\"#77dfa0\",\"#ad65a0\",\"#e5c4a0\",\"#e1fba0\",\"#d8d7a0\",\"#72dba0\",\"#97bea0\",\"#969da0\",\"#db5ea0\",\"#8a7aa0\",\"#a2d3a0\",\"#dccba0\",\"#cfd7a0\",\"#9d8fa0\",\"#52a7a0\",\"#e3fca0\",\"#8dd1a0\",\"#a77aa0\",\"#b46ba0\",\"#acb5a0\",\"#1017ca0\",\"#55c1a0\",\"#cd89a0\",\"#c8f3a0\",\"#6af2a0\",\"#efa5a0\",\"#96a2a0\",\"#cbc5a0\",\"#fea5a0\",\"#8f92a0\",\"#59a7a0\",\"#cf9fa0\",\"#7e8ba0\",\"#102c0a0\",\"#8b101a0\",\"#78b4a0\",\"#8b5ba0\",\"#c88ba0\",\"#a2afa0\",\"#10da4a0\",\"#b77aa0\",\"#96eaa0\",\"#7e109a0\",\"#9a9fa0\",\"#b7c9a0\",\"#80cca0\",\"#10ba2a0\",\"#9282a0\",\"#9ab5a0\",\"#e57da0\",\"#d261a0\",\"#c710ea0\",\"#ac10fa0\",\"#c3d0a0\",\"#838ca0\",\"#996aa0\",\"#6eb0a0\",\"#9eeba0\",\"#cab5a0\",\"#7cafa0\",\"#ac99a0\",\"#90aba0\",\"#cbdda0\",\"#ebbda0\",\"#df65a0\",\"#d083a0\",\"#f7aba0\",\"#e28ba0\",\"#da76a0\",\"#bfada0\",\"#b1daa0\",\"#ab71a0\",\"#a9f6a0\",\"#e6baa0\",\"#e7c6a0\",\"#b785a0\",\"#b280a0\",\"#d7c7a0\",\"#9c69a0\",\"#8de2a0\",\"#e2b0a0\",\"#cc98a0\",\"#d276a0\",\"#c610fa0\",\"#d8103a0\",\"#cdc0a0\",\"#dcc1a0\",\"#9884a0\",\"#64d5a0\",\"#dd9fa0\",\"#7d7da0\",\"#7ee9a0\",\"#a6cea0\",\"#cc5ea0\",\"#c7d7a0\",\"#e2c9a0\",\"#9aeea0\",\"#c59fa0\",\"#ff92a0\",\"#58bba0\",\"#dd64a0\",\"#b4b9a0\",\"#d9e3a0\",\"#f8c4a0\",\"#9cdca0\",\"#c5c9a0\",\"#87e1a0\",\"#fba6a0\",\"#c1c1a0\",\"#a860a0\",\"#dfeea0\",\"#c8bea0\",\"#f1d7a0\",\"#ac53a0\",\"#7ad0a0\",\"#6fc7a0\",\"#83103a0\",\"#baa1a0\",\"#77e7a0\",\"#eae5a0\",\"#7aaaa0\",\"#a6daa0\",\"#7da1a0\",\"#8c9ba0\",\"#d3a8a0\",\"#1057aa0\",\"#b7c3a0\",\"#bc98a0\",\"#bfbba0\",\"#b18aa0\",\"#bbb1a0\",\"#e6f9a0\",\"#e4ffa0\",\"#b35ba0\",\"#cecca0\",\"#10490a0\",\"#579fa0\",\"#d4dba0\",\"#67eda0\",\"#769fa0\",\"#aee3a0\",\"#6cc2a0\",\"#b1d3a0\",\"#5aaca0\",\"#d7b4a0\",\"#54e0a0\",\"#db58a0\",\"#59a1a0\",\"#e0d1a0\",\"#c4f4a0\",\"#c09ca0\",\"#b4e3a0\",\"#c3112a0\",\"#a6f2a0\",\"#e0baa0\",\"#afb6a0\",\"#dcb7a0\",\"#90d2a0\",\"#51a5a0\",\"#a1f4a0\",\"#af99a0\",\"#a6faa0\",\"#cfd0a0\",\"#acc3a0\",\"#73cea0\",\"#77daa0\",\"#88bfa0\",\"#cff2a0\",\"#f5daa0\",\"#e7eca0\",\"#cbf3a0\",\"#ce70a0\",\"#a55fa0\",\"#d0baa0\",\"#f3baa0\",\"#5fa3a0\",\"#53aaa0\",\"#c8e7a0\",\"#b95aa0\",\"#7aa2a0\",\"#c868a0\",\"#106c6a0\",\"#e5a5a0\",\"#9c102a0\",\"#befea0\",\"#ba60a0\",\"#bf5ca0\",\"#7e80a0\",\"#d1e5a0\",\"#118a1a0\",\"#e1aba0\",\"#114a2a0\",\"#f08da0\",\"#56aca0\",\"#e676a0\",\"#e5d7a0\",\"#c7a5a0\",\"#629ba0\",\"#f5c7a0\"],\"x\":{\"__ndarray__\":\"Gg/PQGezQMJVYanCSlWrP3dHUL533PRBRJ9yQtvZvcIFyXJCZehjQsf2kMCvbhbAL6kzQmFIcT+o2mlCIXY/QGAKScKINVDCkkKxwpXaLMFRY1PC1rPmwO8n8sF90QHC5F7DwaiNNcIN1AFCghCrQcjzNkIWTB3CEG/xQacSlcEoGy/AcTzlwZRxy0IVcuxBpomUwik31T//btlBHbQ/QlgD3MGo603BQw1Lwus+QEL39U5BB9A9Qo9+ykEkL33C+9ouwlZ7rsLZjaJB924OQv7LzUG2g5TC/uoFQjhHmUCp0JtCy/jmP8UtocHBTdY/6UGbQZ6e3sHh8yXBNeWywrnzgMKYzCRBhguGQYVGj0HNRLxBk+6fwoqNEULYwWvC6Su4wi3UtsJmQ3xCcp/aQVppk79rdSNCwPXIQS0U9EEIoz3Cv1gJwsDrmsL6GTlBDff6QH9kC0I8dFpBln2xwgy48UHnLy7CoTqGwQLis8LpapBBYyefQoXp+sGVtGPBt1UXQkNeycFyVLdAfDayQRASacKxsUjCnE4zQmUUDMEjuU7CiRJQQpJLw8H8OQFCLMixwvpaZMI0J1dC2onLwAell8L0yaJAPRomwlu3r8GSFwZC13o+ws6sh0LfIkbCSt3hQTCeX0I7cAHAAf5xwQxqoUKYbRRCibGiwHymG0LqZPRBJ5sbwrJmDMKVsVlCd3lMQsfQwsCldghBF8ZeQhPadULqGbRC4pMyQvUlSsGZl21CjXaBQVYHEsKu/QPBf3NZQlj3wkGyxXFCfODKwFI6WcIu4zZCR+hgQgvI/kEf5oZBK5hsws2fsUGAJGjBk8KvwZ0caEKZQ4lBkJ9RwnoavkFoUdpAz+6dQvNcisI0YaVCpJUswlsCmUJfvRJBulzbQYguNEKp8aDC+rC1wBlqEcKQIjjCd7d8QknljELuaExB63GrwkWUrECHUJtB3EC0wt0AlkGQ/B3C9GutwRltnkJ6JxtCoKV+QuOzHkI7ZnfCUrs7wq8MncHCwALCVLLRwO7Cs0HKlcLBoXuhQVjeIcHEHIpBCPp9wq56fcLCxjPCFrZ2wkak7MDt1ERCf8g0QvGYE0IrGoXCyK3swcRe8cHHphxC9kAqwn95kMEVKiJCEDzaQRB7usHaJMXCwBo/QtLyHsIcHlDBqFsuvyGsBMEgH5tCbVG+wsIty0GAZ6RBhLmVwkHobEKFk/DBSg+7Qe1AlUKoqhbC2mq3wm0J2UEkTlvC6oecQrcrJcJfI3HCM6wmwh0dpUGxN5bBxZCzQs6qREDUt/fBoFVawjBC0sHqC3ZAYNlRwkaUrkKJuwrCL8nRweePR0I+0/RBR/mfQSAiBsGjl31B58lFwoIL2cFXDI3CpWGywYS/skHQI2DCP8sFwSA7EMInN79B/+heQpDhLkLSB+dBe/6GQumZOEImEhhC7hY7QQSjW8CsGR7BJUM+wT6hSELXe05C0tV9QKb9AMC0TgxC1wPCwV3eH8LYTzpCIAzEQbnF9UF1WpNBAwcRQlK8yUGSXSJCP/nkwY0ZocLE6yVCVfxcwkn7WMIFk2PBjWXBQQcxnkEGhTtChpzXwW7Ji0HxO5ZC7eC4wghaJ0K+N+s9nxoUQhdSiEKbs8bBGquNQTqTNMLw9I5C2zRfQYoTTMELmy5C4LiiQWkrd0KFgADBoBlqwmLPi8Ih50TCljrEQOV8dcKUZFhCQFFrws06bcE1cVzCqicjwksx+UHLq6JCB6FhQDK3BEEvmTBBNu1twNdK/0BPckpCDKtDQvrrk7+JutFBIKigQr9fu8KEhgNCkwWawoA5eMI+d8nA/fqRwqY5a8Az47TCB78OQrVpwcLQAR5CtPS2wkGXMUJdjoZBdpxNQYkp4T4qdX5Bq25rwc3MMUI+7qzALoQjQlhmE8JuVcfCbimdwVqStsBksGrBRNPeQdd3B8H7AYLC3710wvvGM8IYottBqHCDQspQTkJI2b1BOanWQURPf8EwMOVBV2t/Qgd1q8Ia08LCJp2lQSPEskAzyGnCQjGnQRaVpEJzdERCqlbDwdsGKUFPjdVAUf42QdAEWMJSfO5BFmzIQuKJNULIPMBCK1FzQmFRvMJrWUlCS+hFQiOomEGvBKXC4jGDQg==\",\"dtype\":\"float32\",\"shape\":[400]},\"y\":{\"__ndarray__\":\"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\",\"dtype\":\"float32\",\"shape\":[400]}},\"selected\":{\"id\":\"1402\",\"type\":\"Selection\"},\"selection_policy\":{\"id\":\"1403\",\"type\":\"UnionRenderers\"}},\"id\":\"1362\",\"type\":\"ColumnDataSource\"},{\"attributes\":{\"callback\":null,\"data\":{\"lab\":[\"UNK\",\"back\",\"one\",\"looks\",\"like\",\"know\",\"get\",\"door\",\"see\",\"got\",\"right\",\"around\",\"go\",\"look\",\"man\",\"turns\",\"room\",\"away\",\"two\",\"want\",\"hand\",\"going\",\"face\",\"head\",\"eyes\",\"time\",\"think\",\"well\",\"come\",\"way\",\"something\",\"good\",\"takes\",\"little\",\"car\",\"still\",\"behind\",\"looking\",\"oh\",\"take\",\"us\",\"let\",\"hands\",\"tell\",\"open\",\"say\",\"beat\",\"toward\",\"starts\",\"another\",\"yes\",\"comes\",\"walks\",\"front\",\"goes\",\"pulls\",\"make\",\"would\",\"people\",\"could\",\"sits\",\"old\",\"na\",\"long\",\"across\",\"mr\",\"yeah\",\"never\",\"stands\",\"side\",\"phone\",\"table\",\"window\",\"first\",\"gets\",\"moves\",\"sees\",\"suddenly\",\"moment\",\"gon\",\"house\",\"floor\",\"next\",\"opens\",\"even\",\"really\",\"okay\",\"three\",\"nothing\",\"thing\",\"men\",\"last\",\"sure\",\"hear\",\"big\",\"smiles\",\"stops\",\"light\",\"much\",\"steps\",\"bed\",\"night\",\"mean\",\"need\",\"inside\",\"give\",\"new\",\"said\",\"wall\",\"gun\",\"find\",\"life\",\"street\",\"stares\",\"place\",\"water\",\"maybe\",\"day\",\"work\",\"feet\",\"anything\",\"dead\",\"puts\",\"trying\",\"stop\",\"love\",\"left\",\"move\",\"hey\",\"white\",\"small\",\"guy\",\"help\",\"reaches\",\"watches\",\"girl\",\"call\",\"slowly\",\"coming\",\"nods\",\"talk\",\"ever\",\"black\",\"grabs\",\"put\",\"sorry\",\"woman\",\"holds\",\"past\",\"money\",\"boy\",\"thought\",\"god\",\"along\",\"standing\",\"please\",\"things\",\"watch\",\"close\",\"arm\",\"enters\",\"better\",\"keep\",\"onto\",\"voice\",\"begins\",\"makes\",\"name\",\"runs\",\"shit\",\"end\",\"great\",\"body\",\"home\",\"getting\",\"seen\",\"watching\",\"half\",\"turn\",\"sir\",\"every\",\"jack\",\"hard\",\"must\",\"sound\",\"almost\",\"leave\",\"walk\",\"outside\",\"years\",\"air\",\"top\",\"picks\",\"hell\",\"everything\",\"talking\",\"lot\",\"sitting\",\"desk\",\"glass\",\"start\",\"towards\",\"holding\",\"says\",\"father\",\"told\",\"forward\",\"young\",\"red\",\"run\",\"shot\",\"tries\",\"believe\",\"always\",\"mouth\",\"five\",\"mother\",\"without\",\"smile\",\"gives\",\"blood\",\"made\",\"second\",\"stand\",\"fuck\",\"line\",\"wait\",\"dark\",\"cont\",\"fire\",\"hair\",\"four\",\"pause\",\"arms\",\"heard\",\"enough\",\"chair\",\"continues\",\"sit\",\"bad\",\"quickly\",\"feel\",\"together\",\"high\",\"lights\",\"john\",\"office\",\"finally\",\"ground\",\"kind\",\"hold\",\"moving\",\"someone\",\"world\",\"real\",\"corner\",\"full\",\"f\",\"guys\",\"thank\",\"alone\",\"shoulder\",\"large\",\"mind\",\"show\",\"running\",\"seat\",\"gone\",\"taking\",\"waiting\",\"mrs\",\"might\",\"shakes\",\"others\",\"kill\",\"else\",\"staring\",\"glances\",\"remember\",\"empty\",\"ta\",\"listen\",\"silence\",\"heads\",\"everyone\",\"seems\",\"course\",\"done\",\"falls\",\"far\",\"camera\",\"bag\",\"crowd\",\"try\",\"leans\",\"already\",\"wrong\",\"em\",\"frank\",\"stay\",\"whole\",\"walking\",\"understand\",\"fucking\",\"saw\",\"eye\",\"nice\",\"ahead\",\"set\",\"huh\",\"drops\",\"baby\",\"uh\",\"screen\",\"box\",\"building\",\"near\",\"morning\",\"ray\",\"stairs\",\"friend\",\"bar\",\"ready\",\"paper\",\"wearing\",\"police\",\"making\",\"book\",\"tom\",\"fine\",\"appears\",\"miss\",\"kid\",\"wife\",\"throws\",\"happened\",\"cut\",\"many\",\"guess\",\"road\",\"drink\",\"wanted\",\"beside\",\"came\",\"six\",\"hello\",\"doors\",\"play\",\"couple\",\"son\",\"shut\",\"ed\",\"may\",\"scene\",\"boys\",\"ask\",\"point\",\"answer\",\"care\",\"ten\",\"kids\",\"mary\",\"children\",\"knows\",\"best\",\"kitchen\",\"hall\",\"year\",\"business\",\"sign\",\"pretty\",\"ya\",\"leaves\",\"hits\",\"thanks\",\"hit\",\"several\",\"hundred\",\"yet\",\"points\",\"coffee\",\"follows\",\"music\",\"george\",\"job\",\"closes\",\"passes\",\"pushes\",\"pocket\",\"case\",\"truck\",\"max\",\"closer\",\"pull\",\"twenty\",\"rest\",\"part\",\"laughs\",\"number\",\"found\"],\"x\":{\"__ndarray__\":\"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\",\"dtype\":\"float32\",\"shape\":[400]},\"y\":{\"__ndarray__\":\"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\",\"dtype\":\"float32\",\"shape\":[400]}},\"selected\":{\"id\":\"1404\",\"type\":\"Selection\"},\"selection_policy\":{\"id\":\"1405\",\"type\":\"UnionRenderers\"}},\"id\":\"1367\",\"type\":\"ColumnDataSource\"},{\"attributes\":{},\"id\":\"1402\",\"type\":\"Selection\"},{\"attributes\":{\"callback\":null},\"id\":\"1335\",\"type\":\"DataRange1d\"},{\"attributes\":{},\"id\":\"1354\",\"type\":\"ZoomOutTool\"},{\"attributes\":{\"dimension\":1,\"ticker\":{\"id\":\"1349\",\"type\":\"BasicTicker\"}},\"id\":\"1352\",\"type\":\"Grid\"},{\"attributes\":{},\"id\":\"1355\",\"type\":\"PanTool\"},{\"attributes\":{\"level\":\"glyph\",\"source\":{\"id\":\"1367\",\"type\":\"ColumnDataSource\"},\"text\":{\"field\":\"lab\"},\"text_font_size\":{\"value\":\"7pt\"},\"x\":{\"field\":\"x\"},\"x_offset\":{\"value\":3},\"y\":{\"field\":\"y\"},\"y_offset\":{\"value\":3}},\"id\":\"1368\",\"type\":\"LabelSet\"},{\"attributes\":{\"fill_alpha\":{\"value\":0.8},\"fill_color\":{\"field\":\"fill_color\"},\"line_color\":{\"value\":null},\"radius\":{\"units\":\"data\",\"value\":1},\"x\":{\"field\":\"x\"},\"y\":{\"field\":\"y\"}},\"id\":\"1363\",\"type\":\"Circle\"},{\"attributes\":{\"text\":\"t-SNE projection of embeddings based on the text of movie scripts\"},\"id\":\"1333\",\"type\":\"Title\"},{\"attributes\":{},\"id\":\"1403\",\"type\":\"UnionRenderers\"},{\"attributes\":{},\"id\":\"1353\",\"type\":\"ZoomInTool\"},{\"attributes\":{\"callback\":null},\"id\":\"1337\",\"type\":\"DataRange1d\"},{\"attributes\":{\"data_source\":{\"id\":\"1362\",\"type\":\"ColumnDataSource\"},\"glyph\":{\"id\":\"1363\",\"type\":\"Circle\"},\"hover_glyph\":null,\"muted_glyph\":null,\"nonselection_glyph\":{\"id\":\"1364\",\"type\":\"Circle\"},\"selection_glyph\":null,\"view\":{\"id\":\"1366\",\"type\":\"CDSView\"}},\"id\":\"1365\",\"type\":\"GlyphRenderer\"},{\"attributes\":{\"source\":{\"id\":\"1362\",\"type\":\"ColumnDataSource\"}},\"id\":\"1366\",\"type\":\"CDSView\"}],\"root_ids\":[\"1332\"]},\"title\":\"Bokeh Application\",\"version\":\"1.1.0\"}};\n",
       "  var render_items = [{\"docid\":\"0ab7de67-ecc5-4398-93a4-6e6088c81d7c\",\"roots\":{\"1332\":\"b2c69b3c-6b93-437d-a86b-546c1a4062a3\"}}];\n",
       "  root.Bokeh.embed.embed_items_notebook(docs_json, render_items);\n",
       "\n",
       "  }\n",
       "  if (root.Bokeh !== undefined) {\n",
       "    embed_document(root);\n",
       "  } else {\n",
       "    var attempts = 0;\n",
       "    var timer = setInterval(function(root) {\n",
       "      if (root.Bokeh !== undefined) {\n",
       "        embed_document(root);\n",
       "        clearInterval(timer);\n",
       "      }\n",
       "      attempts++;\n",
       "      if (attempts > 100) {\n",
       "        console.log(\"Bokeh: ERROR: Unable to run BokehJS code because BokehJS library is missing\");\n",
       "        clearInterval(timer);\n",
       "      }\n",
       "    }, 10, root)\n",
       "  }\n",
       "})(window);"
      ],
      "application/vnd.bokehjs_exec.v0+json": ""
     },
     "metadata": {
      "application/vnd.bokehjs_exec.v0+json": {
       "id": "1332"
      }
     },
     "output_type": "display_data"
    }
   ],
   "source": [
    "plot_data(final_embeddings, plot_only=400, perplexity=10, n_components=2, learning_rate=200, n_iter=5000)"
   ]
  },
  {
   "cell_type": "markdown",
   "metadata": {},
   "source": [
    "![](img/bokeh_plot_4.png)"
   ]
  },
  {
   "cell_type": "markdown",
   "metadata": {},
   "source": [
    "#### e) Perplexity = 20, learning rate = 200, iterations = 5000"
   ]
  },
  {
   "cell_type": "code",
   "execution_count": 7,
   "metadata": {},
   "outputs": [
    {
     "data": {
      "text/html": [
       "\n",
       "\n",
       "\n",
       "\n",
       "\n",
       "\n",
       "  <div class=\"bk-root\" id=\"57335f5c-17d0-42ce-8597-5fe7324d6e35\" data-root-id=\"1460\"></div>\n"
      ]
     },
     "metadata": {},
     "output_type": "display_data"
    },
    {
     "data": {
      "application/javascript": [
       "(function(root) {\n",
       "  function embed_document(root) {\n",
       "    \n",
       "  var docs_json = {\"a12e4bb4-04e3-4f02-9402-a213a77501aa\":{\"roots\":{\"references\":[{\"attributes\":{\"below\":[{\"id\":\"1471\",\"type\":\"LinearAxis\"}],\"center\":[{\"id\":\"1475\",\"type\":\"Grid\"},{\"id\":\"1480\",\"type\":\"Grid\"},{\"id\":\"1496\",\"type\":\"LabelSet\"}],\"left\":[{\"id\":\"1476\",\"type\":\"LinearAxis\"}],\"plot_height\":750,\"plot_width\":750,\"renderers\":[{\"id\":\"1493\",\"type\":\"GlyphRenderer\"}],\"title\":{\"id\":\"1461\",\"type\":\"Title\"},\"toolbar\":{\"id\":\"1485\",\"type\":\"Toolbar\"},\"x_range\":{\"id\":\"1463\",\"type\":\"DataRange1d\"},\"x_scale\":{\"id\":\"1467\",\"type\":\"LinearScale\"},\"y_range\":{\"id\":\"1465\",\"type\":\"DataRange1d\"},\"y_scale\":{\"id\":\"1469\",\"type\":\"LinearScale\"}},\"id\":\"1460\",\"subtype\":\"Figure\",\"type\":\"Plot\"},{\"attributes\":{\"callback\":null},\"id\":\"1463\",\"type\":\"DataRange1d\"},{\"attributes\":{},\"id\":\"1481\",\"type\":\"ZoomInTool\"},{\"attributes\":{\"callback\":null,\"data\":{\"fill_color\":[\"#ccdea0\",\"#9ca1a0\",\"#9b70a0\",\"#7fbba0\",\"#a3a5a0\",\"#d1d3a0\",\"#aacda0\",\"#8084a0\",\"#a9c2a0\",\"#b1cda0\",\"#a9aca0\",\"#a1a4a0\",\"#a1c1a0\",\"#7ebda0\",\"#c1e6a0\",\"#87bda0\",\"#8194a0\",\"#97a2a0\",\"#936da0\",\"#e4bca0\",\"#c28ca0\",\"#e4c0a0\",\"#bc94a0\",\"#be92a0\",\"#d28fa0\",\"#b8f2a0\",\"#d4d3a0\",\"#e1d8a0\",\"#9fbfa0\",\"#b4c5a0\",\"#cab5a0\",\"#e2a4a0\",\"#a989a0\",\"#e9aaa0\",\"#7dd1a0\",\"#dbd3a0\",\"#938da0\",\"#7fb8a0\",\"#e6e5a0\",\"#acd5a0\",\"#b7c1a0\",\"#e2bba0\",\"#c08ca0\",\"#c1d2a0\",\"#e387a0\",\"#c4d4a0\",\"#b6e2a0\",\"#929ca0\",\"#b4a9a0\",\"#a16fa0\",\"#ede4a0\",\"#9abaa0\",\"#91baa0\",\"#928ba0\",\"#99b9a0\",\"#a68fa0\",\"#c9fea0\",\"#dfc3a0\",\"#a7dea0\",\"#e1c3a0\",\"#72ada0\",\"#f1a8a0\",\"#e8bda0\",\"#a269a0\",\"#8f9ea0\",\"#f1eca0\",\"#e5daa0\",\"#d9e3a0\",\"#70aaa0\",\"#86a0a0\",\"#e4efa0\",\"#7897a0\",\"#8286a0\",\"#a46ea0\",\"#a7cda0\",\"#91bca0\",\"#82b5a0\",\"#c3a9a0\",\"#b4e3a0\",\"#f4d9a0\",\"#8496a0\",\"#b495a0\",\"#9488a0\",\"#e285a0\",\"#dbc6a0\",\"#d6d1a0\",\"#e8d8a0\",\"#936ba0\",\"#c8b5a0\",\"#b4efa0\",\"#a4dfa0\",\"#a36ba0\",\"#e3d6a0\",\"#c3aea0\",\"#e8a7a0\",\"#aaa0a0\",\"#c5a6a0\",\"#cf7da0\",\"#dac3a0\",\"#92b5a0\",\"#749da0\",\"#b5f5a0\",\"#d1cfa0\",\"#e5baa0\",\"#9491a0\",\"#afd2a0\",\"#f2aca0\",\"#d6daa0\",\"#8489a0\",\"#c490a0\",\"#b5cea0\",\"#abf0a0\",\"#88a7a0\",\"#7bbaa0\",\"#b6c7a0\",\"#cf81a0\",\"#dbcda0\",\"#b7f4a0\",\"#9dd3a0\",\"#ee91a0\",\"#cab7a0\",\"#b980a0\",\"#a88aa0\",\"#d6f3a0\",\"#cba4a0\",\"#d2d7a0\",\"#aaaaa0\",\"#96c8a0\",\"#e4e8a0\",\"#c475a0\",\"#b574a0\",\"#cac3a0\",\"#bbd0a0\",\"#ad8aa0\",\"#78b8a0\",\"#cdc1a0\",\"#b5d4a0\",\"#87cea0\",\"#9dc1a0\",\"#ab9fa0\",\"#b9d4a0\",\"#d9e4a0\",\"#c775a0\",\"#a885a0\",\"#add0a0\",\"#eae1a0\",\"#c0e8a0\",\"#ab85a0\",\"#95a2a0\",\"#d1c8a0\",\"#cfbfa0\",\"#d6d6a0\",\"#f0e1a0\",\"#91a2a0\",\"#72a9a0\",\"#dfb8a0\",\"#bdc5a0\",\"#a7c4a0\",\"#f8caa0\",\"#c48aa0\",\"#9eb4a0\",\"#e5c9a0\",\"#cda1a0\",\"#8b9ca0\",\"#bfaba0\",\"#b5a8a0\",\"#c7ffa0\",\"#c9dfa0\",\"#93b9a0\",\"#d1cba0\",\"#83a0a0\",\"#ebd0a0\",\"#b797a0\",\"#9c9fa0\",\"#a7cfa0\",\"#c0b5a0\",\"#77b1a0\",\"#8ae1a0\",\"#87bfa0\",\"#eee6a0\",\"#a370a0\",\"#acb7a0\",\"#d6b1a0\",\"#e9c1a0\",\"#bfaea0\",\"#ceb0a0\",\"#a7bfa0\",\"#93c4a0\",\"#8d93a0\",\"#ef93a0\",\"#cf85a0\",\"#af93a0\",\"#a587a0\",\"#d1e6a0\",\"#c1c4a0\",\"#a2b5a0\",\"#a6f0a0\",\"#73aea0\",\"#7398a0\",\"#9b7ca0\",\"#b4aba0\",\"#929da0\",\"#ab83a0\",\"#c5d7a0\",\"#d5b6a0\",\"#d2daa0\",\"#969aa0\",\"#f1a6a0\",\"#cd77a0\",\"#96c5a0\",\"#b9eea0\",\"#d7f5a0\",\"#cbcea0\",\"#d9d8a0\",\"#d18ea0\",\"#8b6ba0\",\"#d4b8a0\",\"#d5a7a0\",\"#afa0a0\",\"#b084a0\",\"#c099a0\",\"#c9fca0\",\"#a76ca0\",\"#6daaa0\",\"#f5c5a0\",\"#89aaa0\",\"#deb1a0\",\"#ca7aa0\",\"#c0dda0\",\"#96d6a0\",\"#c27ba0\",\"#906ca0\",\"#b8e3a0\",\"#c388a0\",\"#c1b0a0\",\"#bdf2a0\",\"#739da0\",\"#b8a6a0\",\"#6faea0\",\"#e1a6a0\",\"#87d0a0\",\"#7bc0a0\",\"#b3bda0\",\"#e09ca0\",\"#cf7ba0\",\"#cee0a0\",\"#8191a0\",\"#8ad2a0\",\"#b595a0\",\"#e8ada0\",\"#b59fa0\",\"#91bfa0\",\"#b9b7a0\",\"#a8f0a0\",\"#d0eba0\",\"#c88aa0\",\"#ab76a0\",\"#90e4a0\",\"#bcc0a0\",\"#ebe7a0\",\"#789aa0\",\"#c994a0\",\"#b774a0\",\"#d4e0a0\",\"#98afa0\",\"#8ec6a0\",\"#70a2a0\",\"#9ed1a0\",\"#abd6a0\",\"#9ebba0\",\"#f4eba0\",\"#e5c3a0\",\"#a99ba0\",\"#a0dea0\",\"#c0d0a0\",\"#c6daa0\",\"#7db5a0\",\"#81bba0\",\"#cdd1a0\",\"#ad79a0\",\"#9feea0\",\"#c2cba0\",\"#b2e4a0\",\"#97bea0\",\"#b7b7a0\",\"#cdb2a0\",\"#ded6a0\",\"#c6d0a0\",\"#b892a0\",\"#a7b0a0\",\"#c0a4a0\",\"#b789a0\",\"#93a7a0\",\"#b5afa0\",\"#8fb4a0\",\"#dcdda0\",\"#c9d6a0\",\"#b8bfa0\",\"#afb6a0\",\"#a1c8a0\",\"#a772a0\",\"#90c5a0\",\"#d4cea0\",\"#d9cba0\",\"#c0b7a0\",\"#d894a0\",\"#e3d2a0\",\"#9aa5a0\",\"#9ad5a0\",\"#e6dca0\",\"#a682a0\",\"#d3c4a0\",\"#e2dca0\",\"#b77ca0\",\"#b18aa0\",\"#8893a0\",\"#8e8ca0\",\"#b8f7a0\",\"#9a98a0\",\"#8ea4a0\",\"#cac8a0\",\"#7894a0\",\"#e9b7a0\",\"#758ba0\",\"#c374a0\",\"#cae6a0\",\"#ccffa0\",\"#7388a0\",\"#7caca0\",\"#ead7a0\",\"#86b4a0\",\"#f0efa0\",\"#d4bca0\",\"#d1b8a0\",\"#a48ba0\",\"#ced5a0\",\"#cea0a0\",\"#9172a0\",\"#d7dca0\",\"#87a6a0\",\"#997aa0\",\"#dfbea0\",\"#9088a0\",\"#eebaa0\",\"#9168a0\",\"#e3eca0\",\"#7f83a0\",\"#97caa0\",\"#9370a0\",\"#c4e2a0\",\"#f8c6a0\",\"#afb3a0\",\"#e1c7a0\",\"#b4b6a0\",\"#a3dba0\",\"#bfd6a0\",\"#c29ca0\",\"#deeda0\",\"#d8a8a0\",\"#8b6ea0\",\"#a7e2a0\",\"#ca97a0\",\"#a2e2a0\",\"#ced9a0\",\"#eacda0\",\"#8a90a0\",\"#9099a0\",\"#f095a0\",\"#efc7a0\",\"#7fa0a0\",\"#c8c0a0\",\"#f2c4a0\",\"#9bb4a0\",\"#a47fa0\",\"#e3e3a0\",\"#adc3a0\",\"#966aa0\",\"#8b69a0\",\"#f4d0a0\",\"#a991a0\",\"#768ea0\",\"#8cbaa0\",\"#c7aca0\",\"#badca0\",\"#c4c4a0\",\"#e283a0\",\"#a290a0\",\"#a594a0\",\"#bb8aa0\",\"#dfcda0\",\"#7ed2a0\",\"#bdcba0\",\"#82d2a0\",\"#abcaa0\",\"#8e66a0\",\"#a0aea0\",\"#c8eda0\",\"#a9b7a0\",\"#b3d9a0\",\"#c2bba0\"],\"x\":{\"__ndarray__\":\"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\",\"dtype\":\"float32\",\"shape\":[400]},\"y\":{\"__ndarray__\":\"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\",\"dtype\":\"float32\",\"shape\":[400]}},\"selected\":{\"id\":\"1539\",\"type\":\"Selection\"},\"selection_policy\":{\"id\":\"1540\",\"type\":\"UnionRenderers\"}},\"id\":\"1490\",\"type\":\"ColumnDataSource\"},{\"attributes\":{},\"id\":\"1483\",\"type\":\"PanTool\"},{\"attributes\":{},\"id\":\"1537\",\"type\":\"BasicTickFormatter\"},{\"attributes\":{\"fill_alpha\":{\"value\":0.1},\"fill_color\":{\"value\":\"#1f77b4\"},\"line_alpha\":{\"value\":0.1},\"line_color\":{\"value\":\"#1f77b4\"},\"radius\":{\"units\":\"data\",\"value\":1},\"x\":{\"field\":\"x\"},\"y\":{\"field\":\"y\"}},\"id\":\"1492\",\"type\":\"Circle\"},{\"attributes\":{},\"id\":\"1484\",\"type\":\"SaveTool\"},{\"attributes\":{},\"id\":\"1539\",\"type\":\"Selection\"},{\"attributes\":{},\"id\":\"1540\",\"type\":\"UnionRenderers\"},{\"attributes\":{},\"id\":\"1472\",\"type\":\"BasicTicker\"},{\"attributes\":{\"active_drag\":\"auto\",\"active_inspect\":\"auto\",\"active_multi\":null,\"active_scroll\":\"auto\",\"active_tap\":\"auto\",\"tools\":[{\"id\":\"1481\",\"type\":\"ZoomInTool\"},{\"id\":\"1482\",\"type\":\"ZoomOutTool\"},{\"id\":\"1483\",\"type\":\"PanTool\"},{\"id\":\"1484\",\"type\":\"SaveTool\"}]},\"id\":\"1485\",\"type\":\"Toolbar\"},{\"attributes\":{\"formatter\":{\"id\":\"1537\",\"type\":\"BasicTickFormatter\"},\"ticker\":{\"id\":\"1477\",\"type\":\"BasicTicker\"}},\"id\":\"1476\",\"type\":\"LinearAxis\"},{\"attributes\":{},\"id\":\"1542\",\"type\":\"UnionRenderers\"},{\"attributes\":{\"ticker\":{\"id\":\"1472\",\"type\":\"BasicTicker\"}},\"id\":\"1475\",\"type\":\"Grid\"},{\"attributes\":{\"data_source\":{\"id\":\"1490\",\"type\":\"ColumnDataSource\"},\"glyph\":{\"id\":\"1491\",\"type\":\"Circle\"},\"hover_glyph\":null,\"muted_glyph\":null,\"nonselection_glyph\":{\"id\":\"1492\",\"type\":\"Circle\"},\"selection_glyph\":null,\"view\":{\"id\":\"1494\",\"type\":\"CDSView\"}},\"id\":\"1493\",\"type\":\"GlyphRenderer\"},{\"attributes\":{},\"id\":\"1482\",\"type\":\"ZoomOutTool\"},{\"attributes\":{\"source\":{\"id\":\"1490\",\"type\":\"ColumnDataSource\"}},\"id\":\"1494\",\"type\":\"CDSView\"},{\"attributes\":{\"text\":\"t-SNE projection of embeddings based on the text of movie scripts\"},\"id\":\"1461\",\"type\":\"Title\"},{\"attributes\":{\"fill_alpha\":{\"value\":0.8},\"fill_color\":{\"field\":\"fill_color\"},\"line_color\":{\"value\":null},\"radius\":{\"units\":\"data\",\"value\":1},\"x\":{\"field\":\"x\"},\"y\":{\"field\":\"y\"}},\"id\":\"1491\",\"type\":\"Circle\"},{\"attributes\":{\"callback\":null,\"data\":{\"lab\":[\"UNK\",\"back\",\"one\",\"looks\",\"like\",\"know\",\"get\",\"door\",\"see\",\"got\",\"right\",\"around\",\"go\",\"look\",\"man\",\"turns\",\"room\",\"away\",\"two\",\"want\",\"hand\",\"going\",\"face\",\"head\",\"eyes\",\"time\",\"think\",\"well\",\"come\",\"way\",\"something\",\"good\",\"takes\",\"little\",\"car\",\"still\",\"behind\",\"looking\",\"oh\",\"take\",\"us\",\"let\",\"hands\",\"tell\",\"open\",\"say\",\"beat\",\"toward\",\"starts\",\"another\",\"yes\",\"comes\",\"walks\",\"front\",\"goes\",\"pulls\",\"make\",\"would\",\"people\",\"could\",\"sits\",\"old\",\"na\",\"long\",\"across\",\"mr\",\"yeah\",\"never\",\"stands\",\"side\",\"phone\",\"table\",\"window\",\"first\",\"gets\",\"moves\",\"sees\",\"suddenly\",\"moment\",\"gon\",\"house\",\"floor\",\"next\",\"opens\",\"even\",\"really\",\"okay\",\"three\",\"nothing\",\"thing\",\"men\",\"last\",\"sure\",\"hear\",\"big\",\"smiles\",\"stops\",\"light\",\"much\",\"steps\",\"bed\",\"night\",\"mean\",\"need\",\"inside\",\"give\",\"new\",\"said\",\"wall\",\"gun\",\"find\",\"life\",\"street\",\"stares\",\"place\",\"water\",\"maybe\",\"day\",\"work\",\"feet\",\"anything\",\"dead\",\"puts\",\"trying\",\"stop\",\"love\",\"left\",\"move\",\"hey\",\"white\",\"small\",\"guy\",\"help\",\"reaches\",\"watches\",\"girl\",\"call\",\"slowly\",\"coming\",\"nods\",\"talk\",\"ever\",\"black\",\"grabs\",\"put\",\"sorry\",\"woman\",\"holds\",\"past\",\"money\",\"boy\",\"thought\",\"god\",\"along\",\"standing\",\"please\",\"things\",\"watch\",\"close\",\"arm\",\"enters\",\"better\",\"keep\",\"onto\",\"voice\",\"begins\",\"makes\",\"name\",\"runs\",\"shit\",\"end\",\"great\",\"body\",\"home\",\"getting\",\"seen\",\"watching\",\"half\",\"turn\",\"sir\",\"every\",\"jack\",\"hard\",\"must\",\"sound\",\"almost\",\"leave\",\"walk\",\"outside\",\"years\",\"air\",\"top\",\"picks\",\"hell\",\"everything\",\"talking\",\"lot\",\"sitting\",\"desk\",\"glass\",\"start\",\"towards\",\"holding\",\"says\",\"father\",\"told\",\"forward\",\"young\",\"red\",\"run\",\"shot\",\"tries\",\"believe\",\"always\",\"mouth\",\"five\",\"mother\",\"without\",\"smile\",\"gives\",\"blood\",\"made\",\"second\",\"stand\",\"fuck\",\"line\",\"wait\",\"dark\",\"cont\",\"fire\",\"hair\",\"four\",\"pause\",\"arms\",\"heard\",\"enough\",\"chair\",\"continues\",\"sit\",\"bad\",\"quickly\",\"feel\",\"together\",\"high\",\"lights\",\"john\",\"office\",\"finally\",\"ground\",\"kind\",\"hold\",\"moving\",\"someone\",\"world\",\"real\",\"corner\",\"full\",\"f\",\"guys\",\"thank\",\"alone\",\"shoulder\",\"large\",\"mind\",\"show\",\"running\",\"seat\",\"gone\",\"taking\",\"waiting\",\"mrs\",\"might\",\"shakes\",\"others\",\"kill\",\"else\",\"staring\",\"glances\",\"remember\",\"empty\",\"ta\",\"listen\",\"silence\",\"heads\",\"everyone\",\"seems\",\"course\",\"done\",\"falls\",\"far\",\"camera\",\"bag\",\"crowd\",\"try\",\"leans\",\"already\",\"wrong\",\"em\",\"frank\",\"stay\",\"whole\",\"walking\",\"understand\",\"fucking\",\"saw\",\"eye\",\"nice\",\"ahead\",\"set\",\"huh\",\"drops\",\"baby\",\"uh\",\"screen\",\"box\",\"building\",\"near\",\"morning\",\"ray\",\"stairs\",\"friend\",\"bar\",\"ready\",\"paper\",\"wearing\",\"police\",\"making\",\"book\",\"tom\",\"fine\",\"appears\",\"miss\",\"kid\",\"wife\",\"throws\",\"happened\",\"cut\",\"many\",\"guess\",\"road\",\"drink\",\"wanted\",\"beside\",\"came\",\"six\",\"hello\",\"doors\",\"play\",\"couple\",\"son\",\"shut\",\"ed\",\"may\",\"scene\",\"boys\",\"ask\",\"point\",\"answer\",\"care\",\"ten\",\"kids\",\"mary\",\"children\",\"knows\",\"best\",\"kitchen\",\"hall\",\"year\",\"business\",\"sign\",\"pretty\",\"ya\",\"leaves\",\"hits\",\"thanks\",\"hit\",\"several\",\"hundred\",\"yet\",\"points\",\"coffee\",\"follows\",\"music\",\"george\",\"job\",\"closes\",\"passes\",\"pushes\",\"pocket\",\"case\",\"truck\",\"max\",\"closer\",\"pull\",\"twenty\",\"rest\",\"part\",\"laughs\",\"number\",\"found\"],\"x\":{\"__ndarray__\":\"/QrFQezgxsEogc3B+1BXwm9ojcFWXe5BMeYrwd3ZUMJfwjnBFa95wOFBM8G6wJ7BDGGawVpjWcL6nFRBebg1wswKT8LtdOzBB0gGwid2QUKEjGVB+dNBQpzEA0EyFiRBbHT0Qe2tgkDaYwBCiBc1QhUOqMGEoIc+icezQUR2OEKZ6zfBLL5UQvq4XcLJKx5CpNYHwnWyVsJSCElC2JgMwfdzSUAQzDhCjedFQXbSXEG2Jj5CvRWEQaM/F0BV3gvCnk0JP7LKn8H5S2RCtPLQwbyzD8J/DwrCkvPbwUyTYcGrFqpB/+4sQnpCXsFChjVCEvaFwv5hdkKmEVFC75eWwdNKFsJ3xHdCaflFQuTdFEKyGonCxIo7wr/IQUI7d3DCpPZIwneLgMGBZFLBQ4gPwgGwScLAeXtByOkzPg63gEJCDEPC2I62vliGAsI61DpCl74cQiJeCkKc/FJCc1QEwjaIo0Geu6U+ADaCwaVGj8F4Yj5CnixxQbqiUkJ42y3BtmONQQYe2kFN3hhCBRcKwjIfgMLWOoU/MbTpQbynREIpTAHCKuC1wHlmeEKWdQhCKepBwgPAgUFeyNs/hSwawVAgMsJtHWXC1kAMQAAs3EGS/hxCtVRaQFbju8F0nGlCMEu3QZkAtUC/sE3B5n0LQnaWukGtWfFBdHoowfpu8cGtZ0NCjeGFQbqAzD9tarJBMa/kQLTA4MAQfnDCN2rPQWRdqD+ZSzTCuka/wVh/F8Frkb9A9jQVQmXSnUGYjk3BZGrywKrpW0I72EpBQKoawS+w/cH6oehBrWDcQfwUCEINHHBC70kNwmSihMK6cS9CIyAdQYTpUsFRwolCPxaDQQcEtsG5N0VCM+TOQXaSJMKg0TFBxn/AP120nEGzGqtBh94Fwn1Q6EEPAkbCSdZcQkmFZEAi+cDB93lewUFCSUGdc3XCXHAownSWNcJJhmtCQSuIwaTKDMEGggtCG2NWQh3/MEHMGNdB3rFUwTK4B8KlHxzC2hBvQrKM3UGbSLzAqBhywbLw6kFDqlBBLnGSwRfhZMHAhILCTTGCwgv+ycFPkSO/g3EJwghOFsEJgI5BxK4HQkNN9UFJYPTBxA53Qj/uz0H3BPXBbearQJRUDkJbgb1BmrkXQpIj70GoXSXCCJ0AQj/hBUL1XrnA3/yewHIaSkGf/K5BRCdRwUH6jsLQsoJChW8vwjOxKUIhKLZBsVdNQbuy8MEC7GlB7VURwhUUh0BRynRBRt9bQVdHHUF9t4PCnJ2RQC/Ci8IncTdCe0Q0wmVOZMJEa9e/AdczQizW20EdBtBBizBNwhQsK8K0tds/yPBRQrs3gD/Ycg/C4VuvQJTnQcEGiuZBYHigQQssF8HWBxPCvzAPQSQtXUITE3DC+LivQaWUV0DJBwJCvGviwUxQGsKbJonCR0uzweTgH8GnwrLBomWAQj6TR0IOGTHBnvCjweTPS0Hao5FBMw9dws+ITMKCHM5B5GH9wKRNrMErdm5BmKUZwOFN6MHsAWxAqmzJQVcEK0I/SJdByJeLQMlAWcFjZkZBOTpqQGL2BsKFst8/O28WwjJxI0L11axBrqyBQGt4qcCyM5rBGsdfwe2pEsKT0gFCTw4UQmNmTkGYFxNCZjs/Qk8208EYq9fBiZxLQtvXacF2Nf1BqJk4Qu2KXkBTylDAgQAywh0GGMKnVJRAC9TSwRbuGMJlUbdByadwwtUIV0JX2X7C7t11QdxotUGQbsFBCmWCwsW0YMJxz1pC8P06wtiOc0LvRQBCC5DsQRPygcHxc9dBa93XQW0LD8JyLw5CYO42wuml2MELQS1Cn1kRwuaqa0L+fQ/Ci+c+QjmIVMLHY+3BoIkGwiGPg0GVcolCqoWywCIUNEJV2jg/zRmMwSrJNUHvwWhBrEorQk5aEUJNTiTCh8pZwUcXtUFFJJTBOxzQQWCMWULxrinCtwkQwlZhc0LcIG9CbxVUwnCCp0EVxnlCFKXMwXV0g8HP+D9C+CL2wHx+88G2GybCCUmAQndrNcFTV3jCwLQiwvNymEHYL8ZA9AqFQUI/OUKxkZDBNDF1wWxG9EDdDS9CfthYwkUFFEGWhknCzh4UwXT/GsIfPKXBDe2kQchWMMElF8q/d0NmQQ==\",\"dtype\":\"float32\",\"shape\":[400]},\"y\":{\"__ndarray__\":\"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\",\"dtype\":\"float32\",\"shape\":[400]}},\"selected\":{\"id\":\"1541\",\"type\":\"Selection\"},\"selection_policy\":{\"id\":\"1542\",\"type\":\"UnionRenderers\"}},\"id\":\"1495\",\"type\":\"ColumnDataSource\"},{\"attributes\":{\"callback\":null},\"id\":\"1465\",\"type\":\"DataRange1d\"},{\"attributes\":{\"level\":\"glyph\",\"source\":{\"id\":\"1495\",\"type\":\"ColumnDataSource\"},\"text\":{\"field\":\"lab\"},\"text_font_size\":{\"value\":\"7pt\"},\"x\":{\"field\":\"x\"},\"x_offset\":{\"value\":3},\"y\":{\"field\":\"y\"},\"y_offset\":{\"value\":3}},\"id\":\"1496\",\"type\":\"LabelSet\"},{\"attributes\":{},\"id\":\"1467\",\"type\":\"LinearScale\"},{\"attributes\":{\"dimension\":1,\"ticker\":{\"id\":\"1477\",\"type\":\"BasicTicker\"}},\"id\":\"1480\",\"type\":\"Grid\"},{\"attributes\":{},\"id\":\"1469\",\"type\":\"LinearScale\"},{\"attributes\":{},\"id\":\"1541\",\"type\":\"Selection\"},{\"attributes\":{\"formatter\":{\"id\":\"1535\",\"type\":\"BasicTickFormatter\"},\"ticker\":{\"id\":\"1472\",\"type\":\"BasicTicker\"}},\"id\":\"1471\",\"type\":\"LinearAxis\"},{\"attributes\":{},\"id\":\"1535\",\"type\":\"BasicTickFormatter\"},{\"attributes\":{},\"id\":\"1477\",\"type\":\"BasicTicker\"}],\"root_ids\":[\"1460\"]},\"title\":\"Bokeh Application\",\"version\":\"1.1.0\"}};\n",
       "  var render_items = [{\"docid\":\"a12e4bb4-04e3-4f02-9402-a213a77501aa\",\"roots\":{\"1460\":\"57335f5c-17d0-42ce-8597-5fe7324d6e35\"}}];\n",
       "  root.Bokeh.embed.embed_items_notebook(docs_json, render_items);\n",
       "\n",
       "  }\n",
       "  if (root.Bokeh !== undefined) {\n",
       "    embed_document(root);\n",
       "  } else {\n",
       "    var attempts = 0;\n",
       "    var timer = setInterval(function(root) {\n",
       "      if (root.Bokeh !== undefined) {\n",
       "        embed_document(root);\n",
       "        clearInterval(timer);\n",
       "      }\n",
       "      attempts++;\n",
       "      if (attempts > 100) {\n",
       "        console.log(\"Bokeh: ERROR: Unable to run BokehJS code because BokehJS library is missing\");\n",
       "        clearInterval(timer);\n",
       "      }\n",
       "    }, 10, root)\n",
       "  }\n",
       "})(window);"
      ],
      "application/vnd.bokehjs_exec.v0+json": ""
     },
     "metadata": {
      "application/vnd.bokehjs_exec.v0+json": {
       "id": "1460"
      }
     },
     "output_type": "display_data"
    }
   ],
   "source": [
    "plot_data(final_embeddings, plot_only=400, perplexity=20, n_components=2, learning_rate=200, n_iter=5000)"
   ]
  },
  {
   "cell_type": "markdown",
   "metadata": {},
   "source": [
    "![](img/bokeh_plot_5.png)"
   ]
  },
  {
   "cell_type": "markdown",
   "metadata": {},
   "source": [
    "#### f) Perplexity = 30, learning_rate=200, iterations = 5000, ie same as (a) but with dimension = 300"
   ]
  },
  {
   "cell_type": "code",
   "execution_count": 9,
   "metadata": {},
   "outputs": [
    {
     "name": "stdout",
     "output_type": "stream",
     "text": [
      "Initialized\n",
      "Average loss at step  0 :  101.82319641113281\n",
      "Average loss at step  20000 :  9.001744016996957\n",
      "Average loss at step  40000 :  3.9096954645633697\n",
      "Average loss at step  60000 :  3.7703053982771935\n",
      "Average loss at step  80000 :  3.777942430484295\n",
      "Average loss at step  100000 :  3.709189660924673\n"
     ]
    },
    {
     "data": {
      "text/html": [
       "\n",
       "\n",
       "\n",
       "\n",
       "\n",
       "\n",
       "  <div class=\"bk-root\" id=\"a3e7db22-7b08-47cb-a1ae-b9f169d64148\" data-root-id=\"1597\"></div>\n"
      ]
     },
     "metadata": {},
     "output_type": "display_data"
    },
    {
     "data": {
      "application/javascript": [
       "(function(root) {\n",
       "  function embed_document(root) {\n",
       "    \n",
       "  var docs_json = {\"465d81e1-c936-4de2-8968-70d3d8ce7a5b\":{\"roots\":{\"references\":[{\"attributes\":{\"below\":[{\"id\":\"1608\",\"type\":\"LinearAxis\"}],\"center\":[{\"id\":\"1612\",\"type\":\"Grid\"},{\"id\":\"1617\",\"type\":\"Grid\"},{\"id\":\"1633\",\"type\":\"LabelSet\"}],\"left\":[{\"id\":\"1613\",\"type\":\"LinearAxis\"}],\"plot_height\":750,\"plot_width\":750,\"renderers\":[{\"id\":\"1630\",\"type\":\"GlyphRenderer\"}],\"title\":{\"id\":\"1598\",\"type\":\"Title\"},\"toolbar\":{\"id\":\"1622\",\"type\":\"Toolbar\"},\"x_range\":{\"id\":\"1600\",\"type\":\"DataRange1d\"},\"x_scale\":{\"id\":\"1604\",\"type\":\"LinearScale\"},\"y_range\":{\"id\":\"1602\",\"type\":\"DataRange1d\"},\"y_scale\":{\"id\":\"1606\",\"type\":\"LinearScale\"}},\"id\":\"1597\",\"subtype\":\"Figure\",\"type\":\"Plot\"},{\"attributes\":{\"callback\":null,\"data\":{\"fill_color\":[\"#b8a9a0\",\"#ac96a0\",\"#a5a8a0\",\"#a6c1a0\",\"#baafa0\",\"#bebaa0\",\"#b5c9a0\",\"#b09fa0\",\"#afc0a0\",\"#b6caa0\",\"#bea3a0\",\"#ab94a0\",\"#b1c6a0\",\"#a8c0a0\",\"#aeada0\",\"#a3c0a0\",\"#b49ba0\",\"#ac95a0\",\"#9aa7a0\",\"#c9ada0\",\"#bd9ca0\",\"#c8afa0\",\"#c598a0\",\"#c09da0\",\"#c698a0\",\"#b6a8a0\",\"#bdb9a0\",\"#bbb9a0\",\"#b0c6a0\",\"#c1aaa0\",\"#ceb5a0\",\"#b7b0a0\",\"#a1cea0\",\"#cec4a0\",\"#b194a0\",\"#cbbba0\",\"#a69ea0\",\"#a8c3a0\",\"#b8baa0\",\"#b1cda0\",\"#c2aaa0\",\"#c8ada0\",\"#be9ca0\",\"#bbc2a0\",\"#94c1a0\",\"#bec0a0\",\"#b3b5a0\",\"#a992a0\",\"#aed8a0\",\"#a4a7a0\",\"#b9bca0\",\"#afc6a0\",\"#9ec6a0\",\"#a59fa0\",\"#9cc3a0\",\"#a0cea0\",\"#b8d5a0\",\"#c6b1a0\",\"#c8a4a0\",\"#c6b0a0\",\"#9db8a0\",\"#b4ada0\",\"#c9afa0\",\"#c8c5a0\",\"#ab92a0\",\"#b4baa0\",\"#b9b9a0\",\"#c4b1a0\",\"#9ab9a0\",\"#a29ea0\",\"#bfd1a0\",\"#b599a0\",\"#b09ea0\",\"#a5aba0\",\"#b4caa0\",\"#9ec5a0\",\"#aebfa0\",\"#b1b4a0\",\"#afb5a0\",\"#bcbda0\",\"#b49ca0\",\"#b891a0\",\"#a5a2a0\",\"#94c2a0\",\"#c5b9a0\",\"#bfb9a0\",\"#b6bda0\",\"#99a7a0\",\"#cfb7a0\",\"#b6a6a0\",\"#c8a3a0\",\"#a6aba0\",\"#c7bda0\",\"#c5cba0\",\"#b4b0a0\",\"#a5bca0\",\"#adbca0\",\"#a2b3a0\",\"#c7b8a0\",\"#9dc9a0\",\"#b893a0\",\"#b4a9a0\",\"#bcbba0\",\"#c9aba0\",\"#ac9aa0\",\"#b3cca0\",\"#bbaaa0\",\"#c0c0a0\",\"#a19ba0\",\"#bb9fa0\",\"#b0c1a0\",\"#adbaa0\",\"#b29aa0\",\"#a6c2a0\",\"#b5a4a0\",\"#c494a0\",\"#c1b8a0\",\"#b4a8a0\",\"#b5c6a0\",\"#b48fa0\",\"#ceb6a0\",\"#c49ca0\",\"#a1cda0\",\"#d3afa0\",\"#afbca0\",\"#bebba0\",\"#bfa3a0\",\"#accaa0\",\"#b5bfa0\",\"#aca6a0\",\"#d1c5a0\",\"#afaca0\",\"#b1bea0\",\"#9ecda0\",\"#a3c3a0\",\"#adaba0\",\"#bac3a0\",\"#a490a0\",\"#afc7a0\",\"#a4bda0\",\"#bcc7a0\",\"#c4b0a0\",\"#ada7a0\",\"#9fd0a0\",\"#b4cca0\",\"#c2baa0\",\"#aeada0\",\"#a3cda0\",\"#ad93a0\",\"#bea9a0\",\"#acada0\",\"#bdb7a0\",\"#c4b5a0\",\"#ad8fa0\",\"#9abaa0\",\"#c7aba0\",\"#caa6a0\",\"#aac0a0\",\"#bea0a0\",\"#be9aa0\",\"#9dc6a0\",\"#bdada0\",\"#b9c9a0\",\"#ac8fa0\",\"#c1cda0\",\"#add7a0\",\"#b7d5a0\",\"#b8bfa0\",\"#a0c3a0\",\"#c3c6a0\",\"#a09ea0\",\"#bbb1a0\",\"#c39aa0\",\"#b69fa0\",\"#b6c8a0\",\"#c8cba0\",\"#a9c3a0\",\"#9daba0\",\"#a1bfa0\",\"#b6baa0\",\"#a6a9a0\",\"#cea1a0\",\"#b4b4a0\",\"#c6b4a0\",\"#c3cea0\",\"#aab3a0\",\"#b4c2a0\",\"#accba0\",\"#a79ca0\",\"#98a0a0\",\"#c692a0\",\"#a49ca0\",\"#a1d0a0\",\"#c3b6a0\",\"#ceb3a0\",\"#c3bda0\",\"#c8b6a0\",\"#9db9a0\",\"#b699a0\",\"#bc8da0\",\"#afd8a0\",\"#a991a0\",\"#a4cca0\",\"#bec1a0\",\"#bdb4a0\",\"#bbc0a0\",\"#aa96a0\",\"#b6aea0\",\"#c194a0\",\"#a0bea0\",\"#b8a3a0\",\"#d4afa0\",\"#bebda0\",\"#cab8a0\",\"#c795a0\",\"#99a5a0\",\"#bfb4a0\",\"#9eb0a0\",\"#a8bea0\",\"#a1cba0\",\"#c395a0\",\"#bad4a0\",\"#a3aaa0\",\"#99b8a0\",\"#b9c6a0\",\"#9f9aa0\",\"#a9c7a0\",\"#9ab0a0\",\"#b6b6a0\",\"#c1b1a0\",\"#afa4a0\",\"#9aa5a0\",\"#b9b5a0\",\"#bf9aa0\",\"#c6cba0\",\"#d2a7a0\",\"#b696a0\",\"#abd7a0\",\"#9eb7a0\",\"#b8b1a0\",\"#a490a0\",\"#a9bca0\",\"#c3a1a0\",\"#bbada0\",\"#a2b3a0\",\"#b1afa0\",\"#b69da0\",\"#aeb4a0\",\"#b891a0\",\"#c7bba0\",\"#a6cba0\",\"#a9cea0\",\"#aeb1a0\",\"#c0b6a0\",\"#b2b2a0\",\"#a1a0a0\",\"#b8cea0\",\"#ce9da0\",\"#a7b5a0\",\"#b8bda0\",\"#cdbca0\",\"#bc98a0\",\"#d2c5a0\",\"#b8aba0\",\"#b3c9a0\",\"#abcfa0\",\"#b495a0\",\"#b9b4a0\",\"#b0cea0\",\"#a9c6a0\",\"#b4b8a0\",\"#c9b2a0\",\"#9acca0\",\"#c6a3a0\",\"#bcc4a0\",\"#c1c3a0\",\"#a7c4a0\",\"#a5c0a0\",\"#97cba0\",\"#98afa0\",\"#cdb1a0\",\"#c0caa0\",\"#afb6a0\",\"#9bc2a0\",\"#d1b4a0\",\"#acc2a0\",\"#bfb1a0\",\"#b5b4a0\",\"#a7d2a0\",\"#9ab4a0\",\"#a48ea0\",\"#ba9da0\",\"#c99da0\",\"#d1aea0\",\"#a3c8a0\",\"#bbb7a0\",\"#bea5a0\",\"#c3a8a0\",\"#d4bda0\",\"#b2c4a0\",\"#b5b1a0\",\"#accda0\",\"#c0baa0\",\"#b8cca0\",\"#cacba0\",\"#c899a0\",\"#cec2a0\",\"#af96a0\",\"#a7b1a0\",\"#bcb4a0\",\"#a3d2a0\",\"#aaada0\",\"#d1b9a0\",\"#d3a5a0\",\"#b9a7a0\",\"#a398a0\",\"#a5a1a0\",\"#b3a9a0\",\"#aca1a0\",\"#a895a0\",\"#b1b9a0\",\"#bca2a0\",\"#ceada0\",\"#a2aea0\",\"#aca8a0\",\"#c7a7a0\",\"#b8d7a0\",\"#baa6a0\",\"#b1aba0\",\"#c1bda0\",\"#99bca0\",\"#b2baa0\",\"#ccb4a0\",\"#c9c1a0\",\"#9fd1a0\",\"#c2c0a0\",\"#b5cfa0\",\"#9ea6a0\",\"#c0c6a0\",\"#b09aa0\",\"#bd8da0\",\"#cbada0\",\"#a89fa0\",\"#beb0a0\",\"#97a5a0\",\"#bed0a0\",\"#b0a0a0\",\"#bccaa0\",\"#9ba8a0\",\"#c5bfa0\",\"#92c1a0\",\"#adb6a0\",\"#cbaaa0\",\"#b1a7a0\",\"#a6b5a0\",\"#b7c2a0\",\"#c2a6a0\",\"#db8ea0\",\"#cda9a0\",\"#97a7a0\",\"#c9a1a0\",\"#94b6a0\",\"#caa3a0\",\"#c5c2a0\",\"#a0a6a0\",\"#b499a0\",\"#a797a0\",\"#96a0a0\",\"#b3a5a0\",\"#c9bea0\",\"#ccc6a0\",\"#c5ada0\",\"#a0c6a0\",\"#b2d3a0\",\"#b8b8a0\",\"#a6afa0\",\"#99a9a0\",\"#99a2a0\",\"#c2b3a0\",\"#9ccfa0\",\"#c190a0\",\"#a0c2a0\",\"#93b5a0\",\"#a8b2a0\",\"#b3bea0\",\"#95c3a0\",\"#a9a4a0\",\"#a3d4a0\",\"#ac9ca0\",\"#b4a1a0\",\"#b293a0\",\"#cfbda0\",\"#aa99a0\",\"#b4c7a0\",\"#97a4a0\",\"#9e95a0\",\"#c1aea0\",\"#a4baa0\",\"#c0d3a0\",\"#aab8a0\"],\"x\":{\"__ndarray__\":\"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\",\"dtype\":\"float32\",\"shape\":[400]},\"y\":{\"__ndarray__\":\"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\",\"dtype\":\"float32\",\"shape\":[400]}},\"selected\":{\"id\":\"1685\",\"type\":\"Selection\"},\"selection_policy\":{\"id\":\"1686\",\"type\":\"UnionRenderers\"}},\"id\":\"1627\",\"type\":\"ColumnDataSource\"},{\"attributes\":{\"callback\":null,\"data\":{\"lab\":[\"UNK\",\"back\",\"one\",\"looks\",\"like\",\"know\",\"get\",\"door\",\"see\",\"got\",\"right\",\"around\",\"go\",\"look\",\"man\",\"turns\",\"room\",\"away\",\"two\",\"want\",\"hand\",\"going\",\"face\",\"head\",\"eyes\",\"time\",\"think\",\"well\",\"come\",\"way\",\"something\",\"good\",\"takes\",\"little\",\"car\",\"still\",\"behind\",\"looking\",\"oh\",\"take\",\"us\",\"let\",\"hands\",\"tell\",\"open\",\"say\",\"beat\",\"toward\",\"starts\",\"another\",\"yes\",\"comes\",\"walks\",\"front\",\"goes\",\"pulls\",\"make\",\"would\",\"people\",\"could\",\"sits\",\"old\",\"na\",\"long\",\"across\",\"mr\",\"yeah\",\"never\",\"stands\",\"side\",\"phone\",\"table\",\"window\",\"first\",\"gets\",\"moves\",\"sees\",\"suddenly\",\"moment\",\"gon\",\"house\",\"floor\",\"next\",\"opens\",\"even\",\"really\",\"okay\",\"three\",\"nothing\",\"thing\",\"men\",\"last\",\"sure\",\"hear\",\"big\",\"smiles\",\"stops\",\"light\",\"much\",\"steps\",\"bed\",\"night\",\"mean\",\"need\",\"inside\",\"give\",\"new\",\"said\",\"wall\",\"gun\",\"find\",\"life\",\"street\",\"stares\",\"place\",\"water\",\"maybe\",\"day\",\"work\",\"feet\",\"anything\",\"dead\",\"puts\",\"trying\",\"stop\",\"love\",\"left\",\"move\",\"hey\",\"white\",\"small\",\"guy\",\"help\",\"reaches\",\"watches\",\"girl\",\"call\",\"slowly\",\"coming\",\"nods\",\"talk\",\"ever\",\"black\",\"grabs\",\"put\",\"sorry\",\"woman\",\"holds\",\"past\",\"money\",\"boy\",\"thought\",\"god\",\"along\",\"standing\",\"please\",\"things\",\"watch\",\"close\",\"arm\",\"enters\",\"better\",\"keep\",\"onto\",\"voice\",\"begins\",\"makes\",\"name\",\"runs\",\"shit\",\"end\",\"great\",\"body\",\"home\",\"getting\",\"seen\",\"watching\",\"half\",\"turn\",\"sir\",\"every\",\"jack\",\"hard\",\"must\",\"sound\",\"almost\",\"leave\",\"walk\",\"outside\",\"years\",\"air\",\"top\",\"picks\",\"hell\",\"everything\",\"talking\",\"lot\",\"sitting\",\"desk\",\"glass\",\"start\",\"towards\",\"holding\",\"says\",\"father\",\"told\",\"forward\",\"young\",\"red\",\"run\",\"shot\",\"tries\",\"believe\",\"always\",\"mouth\",\"five\",\"mother\",\"without\",\"smile\",\"gives\",\"blood\",\"made\",\"second\",\"stand\",\"fuck\",\"line\",\"wait\",\"dark\",\"cont\",\"fire\",\"hair\",\"four\",\"pause\",\"arms\",\"heard\",\"enough\",\"chair\",\"continues\",\"sit\",\"bad\",\"quickly\",\"feel\",\"together\",\"high\",\"lights\",\"john\",\"office\",\"finally\",\"ground\",\"kind\",\"hold\",\"moving\",\"someone\",\"world\",\"real\",\"corner\",\"full\",\"f\",\"guys\",\"thank\",\"alone\",\"shoulder\",\"large\",\"mind\",\"show\",\"running\",\"seat\",\"gone\",\"taking\",\"waiting\",\"mrs\",\"might\",\"shakes\",\"others\",\"kill\",\"else\",\"staring\",\"glances\",\"remember\",\"empty\",\"ta\",\"listen\",\"silence\",\"heads\",\"everyone\",\"seems\",\"course\",\"done\",\"falls\",\"far\",\"camera\",\"bag\",\"crowd\",\"try\",\"leans\",\"already\",\"wrong\",\"em\",\"frank\",\"stay\",\"whole\",\"walking\",\"understand\",\"fucking\",\"saw\",\"eye\",\"nice\",\"ahead\",\"set\",\"huh\",\"drops\",\"baby\",\"uh\",\"screen\",\"box\",\"building\",\"near\",\"morning\",\"ray\",\"stairs\",\"friend\",\"bar\",\"ready\",\"paper\",\"wearing\",\"police\",\"making\",\"book\",\"tom\",\"fine\",\"appears\",\"miss\",\"kid\",\"wife\",\"throws\",\"happened\",\"cut\",\"many\",\"guess\",\"road\",\"drink\",\"wanted\",\"beside\",\"came\",\"six\",\"hello\",\"doors\",\"play\",\"couple\",\"son\",\"shut\",\"ed\",\"may\",\"scene\",\"boys\",\"ask\",\"point\",\"answer\",\"care\",\"ten\",\"kids\",\"mary\",\"children\",\"knows\",\"best\",\"kitchen\",\"hall\",\"year\",\"business\",\"sign\",\"pretty\",\"ya\",\"leaves\",\"hits\",\"thanks\",\"hit\",\"several\",\"hundred\",\"yet\",\"points\",\"coffee\",\"follows\",\"music\",\"george\",\"job\",\"closes\",\"passes\",\"pushes\",\"pocket\",\"case\",\"truck\",\"max\",\"closer\",\"pull\",\"twenty\",\"rest\",\"part\",\"laughs\",\"number\",\"found\"],\"x\":{\"__ndarray__\":\"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\",\"dtype\":\"float32\",\"shape\":[400]},\"y\":{\"__ndarray__\":\"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\",\"dtype\":\"float32\",\"shape\":[400]}},\"selected\":{\"id\":\"1687\",\"type\":\"Selection\"},\"selection_policy\":{\"id\":\"1688\",\"type\":\"UnionRenderers\"}},\"id\":\"1632\",\"type\":\"ColumnDataSource\"},{\"attributes\":{\"fill_alpha\":{\"value\":0.8},\"fill_color\":{\"field\":\"fill_color\"},\"line_color\":{\"value\":null},\"radius\":{\"units\":\"data\",\"value\":1},\"x\":{\"field\":\"x\"},\"y\":{\"field\":\"y\"}},\"id\":\"1628\",\"type\":\"Circle\"},{\"attributes\":{},\"id\":\"1688\",\"type\":\"UnionRenderers\"},{\"attributes\":{\"callback\":null},\"id\":\"1600\",\"type\":\"DataRange1d\"},{\"attributes\":{\"callback\":null},\"id\":\"1602\",\"type\":\"DataRange1d\"},{\"attributes\":{},\"id\":\"1618\",\"type\":\"ZoomInTool\"},{\"attributes\":{},\"id\":\"1604\",\"type\":\"LinearScale\"},{\"attributes\":{\"level\":\"glyph\",\"source\":{\"id\":\"1632\",\"type\":\"ColumnDataSource\"},\"text\":{\"field\":\"lab\"},\"text_font_size\":{\"value\":\"7pt\"},\"x\":{\"field\":\"x\"},\"x_offset\":{\"value\":3},\"y\":{\"field\":\"y\"},\"y_offset\":{\"value\":3}},\"id\":\"1633\",\"type\":\"LabelSet\"},{\"attributes\":{},\"id\":\"1619\",\"type\":\"ZoomOutTool\"},{\"attributes\":{},\"id\":\"1606\",\"type\":\"LinearScale\"},{\"attributes\":{},\"id\":\"1620\",\"type\":\"PanTool\"},{\"attributes\":{\"formatter\":{\"id\":\"1681\",\"type\":\"BasicTickFormatter\"},\"ticker\":{\"id\":\"1609\",\"type\":\"BasicTicker\"}},\"id\":\"1608\",\"type\":\"LinearAxis\"},{\"attributes\":{},\"id\":\"1621\",\"type\":\"SaveTool\"},{\"attributes\":{},\"id\":\"1609\",\"type\":\"BasicTicker\"},{\"attributes\":{},\"id\":\"1681\",\"type\":\"BasicTickFormatter\"},{\"attributes\":{\"active_drag\":\"auto\",\"active_inspect\":\"auto\",\"active_multi\":null,\"active_scroll\":\"auto\",\"active_tap\":\"auto\",\"tools\":[{\"id\":\"1618\",\"type\":\"ZoomInTool\"},{\"id\":\"1619\",\"type\":\"ZoomOutTool\"},{\"id\":\"1620\",\"type\":\"PanTool\"},{\"id\":\"1621\",\"type\":\"SaveTool\"}]},\"id\":\"1622\",\"type\":\"Toolbar\"},{\"attributes\":{\"ticker\":{\"id\":\"1609\",\"type\":\"BasicTicker\"}},\"id\":\"1612\",\"type\":\"Grid\"},{\"attributes\":{},\"id\":\"1683\",\"type\":\"BasicTickFormatter\"},{\"attributes\":{\"fill_alpha\":{\"value\":0.1},\"fill_color\":{\"value\":\"#1f77b4\"},\"line_alpha\":{\"value\":0.1},\"line_color\":{\"value\":\"#1f77b4\"},\"radius\":{\"units\":\"data\",\"value\":1},\"x\":{\"field\":\"x\"},\"y\":{\"field\":\"y\"}},\"id\":\"1629\",\"type\":\"Circle\"},{\"attributes\":{\"data_source\":{\"id\":\"1627\",\"type\":\"ColumnDataSource\"},\"glyph\":{\"id\":\"1628\",\"type\":\"Circle\"},\"hover_glyph\":null,\"muted_glyph\":null,\"nonselection_glyph\":{\"id\":\"1629\",\"type\":\"Circle\"},\"selection_glyph\":null,\"view\":{\"id\":\"1631\",\"type\":\"CDSView\"}},\"id\":\"1630\",\"type\":\"GlyphRenderer\"},{\"attributes\":{\"formatter\":{\"id\":\"1683\",\"type\":\"BasicTickFormatter\"},\"ticker\":{\"id\":\"1614\",\"type\":\"BasicTicker\"}},\"id\":\"1613\",\"type\":\"LinearAxis\"},{\"attributes\":{},\"id\":\"1685\",\"type\":\"Selection\"},{\"attributes\":{},\"id\":\"1614\",\"type\":\"BasicTicker\"},{\"attributes\":{},\"id\":\"1686\",\"type\":\"UnionRenderers\"},{\"attributes\":{\"dimension\":1,\"ticker\":{\"id\":\"1614\",\"type\":\"BasicTicker\"}},\"id\":\"1617\",\"type\":\"Grid\"},{\"attributes\":{\"source\":{\"id\":\"1627\",\"type\":\"ColumnDataSource\"}},\"id\":\"1631\",\"type\":\"CDSView\"},{\"attributes\":{},\"id\":\"1687\",\"type\":\"Selection\"},{\"attributes\":{\"text\":\"t-SNE projection of embeddings based on the text of movie scripts\"},\"id\":\"1598\",\"type\":\"Title\"}],\"root_ids\":[\"1597\"]},\"title\":\"Bokeh Application\",\"version\":\"1.1.0\"}};\n",
       "  var render_items = [{\"docid\":\"465d81e1-c936-4de2-8968-70d3d8ce7a5b\",\"roots\":{\"1597\":\"a3e7db22-7b08-47cb-a1ae-b9f169d64148\"}}];\n",
       "  root.Bokeh.embed.embed_items_notebook(docs_json, render_items);\n",
       "\n",
       "  }\n",
       "  if (root.Bokeh !== undefined) {\n",
       "    embed_document(root);\n",
       "  } else {\n",
       "    var attempts = 0;\n",
       "    var timer = setInterval(function(root) {\n",
       "      if (root.Bokeh !== undefined) {\n",
       "        embed_document(root);\n",
       "        clearInterval(timer);\n",
       "      }\n",
       "      attempts++;\n",
       "      if (attempts > 100) {\n",
       "        console.log(\"Bokeh: ERROR: Unable to run BokehJS code because BokehJS library is missing\");\n",
       "        clearInterval(timer);\n",
       "      }\n",
       "    }, 10, root)\n",
       "  }\n",
       "})(window);"
      ],
      "application/vnd.bokehjs_exec.v0+json": ""
     },
     "metadata": {
      "application/vnd.bokehjs_exec.v0+json": {
       "id": "1597"
      }
     },
     "output_type": "display_data"
    }
   ],
   "source": [
    "final_embeddings = embed.build_graph_and_train(data, batch_size=100, \n",
    "                                         embedding_size=300, \n",
    "                                         skip_window=1, \n",
    "                                         num_skips=2, \n",
    "                                         num_sampled=20)\n",
    "\n",
    "plot_data(final_embeddings, plot_only=400, perplexity=30, n_components=2, learning_rate=200, n_iter=5000)"
   ]
  },
  {
   "cell_type": "markdown",
   "metadata": {},
   "source": [
    "![](img/bokeh_plot_6.png)"
   ]
  },
  {
   "cell_type": "markdown",
   "metadata": {},
   "source": [
    "### Compare to embeddings created by gensim word2vec  \n",
    "  \n",
    "To use the same 'plot data' function, we need two things;  \n",
    "a) final_embeddings: a numpy array of the embedding vectors, where words have been ranked by frequency  \n",
    "b) reversed_dictionary: a mapping of the frequency rank to the actual word (ie the label)"
   ]
  },
  {
   "cell_type": "markdown",
   "metadata": {},
   "source": [
    "# g) Perplexity = 30, learning_rate=200, iterations = 7500, ie same as (c) but with embeddings created using gensim"
   ]
  },
  {
   "cell_type": "code",
   "execution_count": 10,
   "metadata": {},
   "outputs": [],
   "source": [
    "# Load vectors\n",
    "movie_vectors = KeyedVectors.load('../Data/movie_model.wv', mmap='r')\n",
    "\n",
    "# KeyedVectors stores the frequency rank that we are looking for. Create a dictionary that maps the rank to\n",
    "# the word\n",
    "movie_dictionary = {movie_vectors.vocab[word].index : word \n",
    "                              for word in movie_vectors.vocab}\n",
    "\n",
    "# Sort it by rank and check how it looks\n",
    "reversed_dictionary = dict(sorted(movie_dictionary.items(), key=lambda x: x[0]))\n",
    "#reversed_dictionary"
   ]
  },
  {
   "cell_type": "code",
   "execution_count": 11,
   "metadata": {},
   "outputs": [
    {
     "data": {
      "text/plain": [
       "(52523, 100)"
      ]
     },
     "execution_count": 11,
     "metadata": {},
     "output_type": "execute_result"
    }
   ],
   "source": [
    "# Create an ordered list of the embedding vectors\n",
    "final_embeddings = []\n",
    "for i in range(len(reversed_dictionary)):\n",
    "    word = reversed_dictionary[i]\n",
    "    final_embeddings.append(movie_vectors.get_vector(word))\n",
    "    \n",
    "# Turn this list into a numpy array and check that the size is vocab*dim\n",
    "final_embeddings = np.asarray(final_embeddings)\n",
    "final_embeddings.shape"
   ]
  },
  {
   "cell_type": "code",
   "execution_count": 12,
   "metadata": {},
   "outputs": [
    {
     "data": {
      "text/plain": [
       "'snowstorm'"
      ]
     },
     "execution_count": 12,
     "metadata": {},
     "output_type": "execute_result"
    }
   ],
   "source": [
    "# Check that everything looks ok by examining the vector for a random word\n",
    "reversed_dictionary[16724]"
   ]
  },
  {
   "cell_type": "code",
   "execution_count": 13,
   "metadata": {},
   "outputs": [
    {
     "data": {
      "text/plain": [
       "array([0., 0., 0., 0., 0., 0., 0., 0., 0., 0., 0., 0., 0., 0., 0., 0., 0.,\n",
       "       0., 0., 0., 0., 0., 0., 0., 0., 0., 0., 0., 0., 0., 0., 0., 0., 0.,\n",
       "       0., 0., 0., 0., 0., 0., 0., 0., 0., 0., 0., 0., 0., 0., 0., 0., 0.,\n",
       "       0., 0., 0., 0., 0., 0., 0., 0., 0., 0., 0., 0., 0., 0., 0., 0., 0.,\n",
       "       0., 0., 0., 0., 0., 0., 0., 0., 0., 0., 0., 0., 0., 0., 0., 0., 0.,\n",
       "       0., 0., 0., 0., 0., 0., 0., 0., 0., 0., 0., 0., 0., 0., 0.],\n",
       "      dtype=float32)"
      ]
     },
     "execution_count": 13,
     "metadata": {},
     "output_type": "execute_result"
    }
   ],
   "source": [
    "final_embeddings[16724] - movie_vectors.get_vector('snowstorm')"
   ]
  },
  {
   "cell_type": "code",
   "execution_count": 14,
   "metadata": {},
   "outputs": [
    {
     "data": {
      "text/plain": [
       "0"
      ]
     },
     "execution_count": 14,
     "metadata": {},
     "output_type": "execute_result"
    }
   ],
   "source": [
    "# just to confirm\n",
    "np.count_nonzero(final_embeddings[16724] - movie_vectors.get_vector('snowstorm'))"
   ]
  },
  {
   "cell_type": "code",
   "execution_count": 15,
   "metadata": {
    "scrolled": true
   },
   "outputs": [
    {
     "data": {
      "text/html": [
       "\n",
       "\n",
       "\n",
       "\n",
       "\n",
       "\n",
       "  <div class=\"bk-root\" id=\"855d08c7-88b9-4d2c-858e-9dee9e6d0bdf\" data-root-id=\"1743\"></div>\n"
      ]
     },
     "metadata": {},
     "output_type": "display_data"
    },
    {
     "data": {
      "application/javascript": [
       "(function(root) {\n",
       "  function embed_document(root) {\n",
       "    \n",
       "  var docs_json = {\"d6fd33e1-6415-4c87-8584-9e76805b8254\":{\"roots\":{\"references\":[{\"attributes\":{\"below\":[{\"id\":\"1754\",\"type\":\"LinearAxis\"}],\"center\":[{\"id\":\"1758\",\"type\":\"Grid\"},{\"id\":\"1763\",\"type\":\"Grid\"},{\"id\":\"1779\",\"type\":\"LabelSet\"}],\"left\":[{\"id\":\"1759\",\"type\":\"LinearAxis\"}],\"plot_height\":750,\"plot_width\":750,\"renderers\":[{\"id\":\"1776\",\"type\":\"GlyphRenderer\"}],\"title\":{\"id\":\"1744\",\"type\":\"Title\"},\"toolbar\":{\"id\":\"1768\",\"type\":\"Toolbar\"},\"x_range\":{\"id\":\"1746\",\"type\":\"DataRange1d\"},\"x_scale\":{\"id\":\"1750\",\"type\":\"LinearScale\"},\"y_range\":{\"id\":\"1748\",\"type\":\"DataRange1d\"},\"y_scale\":{\"id\":\"1752\",\"type\":\"LinearScale\"}},\"id\":\"1743\",\"subtype\":\"Figure\",\"type\":\"Plot\"},{\"attributes\":{\"ticker\":{\"id\":\"1755\",\"type\":\"BasicTicker\"}},\"id\":\"1758\",\"type\":\"Grid\"},{\"attributes\":{\"callback\":null,\"data\":{\"lab\":[\"the\",\"a\",\"to\",\"and\",\"you\",\"of\",\"s\",\"in\",\"it\",\"he\",\"is\",\"his\",\"on\",\"t\",\"that\",\"at\",\"her\",\"with\",\"as\",\"she\",\"up\",\"we\",\"out\",\"for\",\"him\",\"what\",\"they\",\"this\",\"are\",\"from\",\"me\",\"but\",\"into\",\"back\",\"can\",\"there\",\"down\",\"all\",\"have\",\"re\",\"not\",\"don\",\"be\",\"m\",\"no\",\"one\",\"do\",\"my\",\"looks\",\"like\",\"then\",\"just\",\"was\",\"your\",\"know\",\"over\",\"an\",\"by\",\"get\",\"now\",\"them\",\"off\",\"about\",\"door\",\"see\",\"here\",\"so\",\"if\",\"ll\",\"got\",\"who\",\"right\",\"around\",\"go\",\"has\",\"through\",\"look\",\"man\",\"their\",\"turns\",\"d\",\"room\",\"away\",\"two\",\"how\",\"some\",\"ve\",\"when\",\"want\",\"hand\",\"going\",\"face\",\"where\",\"head\",\"eyes\",\"time\",\"think\",\"well\",\"come\",\"other\",\"been\",\"way\",\"or\",\"something\",\"good\",\"takes\",\"little\",\"more\",\"car\",\"still\",\"behind\",\"again\",\"will\",\"looking\",\"did\",\"oh\",\"take\",\"why\",\"us\",\"let\",\"hands\",\"too\",\"tell\",\"open\",\"say\",\"beat\",\"only\",\"were\",\"toward\",\"starts\",\"another\",\"before\",\"very\",\"yes\",\"comes\",\"walks\",\"front\",\"goes\",\"had\",\"pulls\",\"make\",\"would\",\"people\",\"could\",\"after\",\"sits\",\"old\",\"na\",\"long\",\"across\",\"mr\",\"yeah\",\"never\",\"stands\",\"which\",\"side\",\"phone\",\"didn\",\"table\",\"window\",\"first\",\"gets\",\"our\",\"moves\",\"sees\",\"suddenly\",\"moment\",\"doesn\",\"any\",\"gon\",\"house\",\"floor\",\"next\",\"opens\",\"even\",\"really\",\"okay\",\"three\",\"nothing\",\"thing\",\"men\",\"last\",\"sure\",\"hear\",\"himself\",\"big\",\"smiles\",\"stops\",\"against\",\"light\",\"does\",\"much\",\"steps\",\"bed\",\"night\",\"each\",\"mean\",\"need\",\"inside\",\"give\",\"its\",\"under\",\"new\",\"said\",\"wall\",\"gun\",\"than\",\"find\",\"life\",\"these\",\"street\",\"stares\",\"place\",\"water\",\"maybe\",\"day\",\"work\",\"feet\",\"anything\",\"dead\",\"doing\",\"puts\",\"trying\",\"should\",\"stop\",\"love\",\"left\",\"move\",\"hey\",\"white\",\"small\",\"guy\",\"help\",\"reaches\",\"watches\",\"girl\",\"because\",\"call\",\"am\",\"slowly\",\"coming\",\"nods\",\"talk\",\"ever\",\"black\",\"grabs\",\"put\",\"sorry\",\"woman\",\"holds\",\"past\",\"money\",\"boy\",\"thought\",\"god\",\"along\",\"standing\",\"being\",\"please\",\"while\",\"few\",\"things\",\"those\",\"both\",\"watch\",\"close\",\"arm\",\"enters\",\"better\",\"keep\",\"onto\",\"voice\",\"begins\",\"makes\",\"name\",\"runs\",\"shit\",\"end\",\"great\",\"own\",\"same\",\"body\",\"home\",\"getting\",\"seen\",\"watching\",\"half\",\"turn\",\"sir\",\"every\",\"jack\",\"won\",\"hard\",\"must\",\"sound\",\"almost\",\"leave\",\"walk\",\"outside\",\"years\",\"air\",\"top\",\"picks\",\"hell\",\"everything\",\"talking\",\"lot\",\"sitting\",\"desk\",\"glass\",\"start\",\"towards\",\"holding\",\"says\",\"father\",\"told\",\"forward\",\"between\",\"young\",\"red\",\"run\",\"shot\",\"tries\",\"isn\",\"believe\",\"always\",\"mouth\",\"five\",\"mother\",\"without\",\"smile\",\"gives\",\"blood\",\"y\",\"made\",\"second\",\"stand\",\"fuck\",\"line\",\"wait\",\"dark\",\"cont\",\"fire\",\"hair\",\"four\",\"pause\",\"arms\",\"heard\",\"enough\",\"chair\",\"continues\",\"sit\",\"bad\",\"quickly\",\"feel\",\"once\",\"together\",\"high\",\"lights\",\"john\",\"until\",\"office\",\"finally\",\"ground\",\"kind\",\"hold\",\"moving\",\"someone\",\"world\",\"real\",\"corner\",\"full\",\"f\",\"guys\",\"thank\",\"alone\",\"shoulder\",\"large\",\"mind\",\"show\",\"running\",\"seat\",\"gone\",\"taking\",\"waiting\",\"mrs\",\"might\",\"shakes\",\"ain\",\"others\",\"kill\",\"else\",\"staring\",\"above\",\"glances\",\"remember\",\"empty\",\"ta\",\"listen\",\"silence\"],\"x\":{\"__ndarray__\":\"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\",\"dtype\":\"float32\",\"shape\":[400]},\"y\":{\"__ndarray__\":\"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\",\"dtype\":\"float32\",\"shape\":[400]}},\"selected\":{\"id\":\"1842\",\"type\":\"Selection\"},\"selection_policy\":{\"id\":\"1843\",\"type\":\"UnionRenderers\"}},\"id\":\"1778\",\"type\":\"ColumnDataSource\"},{\"attributes\":{},\"id\":\"1764\",\"type\":\"ZoomInTool\"},{\"attributes\":{},\"id\":\"1843\",\"type\":\"UnionRenderers\"},{\"attributes\":{\"formatter\":{\"id\":\"1838\",\"type\":\"BasicTickFormatter\"},\"ticker\":{\"id\":\"1760\",\"type\":\"BasicTicker\"}},\"id\":\"1759\",\"type\":\"LinearAxis\"},{\"attributes\":{\"level\":\"glyph\",\"source\":{\"id\":\"1778\",\"type\":\"ColumnDataSource\"},\"text\":{\"field\":\"lab\"},\"text_font_size\":{\"value\":\"7pt\"},\"x\":{\"field\":\"x\"},\"x_offset\":{\"value\":3},\"y\":{\"field\":\"y\"},\"y_offset\":{\"value\":3}},\"id\":\"1779\",\"type\":\"LabelSet\"},{\"attributes\":{\"text\":\"t-SNE projection of embeddings based on the text of movie scripts\"},\"id\":\"1744\",\"type\":\"Title\"},{\"attributes\":{},\"id\":\"1765\",\"type\":\"ZoomOutTool\"},{\"attributes\":{},\"id\":\"1760\",\"type\":\"BasicTicker\"},{\"attributes\":{},\"id\":\"1766\",\"type\":\"PanTool\"},{\"attributes\":{\"dimension\":1,\"ticker\":{\"id\":\"1760\",\"type\":\"BasicTicker\"}},\"id\":\"1763\",\"type\":\"Grid\"},{\"attributes\":{\"callback\":null},\"id\":\"1746\",\"type\":\"DataRange1d\"},{\"attributes\":{},\"id\":\"1767\",\"type\":\"SaveTool\"},{\"attributes\":{},\"id\":\"1840\",\"type\":\"Selection\"},{\"attributes\":{\"callback\":null},\"id\":\"1748\",\"type\":\"DataRange1d\"},{\"attributes\":{},\"id\":\"1836\",\"type\":\"BasicTickFormatter\"},{\"attributes\":{\"active_drag\":\"auto\",\"active_inspect\":\"auto\",\"active_multi\":null,\"active_scroll\":\"auto\",\"active_tap\":\"auto\",\"tools\":[{\"id\":\"1764\",\"type\":\"ZoomInTool\"},{\"id\":\"1765\",\"type\":\"ZoomOutTool\"},{\"id\":\"1766\",\"type\":\"PanTool\"},{\"id\":\"1767\",\"type\":\"SaveTool\"}]},\"id\":\"1768\",\"type\":\"Toolbar\"},{\"attributes\":{\"fill_alpha\":{\"value\":0.8},\"fill_color\":{\"field\":\"fill_color\"},\"line_color\":{\"value\":null},\"radius\":{\"units\":\"data\",\"value\":1},\"x\":{\"field\":\"x\"},\"y\":{\"field\":\"y\"}},\"id\":\"1774\",\"type\":\"Circle\"},{\"attributes\":{},\"id\":\"1838\",\"type\":\"BasicTickFormatter\"},{\"attributes\":{},\"id\":\"1750\",\"type\":\"LinearScale\"},{\"attributes\":{\"fill_alpha\":{\"value\":0.1},\"fill_color\":{\"value\":\"#1f77b4\"},\"line_alpha\":{\"value\":0.1},\"line_color\":{\"value\":\"#1f77b4\"},\"radius\":{\"units\":\"data\",\"value\":1},\"x\":{\"field\":\"x\"},\"y\":{\"field\":\"y\"}},\"id\":\"1775\",\"type\":\"Circle\"},{\"attributes\":{},\"id\":\"1841\",\"type\":\"UnionRenderers\"},{\"attributes\":{},\"id\":\"1752\",\"type\":\"LinearScale\"},{\"attributes\":{\"data_source\":{\"id\":\"1773\",\"type\":\"ColumnDataSource\"},\"glyph\":{\"id\":\"1774\",\"type\":\"Circle\"},\"hover_glyph\":null,\"muted_glyph\":null,\"nonselection_glyph\":{\"id\":\"1775\",\"type\":\"Circle\"},\"selection_glyph\":null,\"view\":{\"id\":\"1777\",\"type\":\"CDSView\"}},\"id\":\"1776\",\"type\":\"GlyphRenderer\"},{\"attributes\":{\"formatter\":{\"id\":\"1836\",\"type\":\"BasicTickFormatter\"},\"ticker\":{\"id\":\"1755\",\"type\":\"BasicTicker\"}},\"id\":\"1754\",\"type\":\"LinearAxis\"},{\"attributes\":{},\"id\":\"1842\",\"type\":\"Selection\"},{\"attributes\":{},\"id\":\"1755\",\"type\":\"BasicTicker\"},{\"attributes\":{\"source\":{\"id\":\"1773\",\"type\":\"ColumnDataSource\"}},\"id\":\"1777\",\"type\":\"CDSView\"},{\"attributes\":{\"callback\":null,\"data\":{\"fill_color\":[\"#aec1a0\",\"#b6b9a0\",\"#b6c2a0\",\"#afc2a0\",\"#a699a0\",\"#aec3a0\",\"#c993a0\",\"#aac9a0\",\"#b3ada0\",\"#bbc4a0\",\"#ca92a0\",\"#b4c7a0\",\"#a4d2a0\",\"#b5a6a0\",\"#b2aea0\",\"#a0d3a0\",\"#b5c7a0\",\"#abc3a0\",\"#b0c1a0\",\"#bcc4a0\",\"#aed3a0\",\"#a598a0\",\"#accfa0\",\"#b9bfa0\",\"#b7c6a0\",\"#b7aaa0\",\"#a498a0\",\"#b3afa0\",\"#cf94a0\",\"#abc6a0\",\"#a99ba0\",\"#b3a8a0\",\"#a4d6a0\",\"#add1a0\",\"#bb8fa0\",\"#aca4a0\",\"#abd4a0\",\"#b1b2a0\",\"#c394a0\",\"#cf96a0\",\"#ae9da0\",\"#c3aba0\",\"#c99fa0\",\"#d098a0\",\"#baafa0\",\"#a3b7a0\",\"#c49da0\",\"#d5bea0\",\"#93c2a0\",\"#bea0a0\",\"#b2bfa0\",\"#b4a3a0\",\"#cc94a0\",\"#d5bda0\",\"#c3a0a0\",\"#a9d2a0\",\"#b8baa0\",\"#aec6a0\",\"#cda8a0\",\"#b4b4a0\",\"#b7c5a0\",\"#add7a0\",\"#bc9fa0\",\"#b6d1a0\",\"#cca0a0\",\"#ada3a0\",\"#b2a7a0\",\"#b2a2a0\",\"#b490a0\",\"#c298a0\",\"#b1aea0\",\"#b49da0\",\"#a9d0a0\",\"#cdaca0\",\"#c990a0\",\"#a7d4a0\",\"#c8c0a0\",\"#a4b0a0\",\"#b4caa0\",\"#95c6a0\",\"#b88da0\",\"#b7daa0\",\"#add6a0\",\"#a0b5a0\",\"#b5a9a0\",\"#afb1a0\",\"#c393a0\",\"#b5bfa0\",\"#c699a0\",\"#c7cba0\",\"#af93a0\",\"#c2cda0\",\"#bbbaa0\",\"#9ebda0\",\"#c2cfa0\",\"#a2a3a0\",\"#c2a0a0\",\"#b4a2a0\",\"#cdada0\",\"#9daea0\",\"#beaba0\",\"#a5a1a0\",\"#b6a4a0\",\"#b6aca0\",\"#acaaa0\",\"#c5b9a0\",\"#abb1a0\",\"#b09aa0\",\"#b7d6a0\",\"#b4b6a0\",\"#a6cda0\",\"#b3bda0\",\"#b58fa0\",\"#c9c1a0\",\"#b992a0\",\"#baa2a0\",\"#cea6a0\",\"#b7a7a0\",\"#a99ba0\",\"#b499a0\",\"#c8cca0\",\"#b0a7a0\",\"#c6a0a0\",\"#98cfa0\",\"#c49fa0\",\"#b6b1a0\",\"#b9b1a0\",\"#ce95a0\",\"#a6d7a0\",\"#b2cfa0\",\"#b7b9a0\",\"#b7bea0\",\"#b0a8a0\",\"#b9a4a0\",\"#c9bba0\",\"#98c4a0\",\"#a7c9a0\",\"#98c7a0\",\"#c296a0\",\"#9bcaa0\",\"#cba4a0\",\"#b78ea0\",\"#a0aaa0\",\"#b88fa0\",\"#b8bfa0\",\"#95bda0\",\"#a6b4a0\",\"#b291a0\",\"#aaada0\",\"#a9d7a0\",\"#abb4a0\",\"#b7a2a0\",\"#b0a0a0\",\"#96bda0\",\"#b0c4a0\",\"#a4c6a0\",\"#afb8a0\",\"#c2aca0\",\"#bcd7a0\",\"#b7d1a0\",\"#b9b5a0\",\"#c9b9a0\",\"#d3bda0\",\"#98c5a0\",\"#aecba0\",\"#b3bfa0\",\"#bcb6a0\",\"#be91a0\",\"#baada0\",\"#b195a0\",\"#b6d8a0\",\"#bbd0a0\",\"#a5caa0\",\"#98cea0\",\"#b3a9a0\",\"#b4a5a0\",\"#b7a0a0\",\"#9fb6a0\",\"#b7ada0\",\"#a4a4a0\",\"#9eaca0\",\"#b8b5a0\",\"#b4a0a0\",\"#cd9fa0\",\"#b8c7a0\",\"#acada0\",\"#c3c2a0\",\"#afcba0\",\"#a2d1a0\",\"#a2c1a0\",\"#bb94a0\",\"#aba8a0\",\"#9ac5a0\",\"#bdd3a0\",\"#a0a1a0\",\"#aab9a0\",\"#c0a0a0\",\"#c599a0\",\"#a8cca0\",\"#cca6a0\",\"#b3c6a0\",\"#a5d0a0\",\"#bdaea0\",\"#bf9ba0\",\"#b9cfa0\",\"#b3b9a0\",\"#b2aaa0\",\"#caa2a0\",\"#a8a4a0\",\"#d1b8a0\",\"#b4d6a0\",\"#cac3a0\",\"#a5a3a0\",\"#bdcba0\",\"#b7a2a0\",\"#a0a2a0\",\"#c6a4a0\",\"#bdcea0\",\"#b7aca0\",\"#b1b6a0\",\"#bb9aa0\",\"#9cc9a0\",\"#ae93a0\",\"#b790a0\",\"#c8ada0\",\"#bfa2a0\",\"#b2b4a0\",\"#cbb0a0\",\"#b89fa0\",\"#a6bea0\",\"#a9c0a0\",\"#a5aea0\",\"#c9a3a0\",\"#99c8a0\",\"#c0bea0\",\"#a6b0a0\",\"#b4a6a0\",\"#c8a5a0\",\"#d099a0\",\"#b3c2a0\",\"#c7b5a0\",\"#c2c2a0\",\"#cea3a0\",\"#afa0a0\",\"#a6bfa0\",\"#9ccca0\",\"#cba8a0\",\"#b59fa0\",\"#a5b1a0\",\"#9dcaa0\",\"#a8d5a0\",\"#a9a0a0\",\"#a7b1a0\",\"#bf9da0\",\"#bba2a0\",\"#a9d4a0\",\"#97bba0\",\"#b0c8a0\",\"#bba4a0\",\"#afbba0\",\"#9eb5a0\",\"#a0a8a0\",\"#d2b8a0\",\"#acbaa0\",\"#c2bca0\",\"#b4c2a0\",\"#c6cca0\",\"#9dc4a0\",\"#b29ba0\",\"#caaaa0\",\"#a4d3a0\",\"#c0b4a0\",\"#b2cea0\",\"#a7b8a0\",\"#c0b2a0\",\"#99c6a0\",\"#b89da0\",\"#a3c6a0\",\"#aeaca0\",\"#bdb2a0\",\"#b9b4a0\",\"#c1cca0\",\"#aba1a0\",\"#c8b6a0\",\"#c1a8a0\",\"#c0bca0\",\"#b0bda0\",\"#cab1a0\",\"#baa5a0\",\"#b7b6a0\",\"#b1b8a0\",\"#bd8fa0\",\"#aaaba0\",\"#b690a0\",\"#bfb6a0\",\"#b2bda0\",\"#c9a7a0\",\"#ccafa0\",\"#a8cba0\",\"#9ea4a0\",\"#bccaa0\",\"#a7c7a0\",\"#9dcba0\",\"#ba9ca0\",\"#b4ada0\",\"#a6a9a0\",\"#adb0a0\",\"#96bba0\",\"#bcd7a0\",\"#b7cca0\",\"#caada0\",\"#a7d6a0\",\"#9ecaa0\",\"#bd9aa0\",\"#bfb2a0\",\"#c09ba0\",\"#abd2a0\",\"#a4cea0\",\"#a7b4a0\",\"#a5bfa0\",\"#cbaea0\",\"#adbda0\",\"#ad92a0\",\"#c28ca0\",\"#c4a2a0\",\"#b3a4a0\",\"#c3cea0\",\"#9fb7a0\",\"#beb3a0\",\"#babda0\",\"#c4c1a0\",\"#bdc0a0\",\"#bfcba0\",\"#b79ba0\",\"#b0a4a0\",\"#bbb7a0\",\"#cfb1a0\",\"#ba9da0\",\"#adbea0\",\"#c7a8a0\",\"#a6c1a0\",\"#c19da0\",\"#b4bba0\",\"#a5bca0\",\"#a0b7a0\",\"#b6b1a0\",\"#c7cda0\",\"#c1a7a0\",\"#afa6a0\",\"#bdd4a0\",\"#b2cda0\",\"#d0b1a0\",\"#abaaa0\",\"#b3c2a0\",\"#c2a3a0\",\"#b2bba0\",\"#adbaa0\",\"#a9bda0\",\"#a1c1a0\",\"#b1b7a0\",\"#b5bea0\",\"#b7d8a0\",\"#b3bea0\",\"#bbcfa0\",\"#baa9a0\",\"#c8aaa0\",\"#c7b4a0\",\"#b5aca0\",\"#a6a4a0\",\"#afaaa0\",\"#a5c4a0\",\"#abc1a0\",\"#afb5a0\",\"#a1aaa0\",\"#bda5a0\",\"#b4b6a0\",\"#c5cba0\",\"#a9c0a0\",\"#baa6a0\",\"#c7a5a0\",\"#c6b4a0\",\"#bed4a0\",\"#b4b3a0\",\"#c5b8a0\",\"#c0bba0\",\"#abb4a0\",\"#b890a0\",\"#c1c3a0\",\"#c28ca0\",\"#9eada0\",\"#c8a2a0\",\"#b39ea0\",\"#cac2a0\",\"#a5cea0\",\"#93c3a0\",\"#c5a1a0\",\"#a8c3a0\",\"#b594a0\",\"#c7a6a0\",\"#b6b3a0\"],\"x\":{\"__ndarray__\":\"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\",\"dtype\":\"float32\",\"shape\":[400]},\"y\":{\"__ndarray__\":\"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\",\"dtype\":\"float32\",\"shape\":[400]}},\"selected\":{\"id\":\"1840\",\"type\":\"Selection\"},\"selection_policy\":{\"id\":\"1841\",\"type\":\"UnionRenderers\"}},\"id\":\"1773\",\"type\":\"ColumnDataSource\"}],\"root_ids\":[\"1743\"]},\"title\":\"Bokeh Application\",\"version\":\"1.1.0\"}};\n",
       "  var render_items = [{\"docid\":\"d6fd33e1-6415-4c87-8584-9e76805b8254\",\"roots\":{\"1743\":\"855d08c7-88b9-4d2c-858e-9dee9e6d0bdf\"}}];\n",
       "  root.Bokeh.embed.embed_items_notebook(docs_json, render_items);\n",
       "\n",
       "  }\n",
       "  if (root.Bokeh !== undefined) {\n",
       "    embed_document(root);\n",
       "  } else {\n",
       "    var attempts = 0;\n",
       "    var timer = setInterval(function(root) {\n",
       "      if (root.Bokeh !== undefined) {\n",
       "        embed_document(root);\n",
       "        clearInterval(timer);\n",
       "      }\n",
       "      attempts++;\n",
       "      if (attempts > 100) {\n",
       "        console.log(\"Bokeh: ERROR: Unable to run BokehJS code because BokehJS library is missing\");\n",
       "        clearInterval(timer);\n",
       "      }\n",
       "    }, 10, root)\n",
       "  }\n",
       "})(window);"
      ],
      "application/vnd.bokehjs_exec.v0+json": ""
     },
     "metadata": {
      "application/vnd.bokehjs_exec.v0+json": {
       "id": "1743"
      }
     },
     "output_type": "display_data"
    }
   ],
   "source": [
    "# now we should be OK to use the plot function\n",
    "plot_data(final_embeddings, plot_only=400, perplexity=30, n_components=2, learning_rate=200, n_iter=7500)"
   ]
  },
  {
   "cell_type": "markdown",
   "metadata": {},
   "source": [
    "![](img/bokeh_plot_1_1.png)"
   ]
  }
 ],
 "metadata": {
  "colab": {
   "name": "bible_w2v.ipynb",
   "provenance": [],
   "version": "0.3.2"
  },
  "kernelspec": {
   "display_name": "Python 3",
   "language": "python",
   "name": "python3"
  },
  "language_info": {
   "codemirror_mode": {
    "name": "ipython",
    "version": 3
   },
   "file_extension": ".py",
   "mimetype": "text/x-python",
   "name": "python",
   "nbconvert_exporter": "python",
   "pygments_lexer": "ipython3",
   "version": "3.6.8"
  }
 },
 "nbformat": 4,
 "nbformat_minor": 1
}
